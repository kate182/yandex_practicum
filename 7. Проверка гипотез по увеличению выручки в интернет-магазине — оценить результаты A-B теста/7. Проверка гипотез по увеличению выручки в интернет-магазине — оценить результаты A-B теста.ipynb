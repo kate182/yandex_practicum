{
 "cells": [
  {
   "cell_type": "markdown",
   "metadata": {},
   "source": [
    "**Описание проекта**\n",
    "\n",
    "Вместе с отделом маркетинга был подготовлен список гипотез для увеличения выручки.\n",
    "Необходимо провести приоритизацию гипотез, запустить A/B-тест и проанализировать его результаты."
   ]
  },
  {
   "cell_type": "markdown",
   "metadata": {},
   "source": [
    "## Приоритизация гипотез"
   ]
  },
  {
   "cell_type": "code",
   "execution_count": 1,
   "metadata": {},
   "outputs": [],
   "source": [
    "#импорт библиотек:\n",
    "import pandas as pd\n",
    "import matplotlib.pyplot as plt\n",
    "from scipy import stats\n",
    "import datetime as dt\n",
    "import numpy as np"
   ]
  },
  {
   "cell_type": "code",
   "execution_count": 2,
   "metadata": {},
   "outputs": [
    {
     "data": {
      "text/html": [
       "<div>\n",
       "<style scoped>\n",
       "    .dataframe tbody tr th:only-of-type {\n",
       "        vertical-align: middle;\n",
       "    }\n",
       "\n",
       "    .dataframe tbody tr th {\n",
       "        vertical-align: top;\n",
       "    }\n",
       "\n",
       "    .dataframe thead th {\n",
       "        text-align: right;\n",
       "    }\n",
       "</style>\n",
       "<table border=\"1\" class=\"dataframe\">\n",
       "  <thead>\n",
       "    <tr style=\"text-align: right;\">\n",
       "      <th></th>\n",
       "      <th>Hypothesis</th>\n",
       "      <th>Reach</th>\n",
       "      <th>Impact</th>\n",
       "      <th>Confidence</th>\n",
       "      <th>Efforts</th>\n",
       "    </tr>\n",
       "  </thead>\n",
       "  <tbody>\n",
       "    <tr>\n",
       "      <th>0</th>\n",
       "      <td>Добавить два новых канала привлечения трафика, что позволит привлекать на 30% больше пользователей</td>\n",
       "      <td>3</td>\n",
       "      <td>10</td>\n",
       "      <td>8</td>\n",
       "      <td>6</td>\n",
       "    </tr>\n",
       "    <tr>\n",
       "      <th>1</th>\n",
       "      <td>Запустить собственную службу доставки, что сократит срок доставки заказов</td>\n",
       "      <td>2</td>\n",
       "      <td>5</td>\n",
       "      <td>4</td>\n",
       "      <td>10</td>\n",
       "    </tr>\n",
       "    <tr>\n",
       "      <th>2</th>\n",
       "      <td>Добавить блоки рекомендаций товаров на сайт интернет магазина, чтобы повысить конверсию и средний чек заказа</td>\n",
       "      <td>8</td>\n",
       "      <td>3</td>\n",
       "      <td>7</td>\n",
       "      <td>3</td>\n",
       "    </tr>\n",
       "    <tr>\n",
       "      <th>3</th>\n",
       "      <td>Изменить структура категорий, что увеличит конверсию, т.к. пользователи быстрее найдут нужный товар</td>\n",
       "      <td>8</td>\n",
       "      <td>3</td>\n",
       "      <td>3</td>\n",
       "      <td>8</td>\n",
       "    </tr>\n",
       "    <tr>\n",
       "      <th>4</th>\n",
       "      <td>Изменить цвет фона главной страницы, чтобы увеличить вовлеченность пользователей</td>\n",
       "      <td>3</td>\n",
       "      <td>1</td>\n",
       "      <td>1</td>\n",
       "      <td>1</td>\n",
       "    </tr>\n",
       "    <tr>\n",
       "      <th>5</th>\n",
       "      <td>Добавить страницу отзывов клиентов о магазине, что позволит увеличить количество заказов</td>\n",
       "      <td>3</td>\n",
       "      <td>2</td>\n",
       "      <td>2</td>\n",
       "      <td>3</td>\n",
       "    </tr>\n",
       "    <tr>\n",
       "      <th>6</th>\n",
       "      <td>Показать на главной странице баннеры с актуальными акциями и распродажами, чтобы увеличить конверсию</td>\n",
       "      <td>5</td>\n",
       "      <td>3</td>\n",
       "      <td>8</td>\n",
       "      <td>3</td>\n",
       "    </tr>\n",
       "    <tr>\n",
       "      <th>7</th>\n",
       "      <td>Добавить форму подписки на все основные страницы, чтобы собрать базу клиентов для email-рассылок</td>\n",
       "      <td>10</td>\n",
       "      <td>7</td>\n",
       "      <td>8</td>\n",
       "      <td>5</td>\n",
       "    </tr>\n",
       "    <tr>\n",
       "      <th>8</th>\n",
       "      <td>Запустить акцию, дающую скидку на товар в день рождения</td>\n",
       "      <td>1</td>\n",
       "      <td>9</td>\n",
       "      <td>9</td>\n",
       "      <td>5</td>\n",
       "    </tr>\n",
       "  </tbody>\n",
       "</table>\n",
       "</div>"
      ],
      "text/plain": [
       "                                                                                                     Hypothesis  \\\n",
       "0            Добавить два новых канала привлечения трафика, что позволит привлекать на 30% больше пользователей   \n",
       "1                                     Запустить собственную службу доставки, что сократит срок доставки заказов   \n",
       "2  Добавить блоки рекомендаций товаров на сайт интернет магазина, чтобы повысить конверсию и средний чек заказа   \n",
       "3           Изменить структура категорий, что увеличит конверсию, т.к. пользователи быстрее найдут нужный товар   \n",
       "4                              Изменить цвет фона главной страницы, чтобы увеличить вовлеченность пользователей   \n",
       "5                      Добавить страницу отзывов клиентов о магазине, что позволит увеличить количество заказов   \n",
       "6          Показать на главной странице баннеры с актуальными акциями и распродажами, чтобы увеличить конверсию   \n",
       "7              Добавить форму подписки на все основные страницы, чтобы собрать базу клиентов для email-рассылок   \n",
       "8                                                       Запустить акцию, дающую скидку на товар в день рождения   \n",
       "\n",
       "   Reach  Impact  Confidence  Efforts  \n",
       "0      3      10           8        6  \n",
       "1      2       5           4       10  \n",
       "2      8       3           7        3  \n",
       "3      8       3           3        8  \n",
       "4      3       1           1        1  \n",
       "5      3       2           2        3  \n",
       "6      5       3           8        3  \n",
       "7     10       7           8        5  \n",
       "8      1       9           9        5  "
      ]
     },
     "execution_count": 2,
     "metadata": {},
     "output_type": "execute_result"
    }
   ],
   "source": [
    "#изучим информацию о гипотезах:\n",
    "hypotesis = pd.read_csv('downloads/hypothesis.csv')\n",
    "pd.options.display.max_colwidth = 120\n",
    "hypotesis"
   ]
  },
  {
   "cell_type": "code",
   "execution_count": 3,
   "metadata": {},
   "outputs": [
    {
     "name": "stdout",
     "output_type": "stream",
     "text": [
      "<class 'pandas.core.frame.DataFrame'>\n",
      "RangeIndex: 9 entries, 0 to 8\n",
      "Data columns (total 5 columns):\n",
      " #   Column      Non-Null Count  Dtype \n",
      "---  ------      --------------  ----- \n",
      " 0   Hypothesis  9 non-null      object\n",
      " 1   Reach       9 non-null      int64 \n",
      " 2   Impact      9 non-null      int64 \n",
      " 3   Confidence  9 non-null      int64 \n",
      " 4   Efforts     9 non-null      int64 \n",
      "dtypes: int64(4), object(1)\n",
      "memory usage: 488.0+ bytes\n"
     ]
    }
   ],
   "source": [
    "hypotesis.info()"
   ]
  },
  {
   "cell_type": "code",
   "execution_count": 4,
   "metadata": {},
   "outputs": [],
   "source": [
    "#приведем названия столбцов к нижнему регистру:\n",
    "hypotesis.columns = hypotesis.columns.str.lower()"
   ]
  },
  {
   "cell_type": "markdown",
   "metadata": {},
   "source": [
    "Данные о гипотезах корректны, пропусков нет.\n",
    "\n",
    "В файле содержатся 9 гипотез по увеличению выручки интернет-магазина. Протестировать все из них у компании нет возможности, поэтому нужно провести приоритизацию и отобрать те, которые смогут принести наибольшее улучшение метрик для компании. Применим фреймворк ISE:"
   ]
  },
  {
   "cell_type": "code",
   "execution_count": 5,
   "metadata": {},
   "outputs": [
    {
     "data": {
      "text/html": [
       "<div>\n",
       "<style scoped>\n",
       "    .dataframe tbody tr th:only-of-type {\n",
       "        vertical-align: middle;\n",
       "    }\n",
       "\n",
       "    .dataframe tbody tr th {\n",
       "        vertical-align: top;\n",
       "    }\n",
       "\n",
       "    .dataframe thead th {\n",
       "        text-align: right;\n",
       "    }\n",
       "</style>\n",
       "<table border=\"1\" class=\"dataframe\">\n",
       "  <thead>\n",
       "    <tr style=\"text-align: right;\">\n",
       "      <th></th>\n",
       "      <th>hypothesis</th>\n",
       "      <th>ICE</th>\n",
       "    </tr>\n",
       "  </thead>\n",
       "  <tbody>\n",
       "    <tr>\n",
       "      <th>8</th>\n",
       "      <td>Запустить акцию, дающую скидку на товар в день рождения</td>\n",
       "      <td>16.200000</td>\n",
       "    </tr>\n",
       "    <tr>\n",
       "      <th>0</th>\n",
       "      <td>Добавить два новых канала привлечения трафика, что позволит привлекать на 30% больше пользователей</td>\n",
       "      <td>13.333333</td>\n",
       "    </tr>\n",
       "    <tr>\n",
       "      <th>7</th>\n",
       "      <td>Добавить форму подписки на все основные страницы, чтобы собрать базу клиентов для email-рассылок</td>\n",
       "      <td>11.200000</td>\n",
       "    </tr>\n",
       "    <tr>\n",
       "      <th>6</th>\n",
       "      <td>Показать на главной странице баннеры с актуальными акциями и распродажами, чтобы увеличить конверсию</td>\n",
       "      <td>8.000000</td>\n",
       "    </tr>\n",
       "    <tr>\n",
       "      <th>2</th>\n",
       "      <td>Добавить блоки рекомендаций товаров на сайт интернет магазина, чтобы повысить конверсию и средний чек заказа</td>\n",
       "      <td>7.000000</td>\n",
       "    </tr>\n",
       "    <tr>\n",
       "      <th>1</th>\n",
       "      <td>Запустить собственную службу доставки, что сократит срок доставки заказов</td>\n",
       "      <td>2.000000</td>\n",
       "    </tr>\n",
       "    <tr>\n",
       "      <th>5</th>\n",
       "      <td>Добавить страницу отзывов клиентов о магазине, что позволит увеличить количество заказов</td>\n",
       "      <td>1.333333</td>\n",
       "    </tr>\n",
       "    <tr>\n",
       "      <th>3</th>\n",
       "      <td>Изменить структура категорий, что увеличит конверсию, т.к. пользователи быстрее найдут нужный товар</td>\n",
       "      <td>1.125000</td>\n",
       "    </tr>\n",
       "    <tr>\n",
       "      <th>4</th>\n",
       "      <td>Изменить цвет фона главной страницы, чтобы увеличить вовлеченность пользователей</td>\n",
       "      <td>1.000000</td>\n",
       "    </tr>\n",
       "  </tbody>\n",
       "</table>\n",
       "</div>"
      ],
      "text/plain": [
       "                                                                                                     hypothesis  \\\n",
       "8                                                       Запустить акцию, дающую скидку на товар в день рождения   \n",
       "0            Добавить два новых канала привлечения трафика, что позволит привлекать на 30% больше пользователей   \n",
       "7              Добавить форму подписки на все основные страницы, чтобы собрать базу клиентов для email-рассылок   \n",
       "6          Показать на главной странице баннеры с актуальными акциями и распродажами, чтобы увеличить конверсию   \n",
       "2  Добавить блоки рекомендаций товаров на сайт интернет магазина, чтобы повысить конверсию и средний чек заказа   \n",
       "1                                     Запустить собственную службу доставки, что сократит срок доставки заказов   \n",
       "5                      Добавить страницу отзывов клиентов о магазине, что позволит увеличить количество заказов   \n",
       "3           Изменить структура категорий, что увеличит конверсию, т.к. пользователи быстрее найдут нужный товар   \n",
       "4                              Изменить цвет фона главной страницы, чтобы увеличить вовлеченность пользователей   \n",
       "\n",
       "         ICE  \n",
       "8  16.200000  \n",
       "0  13.333333  \n",
       "7  11.200000  \n",
       "6   8.000000  \n",
       "2   7.000000  \n",
       "1   2.000000  \n",
       "5   1.333333  \n",
       "3   1.125000  \n",
       "4   1.000000  "
      ]
     },
     "execution_count": 5,
     "metadata": {},
     "output_type": "execute_result"
    }
   ],
   "source": [
    "hypotesis['ICE'] = hypotesis['impact']*hypotesis['confidence']/hypotesis['efforts']\n",
    "hypotesis[['hypothesis', 'ICE']].sort_values(by='ICE', ascending=False)"
   ]
  },
  {
   "cell_type": "markdown",
   "metadata": {},
   "source": [
    "Видим, что наиболее перспективными оказались 9, 1 и 8 гипотезы.\n",
    "\n",
    "Применим фреймворк RICE:"
   ]
  },
  {
   "cell_type": "code",
   "execution_count": 6,
   "metadata": {},
   "outputs": [
    {
     "data": {
      "text/html": [
       "<div>\n",
       "<style scoped>\n",
       "    .dataframe tbody tr th:only-of-type {\n",
       "        vertical-align: middle;\n",
       "    }\n",
       "\n",
       "    .dataframe tbody tr th {\n",
       "        vertical-align: top;\n",
       "    }\n",
       "\n",
       "    .dataframe thead th {\n",
       "        text-align: right;\n",
       "    }\n",
       "</style>\n",
       "<table border=\"1\" class=\"dataframe\">\n",
       "  <thead>\n",
       "    <tr style=\"text-align: right;\">\n",
       "      <th></th>\n",
       "      <th>hypothesis</th>\n",
       "      <th>RICE</th>\n",
       "    </tr>\n",
       "  </thead>\n",
       "  <tbody>\n",
       "    <tr>\n",
       "      <th>7</th>\n",
       "      <td>Добавить форму подписки на все основные страницы, чтобы собрать базу клиентов для email-рассылок</td>\n",
       "      <td>112.0</td>\n",
       "    </tr>\n",
       "    <tr>\n",
       "      <th>2</th>\n",
       "      <td>Добавить блоки рекомендаций товаров на сайт интернет магазина, чтобы повысить конверсию и средний чек заказа</td>\n",
       "      <td>56.0</td>\n",
       "    </tr>\n",
       "    <tr>\n",
       "      <th>0</th>\n",
       "      <td>Добавить два новых канала привлечения трафика, что позволит привлекать на 30% больше пользователей</td>\n",
       "      <td>40.0</td>\n",
       "    </tr>\n",
       "    <tr>\n",
       "      <th>6</th>\n",
       "      <td>Показать на главной странице баннеры с актуальными акциями и распродажами, чтобы увеличить конверсию</td>\n",
       "      <td>40.0</td>\n",
       "    </tr>\n",
       "    <tr>\n",
       "      <th>8</th>\n",
       "      <td>Запустить акцию, дающую скидку на товар в день рождения</td>\n",
       "      <td>16.2</td>\n",
       "    </tr>\n",
       "    <tr>\n",
       "      <th>3</th>\n",
       "      <td>Изменить структура категорий, что увеличит конверсию, т.к. пользователи быстрее найдут нужный товар</td>\n",
       "      <td>9.0</td>\n",
       "    </tr>\n",
       "    <tr>\n",
       "      <th>1</th>\n",
       "      <td>Запустить собственную службу доставки, что сократит срок доставки заказов</td>\n",
       "      <td>4.0</td>\n",
       "    </tr>\n",
       "    <tr>\n",
       "      <th>5</th>\n",
       "      <td>Добавить страницу отзывов клиентов о магазине, что позволит увеличить количество заказов</td>\n",
       "      <td>4.0</td>\n",
       "    </tr>\n",
       "    <tr>\n",
       "      <th>4</th>\n",
       "      <td>Изменить цвет фона главной страницы, чтобы увеличить вовлеченность пользователей</td>\n",
       "      <td>3.0</td>\n",
       "    </tr>\n",
       "  </tbody>\n",
       "</table>\n",
       "</div>"
      ],
      "text/plain": [
       "                                                                                                     hypothesis  \\\n",
       "7              Добавить форму подписки на все основные страницы, чтобы собрать базу клиентов для email-рассылок   \n",
       "2  Добавить блоки рекомендаций товаров на сайт интернет магазина, чтобы повысить конверсию и средний чек заказа   \n",
       "0            Добавить два новых канала привлечения трафика, что позволит привлекать на 30% больше пользователей   \n",
       "6          Показать на главной странице баннеры с актуальными акциями и распродажами, чтобы увеличить конверсию   \n",
       "8                                                       Запустить акцию, дающую скидку на товар в день рождения   \n",
       "3           Изменить структура категорий, что увеличит конверсию, т.к. пользователи быстрее найдут нужный товар   \n",
       "1                                     Запустить собственную службу доставки, что сократит срок доставки заказов   \n",
       "5                      Добавить страницу отзывов клиентов о магазине, что позволит увеличить количество заказов   \n",
       "4                              Изменить цвет фона главной страницы, чтобы увеличить вовлеченность пользователей   \n",
       "\n",
       "    RICE  \n",
       "7  112.0  \n",
       "2   56.0  \n",
       "0   40.0  \n",
       "6   40.0  \n",
       "8   16.2  \n",
       "3    9.0  \n",
       "1    4.0  \n",
       "5    4.0  \n",
       "4    3.0  "
      ]
     },
     "execution_count": 6,
     "metadata": {},
     "output_type": "execute_result"
    }
   ],
   "source": [
    "hypotesis['RICE'] = hypotesis['reach']*hypotesis['impact']*hypotesis['confidence']/hypotesis['efforts']\n",
    "hypotesis[['hypothesis', 'RICE']].sort_values(by='RICE', ascending=False)"
   ]
  },
  {
   "cell_type": "markdown",
   "metadata": {},
   "source": [
    "Здесь приоритеты у гипотез поменялись: наиболее перспективными стали 8, 3, 1 и 7 гипотезы. На первое место вышла восьмая гипотеза, потому что ее параметр Reach равен 10, то есть это изменение затронет максимально возможное количество пользователей. При этом Impact и Confidence у этой гипотезы тоже достаточно высоки. У третьей и первой гипотез из списка также довольно высокий параметр Reach.\n",
    "\n",
    "**Вывод**\n",
    "\n",
    "Исходя из проведенной приоретизации, стоит взять на тестирование восьмую гипотезу: стоимость ее проведения находится на среднем уровне, а уверенность в том, что она положительно повлияет на пользователей, оценена достаточно высоко. Кроме того, это изменение повлияет на максимально возможное количество пользователей, а также на их опыт и удовлетворение от продукта."
   ]
  },
  {
   "cell_type": "markdown",
   "metadata": {},
   "source": [
    "## Анализ А/В теста\n",
    "\n",
    "### Изучение данных"
   ]
  },
  {
   "cell_type": "code",
   "execution_count": 7,
   "metadata": {},
   "outputs": [
    {
     "data": {
      "text/html": [
       "<div>\n",
       "<style scoped>\n",
       "    .dataframe tbody tr th:only-of-type {\n",
       "        vertical-align: middle;\n",
       "    }\n",
       "\n",
       "    .dataframe tbody tr th {\n",
       "        vertical-align: top;\n",
       "    }\n",
       "\n",
       "    .dataframe thead th {\n",
       "        text-align: right;\n",
       "    }\n",
       "</style>\n",
       "<table border=\"1\" class=\"dataframe\">\n",
       "  <thead>\n",
       "    <tr style=\"text-align: right;\">\n",
       "      <th></th>\n",
       "      <th>transactionId</th>\n",
       "      <th>visitorId</th>\n",
       "      <th>date</th>\n",
       "      <th>revenue</th>\n",
       "      <th>group</th>\n",
       "    </tr>\n",
       "  </thead>\n",
       "  <tbody>\n",
       "    <tr>\n",
       "      <th>0</th>\n",
       "      <td>3667963787</td>\n",
       "      <td>3312258926</td>\n",
       "      <td>2019-08-15</td>\n",
       "      <td>1650</td>\n",
       "      <td>B</td>\n",
       "    </tr>\n",
       "    <tr>\n",
       "      <th>1</th>\n",
       "      <td>2804400009</td>\n",
       "      <td>3642806036</td>\n",
       "      <td>2019-08-15</td>\n",
       "      <td>730</td>\n",
       "      <td>B</td>\n",
       "    </tr>\n",
       "    <tr>\n",
       "      <th>2</th>\n",
       "      <td>2961555356</td>\n",
       "      <td>4069496402</td>\n",
       "      <td>2019-08-15</td>\n",
       "      <td>400</td>\n",
       "      <td>A</td>\n",
       "    </tr>\n",
       "    <tr>\n",
       "      <th>3</th>\n",
       "      <td>3797467345</td>\n",
       "      <td>1196621759</td>\n",
       "      <td>2019-08-15</td>\n",
       "      <td>9759</td>\n",
       "      <td>B</td>\n",
       "    </tr>\n",
       "    <tr>\n",
       "      <th>4</th>\n",
       "      <td>2282983706</td>\n",
       "      <td>2322279887</td>\n",
       "      <td>2019-08-15</td>\n",
       "      <td>2308</td>\n",
       "      <td>B</td>\n",
       "    </tr>\n",
       "  </tbody>\n",
       "</table>\n",
       "</div>"
      ],
      "text/plain": [
       "   transactionId   visitorId        date  revenue group\n",
       "0     3667963787  3312258926  2019-08-15     1650     B\n",
       "1     2804400009  3642806036  2019-08-15      730     B\n",
       "2     2961555356  4069496402  2019-08-15      400     A\n",
       "3     3797467345  1196621759  2019-08-15     9759     B\n",
       "4     2282983706  2322279887  2019-08-15     2308     B"
      ]
     },
     "execution_count": 7,
     "metadata": {},
     "output_type": "execute_result"
    }
   ],
   "source": [
    "#изучим информацию о заказах:\n",
    "orders = pd.read_csv('downloads/orders (1).csv')\n",
    "orders.head()"
   ]
  },
  {
   "cell_type": "code",
   "execution_count": 8,
   "metadata": {},
   "outputs": [
    {
     "name": "stdout",
     "output_type": "stream",
     "text": [
      "<class 'pandas.core.frame.DataFrame'>\n",
      "RangeIndex: 1197 entries, 0 to 1196\n",
      "Data columns (total 5 columns):\n",
      " #   Column         Non-Null Count  Dtype \n",
      "---  ------         --------------  ----- \n",
      " 0   transactionId  1197 non-null   int64 \n",
      " 1   visitorId      1197 non-null   int64 \n",
      " 2   date           1197 non-null   object\n",
      " 3   revenue        1197 non-null   int64 \n",
      " 4   group          1197 non-null   object\n",
      "dtypes: int64(3), object(2)\n",
      "memory usage: 46.9+ KB\n"
     ]
    }
   ],
   "source": [
    "orders.info()"
   ]
  },
  {
   "cell_type": "code",
   "execution_count": 9,
   "metadata": {},
   "outputs": [],
   "source": [
    "#переименуем столбцы:\n",
    "orders.columns = ['order_id', 'user_id', 'date', 'revenue', 'group']\n",
    "#переведем столбец с датами в соответствующий формат:\n",
    "orders['date'] = orders['date'].map(lambda x: dt.datetime.strptime(x, '%Y-%m-%d'))"
   ]
  },
  {
   "cell_type": "code",
   "execution_count": 10,
   "metadata": {},
   "outputs": [
    {
     "data": {
      "text/html": [
       "<div>\n",
       "<style scoped>\n",
       "    .dataframe tbody tr th:only-of-type {\n",
       "        vertical-align: middle;\n",
       "    }\n",
       "\n",
       "    .dataframe tbody tr th {\n",
       "        vertical-align: top;\n",
       "    }\n",
       "\n",
       "    .dataframe thead th {\n",
       "        text-align: right;\n",
       "    }\n",
       "</style>\n",
       "<table border=\"1\" class=\"dataframe\">\n",
       "  <thead>\n",
       "    <tr style=\"text-align: right;\">\n",
       "      <th></th>\n",
       "      <th>order_id</th>\n",
       "      <th>user_id</th>\n",
       "      <th>date</th>\n",
       "      <th>revenue</th>\n",
       "      <th>group</th>\n",
       "    </tr>\n",
       "  </thead>\n",
       "  <tbody>\n",
       "  </tbody>\n",
       "</table>\n",
       "</div>"
      ],
      "text/plain": [
       "Empty DataFrame\n",
       "Columns: [order_id, user_id, date, revenue, group]\n",
       "Index: []"
      ]
     },
     "execution_count": 10,
     "metadata": {},
     "output_type": "execute_result"
    }
   ],
   "source": [
    "#проверим датафрейм на дубликаты:\n",
    "orders[orders.duplicated()]"
   ]
  },
  {
   "cell_type": "code",
   "execution_count": 11,
   "metadata": {},
   "outputs": [
    {
     "data": {
      "text/html": [
       "<div>\n",
       "<style scoped>\n",
       "    .dataframe tbody tr th:only-of-type {\n",
       "        vertical-align: middle;\n",
       "    }\n",
       "\n",
       "    .dataframe tbody tr th {\n",
       "        vertical-align: top;\n",
       "    }\n",
       "\n",
       "    .dataframe thead th {\n",
       "        text-align: right;\n",
       "    }\n",
       "</style>\n",
       "<table border=\"1\" class=\"dataframe\">\n",
       "  <thead>\n",
       "    <tr style=\"text-align: right;\">\n",
       "      <th></th>\n",
       "      <th>date</th>\n",
       "      <th>group</th>\n",
       "      <th>visitors</th>\n",
       "    </tr>\n",
       "  </thead>\n",
       "  <tbody>\n",
       "    <tr>\n",
       "      <th>0</th>\n",
       "      <td>2019-08-01</td>\n",
       "      <td>A</td>\n",
       "      <td>719</td>\n",
       "    </tr>\n",
       "    <tr>\n",
       "      <th>1</th>\n",
       "      <td>2019-08-02</td>\n",
       "      <td>A</td>\n",
       "      <td>619</td>\n",
       "    </tr>\n",
       "    <tr>\n",
       "      <th>2</th>\n",
       "      <td>2019-08-03</td>\n",
       "      <td>A</td>\n",
       "      <td>507</td>\n",
       "    </tr>\n",
       "    <tr>\n",
       "      <th>3</th>\n",
       "      <td>2019-08-04</td>\n",
       "      <td>A</td>\n",
       "      <td>717</td>\n",
       "    </tr>\n",
       "    <tr>\n",
       "      <th>4</th>\n",
       "      <td>2019-08-05</td>\n",
       "      <td>A</td>\n",
       "      <td>756</td>\n",
       "    </tr>\n",
       "  </tbody>\n",
       "</table>\n",
       "</div>"
      ],
      "text/plain": [
       "         date group  visitors\n",
       "0  2019-08-01     A       719\n",
       "1  2019-08-02     A       619\n",
       "2  2019-08-03     A       507\n",
       "3  2019-08-04     A       717\n",
       "4  2019-08-05     A       756"
      ]
     },
     "execution_count": 11,
     "metadata": {},
     "output_type": "execute_result"
    }
   ],
   "source": [
    "#изучим информацию о пользователях:\n",
    "visitors = pd.read_csv('downloads/visitors.csv')\n",
    "visitors.head()"
   ]
  },
  {
   "cell_type": "code",
   "execution_count": 12,
   "metadata": {},
   "outputs": [
    {
     "name": "stdout",
     "output_type": "stream",
     "text": [
      "<class 'pandas.core.frame.DataFrame'>\n",
      "RangeIndex: 62 entries, 0 to 61\n",
      "Data columns (total 3 columns):\n",
      " #   Column    Non-Null Count  Dtype \n",
      "---  ------    --------------  ----- \n",
      " 0   date      62 non-null     object\n",
      " 1   group     62 non-null     object\n",
      " 2   visitors  62 non-null     int64 \n",
      "dtypes: int64(1), object(2)\n",
      "memory usage: 1.6+ KB\n"
     ]
    }
   ],
   "source": [
    "visitors.info()"
   ]
  },
  {
   "cell_type": "code",
   "execution_count": 13,
   "metadata": {},
   "outputs": [],
   "source": [
    "#приведем столбец с датами в соответствующий формат:\n",
    "visitors['date'] = visitors['date'].map(lambda x: dt.datetime.strptime(x, '%Y-%m-%d'))"
   ]
  },
  {
   "cell_type": "code",
   "execution_count": 14,
   "metadata": {},
   "outputs": [
    {
     "data": {
      "text/html": [
       "<div>\n",
       "<style scoped>\n",
       "    .dataframe tbody tr th:only-of-type {\n",
       "        vertical-align: middle;\n",
       "    }\n",
       "\n",
       "    .dataframe tbody tr th {\n",
       "        vertical-align: top;\n",
       "    }\n",
       "\n",
       "    .dataframe thead th {\n",
       "        text-align: right;\n",
       "    }\n",
       "</style>\n",
       "<table border=\"1\" class=\"dataframe\">\n",
       "  <thead>\n",
       "    <tr style=\"text-align: right;\">\n",
       "      <th></th>\n",
       "      <th>date</th>\n",
       "      <th>group</th>\n",
       "      <th>visitors</th>\n",
       "    </tr>\n",
       "  </thead>\n",
       "  <tbody>\n",
       "  </tbody>\n",
       "</table>\n",
       "</div>"
      ],
      "text/plain": [
       "Empty DataFrame\n",
       "Columns: [date, group, visitors]\n",
       "Index: []"
      ]
     },
     "execution_count": 14,
     "metadata": {},
     "output_type": "execute_result"
    }
   ],
   "source": [
    "#проверим датафрейм на дубликаты:\n",
    "visitors[visitors.duplicated()]"
   ]
  },
  {
   "cell_type": "markdown",
   "metadata": {},
   "source": [
    "Данные загружены корректно. Пропусков и дубликатов в данных нет. В обоих датафреймах был переведен тип данных в столбцах date из строки во временной."
   ]
  },
  {
   "cell_type": "code",
   "execution_count": 16,
   "metadata": {},
   "outputs": [
    {
     "data": {
      "text/html": [
       "<div>\n",
       "<style scoped>\n",
       "    .dataframe tbody tr th:only-of-type {\n",
       "        vertical-align: middle;\n",
       "    }\n",
       "\n",
       "    .dataframe tbody tr th {\n",
       "        vertical-align: top;\n",
       "    }\n",
       "\n",
       "    .dataframe thead th {\n",
       "        text-align: right;\n",
       "    }\n",
       "</style>\n",
       "<table border=\"1\" class=\"dataframe\">\n",
       "  <thead>\n",
       "    <tr style=\"text-align: right;\">\n",
       "      <th></th>\n",
       "      <th>visitors</th>\n",
       "    </tr>\n",
       "    <tr>\n",
       "      <th>group</th>\n",
       "      <th></th>\n",
       "    </tr>\n",
       "  </thead>\n",
       "  <tbody>\n",
       "    <tr>\n",
       "      <th>A</th>\n",
       "      <td>18736</td>\n",
       "    </tr>\n",
       "    <tr>\n",
       "      <th>B</th>\n",
       "      <td>18916</td>\n",
       "    </tr>\n",
       "  </tbody>\n",
       "</table>\n",
       "</div>"
      ],
      "text/plain": [
       "       visitors\n",
       "group          \n",
       "A         18736\n",
       "B         18916"
      ]
     },
     "execution_count": 16,
     "metadata": {},
     "output_type": "execute_result"
    }
   ],
   "source": [
    "#посмотрим, сколько пользователей в каждой группе:\n",
    "visitors.groupby('group').agg({'visitors':'sum'})"
   ]
  },
  {
   "cell_type": "code",
   "execution_count": 17,
   "metadata": {},
   "outputs": [],
   "source": [
    "#удалим пользователей, присутствующих в обеих группах:\n",
    "mask = orders.loc[orders[\"user_id\"].isin(orders_a['user_id'])& orders[\"user_id\"].isin(orders_b['user_id'])]\n",
    "orders = orders.loc[~orders['user_id'].isin(mask['user_id'])]"
   ]
  },
  {
   "cell_type": "code",
   "execution_count": 18,
   "metadata": {},
   "outputs": [
    {
     "data": {
      "text/plain": [
       "181"
      ]
     },
     "execution_count": 18,
     "metadata": {},
     "output_type": "execute_result"
    }
   ],
   "source": [
    "#подсчитаем, сколько строк будет удалено:\n",
    "len(mask)"
   ]
  },
  {
   "cell_type": "code",
   "execution_count": 23,
   "metadata": {},
   "outputs": [
    {
     "data": {
      "text/plain": [
       "array(['B', 'A'], dtype=object)"
      ]
     },
     "execution_count": 23,
     "metadata": {},
     "output_type": "execute_result"
    }
   ],
   "source": [
    "#проверим, сколько групп есть в датасете:\n",
    "orders['group'].unique()"
   ]
  },
  {
   "cell_type": "markdown",
   "metadata": {},
   "source": [
    "### Изучение кумулятивных метрик"
   ]
  },
  {
   "cell_type": "code",
   "execution_count": 24,
   "metadata": {},
   "outputs": [
    {
     "data": {
      "image/png": "[encoded data removed]",
      "text/plain": [
       "<Figure size 936x504 with 1 Axes>"
      ]
     },
     "metadata": {
      "needs_background": "light"
     },
     "output_type": "display_data"
    }
   ],
   "source": [
    "#создадим датафрейм с уникальными парами дат и названий групп:\n",
    "dates_group = orders[['date', 'group']].drop_duplicates()\n",
    "\n",
    "#создадим переменные с агрегированными значениями по заказам и пользователям:\n",
    "orders_agg = dates_group.apply(lambda x: orders[np.logical_and(orders['date'] <= x['date'],\n",
    "                                                        orders['group'] == x['group'])]\n",
    "                              .agg({'date':'max',\n",
    "                                    'group':'max',\n",
    "                                    'order_id':'nunique',\n",
    "                                    'user_id':'nunique',\n",
    "                                    'revenue':'sum'}), axis=1).sort_values(by=['date', 'group'])\n",
    "visitors_agg = dates_group.apply(lambda x: visitors[np.logical_and(visitors['date'] <= x['date'],\n",
    "                                                        visitors['group'] == x['group'])]\n",
    "                              .agg({'date':'max',\n",
    "                                    'group':'max',\n",
    "                                    'visitors':'sum'}), axis=1).sort_values(by=['date', 'group'])\n",
    "\n",
    "#соединим два датафрейма:\n",
    "cum_data = orders_agg.merge(visitors_agg, left_on=['date', 'group'], right_on=['date', 'group'])\n",
    "\n",
    "#сделаем срез по каждой группе:\n",
    "cum_data_a_revenue = cum_data[cum_data['group'] == 'A'][['date', 'revenue', 'order_id']]\n",
    "cum_data_b_revenue = cum_data[cum_data['group'] == 'B'][['date', 'revenue', 'order_id']]\n",
    "\n",
    "#построим график кумулятивной выручки:\n",
    "plt.figure(figsize=(13, 7))\n",
    "plt.plot(cum_data_a_revenue['date'], cum_data_a_revenue['revenue'], label='A')\n",
    "plt.plot(cum_data_b_revenue['date'], cum_data_b_revenue['revenue'], label='B')\n",
    "plt.legend(fontsize=15)\n",
    "plt.title('График кумулятивной выручки по группам')\n",
    "plt.xlabel('Дата')\n",
    "plt.ylabel('Выручка, млн');"
   ]
  },
  {
   "cell_type": "markdown",
   "metadata": {},
   "source": [
    "По графику видно, что выручка в группе В практически всегда была выше, но при этом наблюдается резкий скачок в этой группе. Скорее всего, на результат повлияли заказы на аномально большие суммы."
   ]
  },
  {
   "cell_type": "code",
   "execution_count": 25,
   "metadata": {},
   "outputs": [
    {
     "data": {
      "image/png": "[encoded data removed]",
      "text/plain": [
       "<Figure size 936x504 with 1 Axes>"
      ]
     },
     "metadata": {
      "needs_background": "light"
     },
     "output_type": "display_data"
    }
   ],
   "source": [
    "#построим график кумулятивного среднего чека по группам:\n",
    "plt.figure(figsize=(13, 7))\n",
    "plt.plot(cum_data_a_revenue['date'], \n",
    "         cum_data_a_revenue['revenue']/cum_data_a_revenue['order_id'], \n",
    "         label='A')\n",
    "plt.plot(cum_data_b_revenue['date'], \n",
    "         cum_data_b_revenue['revenue']/cum_data_b_revenue['order_id'], \n",
    "         label='B')\n",
    "plt.legend(fontsize=15)\n",
    "plt.title('График кумулятивного среднего чека по группам')\n",
    "plt.xlabel('Дата')\n",
    "plt.ylabel('Средний чек, руб');"
   ]
  },
  {
   "cell_type": "markdown",
   "metadata": {},
   "source": [
    "Здесь также виден резкий скачок среднего чека в группе В - скорее всего, в этот момент был совершен заказ на очень большую сумму. При этом можно сказать, что средний чек в группе А зафиксировался в диапазоне около 7000 рублей."
   ]
  },
  {
   "cell_type": "code",
   "execution_count": 26,
   "metadata": {},
   "outputs": [
    {
     "data": {
      "image/png": "[encoded data removed]",
      "text/plain": [
       "<Figure size 936x504 with 1 Axes>"
      ]
     },
     "metadata": {
      "needs_background": "light"
     },
     "output_type": "display_data"
    }
   ],
   "source": [
    "#построим график относительного изменения кумулятивного среднего чека группы B к группе A:\n",
    "merged_cum_revenue = cum_data_a_revenue.merge(cum_data_b_revenue, \n",
    "                                              left_on='date', \n",
    "                                              right_on='date', \n",
    "                                              suffixes=['A', 'B'])\n",
    "plt.figure(figsize=(13, 7))\n",
    "plt.plot(merged_cum_revenue['date'], \n",
    "         (merged_cum_revenue['revenueB']/merged_cum_revenue['order_idB'])/\\\n",
    "         (merged_cum_revenue['revenueA']/merged_cum_revenue['order_idA'])-1)\n",
    "plt.axhline(y=0, color='black', linestyle='--')\n",
    "plt.title('График относительного изменения кумулятивного среднего чека группы В к группе А')\n",
    "plt.xlabel('Дата')\n",
    "plt.ylabel('Отношение среднего чека группы В к среднему чеку группы А');"
   ]
  },
  {
   "cell_type": "markdown",
   "metadata": {},
   "source": [
    "Отношение среднего чека группы В к среднему чеку группы А резко менялось несколько раз - это тоже говорит о наличии аномальных заказов."
   ]
  },
  {
   "cell_type": "code",
   "execution_count": 27,
   "metadata": {},
   "outputs": [
    {
     "data": {
      "image/png": "[encoded data removed]",
      "text/plain": [
       "<Figure size 936x432 with 1 Axes>"
      ]
     },
     "metadata": {
      "needs_background": "light"
     },
     "output_type": "display_data"
    }
   ],
   "source": [
    "#создадим столбец со значением конверсии:\n",
    "cum_data['conversion'] = cum_data['order_id']/cum_data['visitors']\n",
    "\n",
    "#следаем среды по группам:\n",
    "cum_data_a_conversion = cum_data[cum_data['group'] == 'A']\n",
    "cum_data_b_conversion = cum_data[cum_data['group'] == 'B']\n",
    "\n",
    "#построим график кумулятивной конверсии по группам:\n",
    "plt.figure(figsize=(13, 6))\n",
    "plt.plot(cum_data_a_conversion['date'], cum_data_a_conversion['conversion'], label='A')\n",
    "plt.plot(cum_data_b_conversion['date'], cum_data_b_conversion['conversion'], label='B')\n",
    "plt.legend(fontsize=15)\n",
    "plt.axis([dt.datetime(2019, 8, 1), dt.datetime(2019, 9, 1), 0, 0.05])\n",
    "plt.title('График кумулятивной конверсии по группам')\n",
    "plt.xlabel('Дата')\n",
    "plt.ylabel('Конверсия');"
   ]
  },
  {
   "cell_type": "markdown",
   "metadata": {},
   "source": [
    "В начале теста конверсии колебались в обеих группах. Но примерно через неделю конверсия в группе В стала выше, чем конверсия в группе А, и оставалась лидером до конца теста. Можно сказать, что обе конверсии зафиксировались: в группе А - на уровне 2,5%, в группе В - 3,2%."
   ]
  },
  {
   "cell_type": "code",
   "execution_count": 28,
   "metadata": {},
   "outputs": [
    {
     "data": {
      "image/png": "[encoded data removed]",
      "text/plain": [
       "<Figure size 936x504 with 1 Axes>"
      ]
     },
     "metadata": {
      "needs_background": "light"
     },
     "output_type": "display_data"
    }
   ],
   "source": [
    "#соберем информацию о конверсиях в разных группах в один датафрейм:\n",
    "merged_cum_conv = cum_data_a_conversion[['date', \n",
    "                                         'conversion']].merge(cum_data_b_conversion[['date', \n",
    "                                                                                     'conversion']],\n",
    "                                                          left_on='date', right_on='date',\n",
    "                                                          suffixes=['A', 'B'])\n",
    "\n",
    "#построим график относительного изменения кумулятивной конверсии группы B к группе A:\n",
    "plt.figure(figsize=(13, 7))\n",
    "plt.plot(merged_cum_conv['date'], merged_cum_conv['conversionB']/\\\n",
    "                    merged_cum_conv['conversionA']-1)\n",
    "plt.axhline(y=0, color='black', linestyle='--')\n",
    "plt.title('График относительного изменения конверсии группы В к группе А')\n",
    "plt.xlabel('Дата')\n",
    "plt.ylabel('Отношение конверсии группы В к конверсии группы А');"
   ]
  },
  {
   "cell_type": "markdown",
   "metadata": {},
   "source": [
    "В начале теста отношение конверсий колебалось: конверсия в группе В была то выше, то ниже, чем в группе А. Но примерно через неделю конверсия в группе В стала выше конверсии в группе А и оставалось такой до конца теста."
   ]
  },
  {
   "cell_type": "markdown",
   "metadata": {},
   "source": [
    "### Анализ выбросов"
   ]
  },
  {
   "cell_type": "code",
   "execution_count": 29,
   "metadata": {},
   "outputs": [
    {
     "data": {
      "image/png": "[encoded data removed]",
      "text/plain": [
       "<Figure size 936x432 with 1 Axes>"
      ]
     },
     "metadata": {
      "needs_background": "light"
     },
     "output_type": "display_data"
    }
   ],
   "source": [
    "#подсчитаем количество заказов по пользователям:\n",
    "orders_by_user = orders.groupby('user_id', as_index=False).agg({'order_id':'nunique'})\n",
    "orders_by_user.columns = ['user_id', 'orders']\n",
    "#построим точечный график количества заказов по пользователям:\n",
    "x_values = pd.Series(range(0, len(orders_by_user)))\n",
    "plt.figure(figsize=(13, 6))\n",
    "plt.scatter(x_values, orders_by_user['orders'])\n",
    "plt.title('Количество заказов на одного пользователя')\n",
    "plt.xlabel('Идентификатор пользователя')\n",
    "plt.ylabel('Количество заказов пользователя');"
   ]
  },
  {
   "cell_type": "markdown",
   "metadata": {},
   "source": [
    "Большинство пользователей совершило 1 заказ. Также довольно много тех, кто совершил 2 заказа. Тех, кто совершил 3 заказа и более, совсем немного. Чтобы проверить, являются ли данные пользователи аномальными, посчитаем 90, 95 и 99 выборочные перцентили количества заказов:"
   ]
  },
  {
   "cell_type": "code",
   "execution_count": 30,
   "metadata": {},
   "outputs": [
    {
     "data": {
      "text/plain": [
       "array([1., 1., 2.])"
      ]
     },
     "execution_count": 30,
     "metadata": {},
     "output_type": "execute_result"
    }
   ],
   "source": [
    "per_orders = np.percentile(orders_by_user['orders'], [90, 95, 99])\n",
    "per_orders"
   ]
  },
  {
   "cell_type": "markdown",
   "metadata": {},
   "source": [
    "Не более Не более 1% совершали больше 3 заказов. Таким образом, за аномальное количество заказов на пользователя можно принять 3 и более заказов на протяжении теста."
   ]
  },
  {
   "cell_type": "code",
   "execution_count": 31,
   "metadata": {},
   "outputs": [
    {
     "data": {
      "image/png": "[encoded data removed]",
      "text/plain": [
       "<Figure size 936x432 with 1 Axes>"
      ]
     },
     "metadata": {
      "needs_background": "light"
     },
     "output_type": "display_data"
    }
   ],
   "source": [
    "#построим точечный график стоимостей заказов:\n",
    "x_values = pd.Series(range(0, len(orders['revenue'])))\n",
    "plt.figure(figsize=(13, 6))\n",
    "plt.scatter(x_values, orders['revenue'])\n",
    "plt.title('Точечный график стоимостей заказов')\n",
    "plt.xlabel('Идентификатор пользователя')\n",
    "plt.ylabel('Сумма заказа, млн');"
   ]
  },
  {
   "cell_type": "code",
   "execution_count": 32,
   "metadata": {},
   "outputs": [
    {
     "data": {
      "image/png": "[encoded data removed]",
      "text/plain": [
       "<Figure size 936x432 with 1 Axes>"
      ]
     },
     "metadata": {
      "needs_background": "light"
     },
     "output_type": "display_data"
    }
   ],
   "source": [
    "#изобразим тот же график, но с ограничением по оси y:\n",
    "x_values = pd.Series(range(0, len(orders['revenue'])))\n",
    "plt.figure(figsize=(13, 6))\n",
    "plt.scatter(x_values, orders['revenue'])\n",
    "plt.title('Точечный график стоимостей заказов')\n",
    "plt.xlabel('Идентификатор пользователя')\n",
    "plt.ylabel('Сумма заказа, млн')\n",
    "plt.ylim(0, 100000);"
   ]
  },
  {
   "cell_type": "markdown",
   "metadata": {},
   "source": [
    "На графике явно видно 2 аномально больших заказа на сумму около 200000 рублей и 1,3 миллионов рублей. Посчитаем 95 и 99 выборочные перцентили выручки:"
   ]
  },
  {
   "cell_type": "code",
   "execution_count": 33,
   "metadata": {},
   "outputs": [
    {
     "data": {
      "text/plain": [
       "array([26785., 53904.])"
      ]
     },
     "execution_count": 33,
     "metadata": {},
     "output_type": "execute_result"
    }
   ],
   "source": [
    "per_sum = np.percentile(orders['revenue'], [95, 99])\n",
    "per_sum"
   ]
  },
  {
   "cell_type": "markdown",
   "metadata": {},
   "source": [
    "Не более 5% пользователей совершали заказы на сумму более 28000 рублей, а не более 1% - на сумму более 58233.2 рублей. Возьмем последнюю сумму за аномальное значение."
   ]
  },
  {
   "cell_type": "markdown",
   "metadata": {},
   "source": [
    "### Анализ результатов А/В теста\n",
    "\n",
    "Проверим статистическую значимость различий в конверсии для пользователей обеих групп по сырым данным. Нулевая гипотеза в данном случае будет звучать так: \"конверсия для обеих групп одинаковая\", альтернативная гипотеза - \"конверсия в группах А и В различается\"."
   ]
  },
  {
   "cell_type": "code",
   "execution_count": 34,
   "metadata": {},
   "outputs": [
    {
     "data": {
      "text/plain": [
       "'p-value = 0.011'"
      ]
     },
     "metadata": {},
     "output_type": "display_data"
    },
    {
     "data": {
      "text/plain": [
       "'Относительное различие между группами - 0.160'"
      ]
     },
     "metadata": {},
     "output_type": "display_data"
    }
   ],
   "source": [
    "#создадим переменные с количеством пользователей по датам для каждой группы:\n",
    "visits_daily_a = visitors[visitors['group'] == 'A'][['date', 'visitors']]\n",
    "\n",
    "visits_daily_b = visitors[visitors['group'] == 'B'][['date', 'visitors']]\n",
    "\n",
    "#создадим переменные с информацией о заказах:\n",
    "orders_daily_a = orders[orders['group'] == 'A'][['date', 'order_id', 'user_id', 'revenue']].groupby(\n",
    "    'date', as_index=False).agg({'order_id': 'nunique', 'revenue':'sum'})\n",
    "#\n",
    "orders_daily_b = orders[orders['group'] == 'B'][['date', 'order_id', 'user_id', 'revenue']].groupby(\n",
    "    'date', as_index=False).agg({'order_id': 'nunique', 'revenue':'sum'})\n",
    "              \n",
    "\n",
    "#подсчитаем количество заказов по каждому пользователю:\n",
    "orders_by_user_a = orders[orders['group'] == 'A'].groupby('user_id', as_index=False).agg(\n",
    "    {'order_id': 'nunique'})\n",
    "orders_by_user_a.columns = ['user_id', 'orders']\n",
    "orders_by_user_b = orders[orders['group'] == 'B'].groupby('user_id', as_index=False).agg(\n",
    "    {'order_id': 'nunique'})\n",
    "orders_by_user_b.columns = ['user_id', 'orders']\n",
    "\n",
    "#создадим переменные, где каждому пользователю будет соответствовать число его заказов:\n",
    "sample_a = pd.concat(\n",
    "    [orders_by_user_a['orders'], \n",
    "     pd.Series(0, index=np.arange(visits_daily_a['visitors'].sum() \n",
    "                                  - len(orders_by_user_a['orders'])), name='orders')],\n",
    "    axis=0)\n",
    "sample_b = pd.concat(\n",
    "    [orders_by_user_b['orders'], \n",
    "     pd.Series(0, index=np.arange(visits_daily_b['visitors'].sum() \n",
    "                                  - len(orders_by_user_b['orders'])), name='orders')],\n",
    "    axis=0)\n",
    "\n",
    "#посчитаем статистическую значимость различий в конверсии между группами по «сырым» данным\n",
    "display(\"p-value = {0:.3f}\".format(stats.mannwhitneyu(sample_a, sample_b)[1]))\n",
    "display(\"Относительное различие между группами - {0:.3f}\".format(sample_b.mean()/sample_a.mean() - 1))"
   ]
  },
  {
   "cell_type": "markdown",
   "metadata": {},
   "source": [
    "P-value меньше 0.05 - значит, различия конверсии в сырых данных между группами А и В есть. Нулевую гипотезу отвергаем. Относительное превышение конверсии в группе В над группой А составляет 13,8%.\n",
    "\n",
    "Теперь проверим статистическу значимость различий в среднем чеке между группами по сырым данным. Нулевая гипотеза здесь - \"средний чек для покупателей из обоих групп одинаковый\", альтернативная - \"средний чек в группах А и В различается\"."
   ]
  },
  {
   "cell_type": "code",
   "execution_count": 35,
   "metadata": {},
   "outputs": [
    {
     "data": {
      "text/plain": [
       "'p-value = 0.829'"
      ]
     },
     "metadata": {},
     "output_type": "display_data"
    },
    {
     "data": {
      "text/plain": [
       "'Относительное различие между группами - 0.287'"
      ]
     },
     "metadata": {},
     "output_type": "display_data"
    }
   ],
   "source": [
    "display(\"p-value = {0:.3f}\".format(stats.mannwhitneyu(orders[orders['group'] == 'A']['revenue'], \n",
    "                                                      orders[orders['group'] == 'B']['revenue'])[1]))\n",
    "display(\"Относительное различие между группами \\\n",
    "- {0:.3f}\".format(orders[orders['group'] == 'B']['revenue'].mean()/\n",
    "                          orders[orders['group'] == 'A']['revenue'].mean() -1))"
   ]
  },
  {
   "cell_type": "markdown",
   "metadata": {},
   "source": [
    "P-value больше 0.05, а значит, оснований отвергнуть нулевую гипотезу нет. Можно считать, что средний чек у покупателей группы А не отличается от среднего чека покупателей группы В. При этом относительное различие средних чеков между группами составляет 25,9% - скорее всего, данные портят заказы на аномально большие суммы.\n",
    "\n",
    "Теперь необходимо проверить очищенные от выбросов данные. Посмотрим, что произошло с показателями конверсии. Нулевая гипотеза здесь - \"конверсия для обеих групп одинаковая\", альтернативная гипотеза - \"конверсия в группах А и В различается\"."
   ]
  },
  {
   "cell_type": "code",
   "execution_count": 36,
   "metadata": {},
   "outputs": [
    {
     "data": {
      "text/plain": [
       "'Всего пользователей с аномальными заказами:'"
      ]
     },
     "metadata": {},
     "output_type": "display_data"
    },
    {
     "data": {
      "text/plain": [
       "16"
      ]
     },
     "metadata": {},
     "output_type": "display_data"
    }
   ],
   "source": [
    "#отберем пользователей, совершивших слишком много заказов, а также тех, кто совершил слишком дорогие покупки:\n",
    "many_orders_users = pd.concat([orders_by_user_a[orders_by_user_a['orders'] > per_orders[2]]['user_id'], \n",
    "                              orders_by_user_b[orders_by_user_b['orders'] > per_orders[2]]['user_id']], axis=0)\n",
    "expensive_orders_users = orders[orders['revenue'] > per_sum[1]]['user_id']\n",
    "\n",
    "#соединим всех \"аномальных\" пользователей вместе:\n",
    "abnormal_users = pd.concat([many_orders_users, expensive_orders_users], axis=0).drop_duplicates()\n",
    "\n",
    "display('Всего пользователей с аномальными заказами:', len(abnormal_users))"
   ]
  },
  {
   "cell_type": "markdown",
   "metadata": {},
   "source": [
    "Итого получился 31 \"аномальный\" пользователь. \n",
    "\n",
    "Проверим, как изменится статистическая значимость различий между группами по очищенным данным. Нулевая гипотеза здесь - \"конверсия в обеих группах одинаковая\", альтернативная - \"конверсия в группах А и В различается\"."
   ]
  },
  {
   "cell_type": "code",
   "execution_count": 37,
   "metadata": {},
   "outputs": [
    {
     "data": {
      "text/plain": [
       "'p-value = 0.007'"
      ]
     },
     "metadata": {},
     "output_type": "display_data"
    },
    {
     "data": {
      "text/plain": [
       "'Относительное различие между группами: 0.189'"
      ]
     },
     "metadata": {},
     "output_type": "display_data"
    }
   ],
   "source": [
    "#очистим данные по обеим группам от выбросов:\n",
    "sample_a_filtered = pd.concat(\n",
    "    [orders_by_user_a[np.logical_not(orders_by_user_a['user_id'].isin(abnormal_users))]['orders'], \n",
    "     pd.Series(0, index=np.arange(visits_daily_a['visitors'].sum() - len(orders_by_user_a['orders'])), \n",
    "               name='orders')], axis=0)\n",
    "\n",
    "sample_b_filtered = pd.concat(\n",
    "    [orders_by_user_b[np.logical_not(orders_by_user_b['user_id'].isin(abnormal_users))]['orders'], \n",
    "     pd.Series(0, index=np.arange(visits_daily_b['visitors'].sum() - len(orders_by_user_b['orders'])), \n",
    "               name='orders')], axis=0)\n",
    "\n",
    "#подсчитаем статичтиечскую значимость различия конверсий по группам:\n",
    "display('p-value = {0:.3f}'.format(stats.mannwhitneyu(sample_a_filtered, sample_b_filtered)[1]))\n",
    "display('Относительное различие между группами:\\\n",
    " {0:.3f}'.format(sample_b_filtered.mean()/sample_a_filtered.mean()-1))"
   ]
  },
  {
   "cell_type": "markdown",
   "metadata": {},
   "source": [
    "P-value снова меньше 0.05, а значит, различия в конверсиях между группами А и В есть, нулевую гипотезу отвергаем. А вот относительное различие между группами увеличилось - по очищенным данным оно составило 17,4% (по сырым данным было 13,8%).\n",
    "\n",
    "Теперь подсчитаем статистическую значимость различий в среднем чеке между группами. Нулевая гипотеза - \"средний чек групп А и В одинаковый\", альтернативная - \"средний чек групп А и В различается\"."
   ]
  },
  {
   "cell_type": "code",
   "execution_count": 38,
   "metadata": {},
   "outputs": [
    {
     "data": {
      "text/plain": [
       "'p-value = 0.788'"
      ]
     },
     "metadata": {},
     "output_type": "display_data"
    },
    {
     "data": {
      "text/plain": [
       "'Относительное различие между группами - -0.032'"
      ]
     },
     "metadata": {},
     "output_type": "display_data"
    }
   ],
   "source": [
    "#посчитаем статистическую значимость различий в среднем чеке заказа между группами по «очищенным» данным:\n",
    "display(\n",
    "'p-value = {0:.3f}'.format(\n",
    "        stats.mannwhitneyu(\n",
    "            orders[\n",
    "                np.logical_and(\n",
    "                    orders['group'] == 'A',\n",
    "                    np.logical_not(orders['user_id'].isin(abnormal_users)),\n",
    "                )\n",
    "            ]['revenue'],\n",
    "            orders[\n",
    "                np.logical_and(\n",
    "                    orders['group'] == 'B',\n",
    "                    np.logical_not(orders['user_id'].isin(abnormal_users)),\n",
    "                )\n",
    "            ]['revenue'],\n",
    "        )[1]\n",
    "    )\n",
    ")\n",
    "\n",
    "display(\n",
    "    'Относительное различие между группами - {0:.3f}'.format(\n",
    "        orders[\n",
    "            np.logical_and(\n",
    "                orders['group'] == 'B',\n",
    "                np.logical_not(orders['user_id'].isin(abnormal_users)),\n",
    "            )\n",
    "        ]['revenue'].mean()\n",
    "        / orders[\n",
    "            np.logical_and(\n",
    "                orders['group'] == 'A',\n",
    "                np.logical_not(orders['user_id'].isin(abnormal_users)),\n",
    "            )\n",
    "        ]['revenue'].mean()\n",
    "        - 1\n",
    "    )\n",
    ")"
   ]
  },
  {
   "cell_type": "markdown",
   "metadata": {},
   "source": [
    "Оснований отвергнуть нулевую гипотезу в данном случае нет, т.к. p-value значительно больше 0.05, то есть считаем, что различий в средних чеках между группами нет. А вот средний чек в группе В стал меньше среднего чека группы А на 2% после удаления аномалий (по сырым данным было 25,9%)."
   ]
  },
  {
   "cell_type": "markdown",
   "metadata": {},
   "source": [
    "## Выводы\n",
    "\n",
    "* среди пользователей из группы В показатель конверсии выше, чем среди пользователей из группы А, причем как по сырым, так и по очищенным данным(по сырым данным группа В лидировала на 13,8%, по очищенным - еще сильнее, на 17,4%).\n",
    "* различия в средних чеках отсутствуют в обеих группах как по сырым, так и по очищенным данным. При этом на сырые данные оказывали влияние заказы на аномально большие суммы - из-за этого средний чек в группе В был выше среднего чека группы А сразу на 25,9%. По очищенным данным средний чек пользователей группы В оказался ниже на 2%.\n",
    "\n",
    "**Исходя из сказанного выше, можно принять решение об остановке теста и зафиксировать победу группы В: конверсия в ней  выше, чем в группе А, а статистической разницы между средними чеками по группам нет.**"
   ]
  }
 ],
 "metadata": {
  "ExecuteTimeLog": [
   {
    "duration": 1545,
    "start_time": "2022-09-06T05:33:54.565Z"
   },
   {
    "duration": 72,
    "start_time": "2022-09-06T05:34:33.097Z"
   },
   {
    "duration": 5,
    "start_time": "2022-09-06T05:41:56.945Z"
   },
   {
    "duration": 10,
    "start_time": "2022-09-06T05:42:00.095Z"
   },
   {
    "duration": 9,
    "start_time": "2022-09-06T05:42:19.441Z"
   },
   {
    "duration": 9,
    "start_time": "2022-09-06T05:42:31.911Z"
   },
   {
    "duration": 9,
    "start_time": "2022-09-06T05:43:33.070Z"
   },
   {
    "duration": 113,
    "start_time": "2022-09-06T05:45:21.881Z"
   },
   {
    "duration": 30,
    "start_time": "2022-09-06T05:45:36.695Z"
   },
   {
    "duration": 15,
    "start_time": "2022-09-06T05:45:50.061Z"
   },
   {
    "duration": 13,
    "start_time": "2022-09-06T05:45:56.968Z"
   },
   {
    "duration": 13,
    "start_time": "2022-09-06T05:57:54.141Z"
   },
   {
    "duration": 10,
    "start_time": "2022-09-06T06:04:38.780Z"
   },
   {
    "duration": 124,
    "start_time": "2022-09-06T06:05:04.756Z"
   },
   {
    "duration": 94,
    "start_time": "2022-09-06T06:05:28.949Z"
   },
   {
    "duration": 13,
    "start_time": "2022-09-06T06:05:38.442Z"
   },
   {
    "duration": 17,
    "start_time": "2022-09-06T06:05:53.897Z"
   },
   {
    "duration": 116,
    "start_time": "2022-09-06T06:06:50.743Z"
   },
   {
    "duration": 413,
    "start_time": "2022-09-06T06:07:09.980Z"
   },
   {
    "duration": 125,
    "start_time": "2022-09-06T06:07:25.132Z"
   },
   {
    "duration": 281,
    "start_time": "2022-09-06T06:07:47.249Z"
   },
   {
    "duration": 91,
    "start_time": "2022-09-06T06:08:00.370Z"
   },
   {
    "duration": 193,
    "start_time": "2022-09-06T06:08:13.870Z"
   },
   {
    "duration": 310,
    "start_time": "2022-09-06T06:08:26.174Z"
   },
   {
    "duration": 76,
    "start_time": "2022-09-06T06:08:38.869Z"
   },
   {
    "duration": 86,
    "start_time": "2022-09-06T06:09:05.665Z"
   },
   {
    "duration": 83,
    "start_time": "2022-09-06T06:09:12.492Z"
   },
   {
    "duration": 92,
    "start_time": "2022-09-06T06:09:19.665Z"
   },
   {
    "duration": 70,
    "start_time": "2022-09-06T06:09:26.889Z"
   },
   {
    "duration": 65,
    "start_time": "2022-09-06T06:09:38.694Z"
   },
   {
    "duration": 95,
    "start_time": "2022-09-06T06:09:41.299Z"
   },
   {
    "duration": 7,
    "start_time": "2022-09-06T06:17:33.602Z"
   },
   {
    "duration": 13,
    "start_time": "2022-09-06T06:18:38.674Z"
   },
   {
    "duration": 5,
    "start_time": "2022-09-06T06:19:05.443Z"
   },
   {
    "duration": 3,
    "start_time": "2022-09-06T06:19:46.581Z"
   },
   {
    "duration": 3,
    "start_time": "2022-09-06T06:19:47.136Z"
   },
   {
    "duration": 3,
    "start_time": "2022-09-06T06:19:47.546Z"
   },
   {
    "duration": 3,
    "start_time": "2022-09-06T06:19:47.954Z"
   },
   {
    "duration": 3,
    "start_time": "2022-09-06T06:19:48.289Z"
   },
   {
    "duration": 2,
    "start_time": "2022-09-06T06:19:48.592Z"
   },
   {
    "duration": 4,
    "start_time": "2022-09-06T06:19:48.921Z"
   },
   {
    "duration": 3,
    "start_time": "2022-09-06T06:19:49.666Z"
   },
   {
    "duration": 12,
    "start_time": "2022-09-06T06:19:49.672Z"
   },
   {
    "duration": 5,
    "start_time": "2022-09-06T06:19:50.006Z"
   },
   {
    "duration": 3,
    "start_time": "2022-09-06T06:19:50.677Z"
   },
   {
    "duration": 3,
    "start_time": "2022-09-06T06:19:51.185Z"
   },
   {
    "duration": 3,
    "start_time": "2022-09-06T06:19:51.669Z"
   },
   {
    "duration": 3,
    "start_time": "2022-09-06T06:19:52.175Z"
   },
   {
    "duration": 10,
    "start_time": "2022-09-06T06:22:51.133Z"
   },
   {
    "duration": 3,
    "start_time": "2022-09-06T06:22:54.847Z"
   },
   {
    "duration": 234,
    "start_time": "2022-09-06T06:28:28.830Z"
   },
   {
    "duration": 223,
    "start_time": "2022-09-06T06:30:24.898Z"
   },
   {
    "duration": 287,
    "start_time": "2022-09-06T06:31:22.733Z"
   },
   {
    "duration": 300,
    "start_time": "2022-09-06T06:32:52.564Z"
   },
   {
    "duration": 296,
    "start_time": "2022-09-06T06:34:54.892Z"
   },
   {
    "duration": 317,
    "start_time": "2022-09-06T06:38:01.634Z"
   },
   {
    "duration": 600,
    "start_time": "2022-09-06T06:41:04.463Z"
   },
   {
    "duration": 311,
    "start_time": "2022-09-06T06:41:51.654Z"
   },
   {
    "duration": 513,
    "start_time": "2022-09-06T06:43:47.468Z"
   },
   {
    "duration": 317,
    "start_time": "2022-09-06T06:44:30.632Z"
   },
   {
    "duration": 579,
    "start_time": "2022-09-06T06:44:38.670Z"
   },
   {
    "duration": 511,
    "start_time": "2022-09-06T06:45:45.898Z"
   },
   {
    "duration": 520,
    "start_time": "2022-09-06T06:45:50.235Z"
   },
   {
    "duration": 549,
    "start_time": "2022-09-06T06:45:58.537Z"
   },
   {
    "duration": 95,
    "start_time": "2022-09-06T06:47:34.030Z"
   },
   {
    "duration": 491,
    "start_time": "2022-09-06T06:47:43.693Z"
   },
   {
    "duration": 579,
    "start_time": "2022-09-06T06:47:53.119Z"
   },
   {
    "duration": 619,
    "start_time": "2022-09-06T06:49:38.637Z"
   },
   {
    "duration": 539,
    "start_time": "2022-09-06T06:49:49.700Z"
   },
   {
    "duration": 526,
    "start_time": "2022-09-06T06:49:55.468Z"
   },
   {
    "duration": 514,
    "start_time": "2022-09-06T06:51:39.349Z"
   },
   {
    "duration": 518,
    "start_time": "2022-09-06T06:51:45.545Z"
   },
   {
    "duration": 232,
    "start_time": "2022-09-06T06:56:33.267Z"
   },
   {
    "duration": 15,
    "start_time": "2022-09-06T07:06:28.030Z"
   },
   {
    "duration": 71,
    "start_time": "2022-09-06T07:07:52.129Z"
   },
   {
    "duration": 367,
    "start_time": "2022-09-06T07:08:03.130Z"
   },
   {
    "duration": 299,
    "start_time": "2022-09-06T07:08:13.135Z"
   },
   {
    "duration": 20,
    "start_time": "2022-09-06T07:12:14.474Z"
   },
   {
    "duration": 42,
    "start_time": "2022-09-06T07:14:46.186Z"
   },
   {
    "duration": 31,
    "start_time": "2022-09-06T07:16:50.826Z"
   },
   {
    "duration": 19,
    "start_time": "2022-09-06T07:17:20.630Z"
   },
   {
    "duration": 263,
    "start_time": "2022-09-06T07:18:04.433Z"
   },
   {
    "duration": 307,
    "start_time": "2022-09-06T07:21:22.472Z"
   },
   {
    "duration": 215,
    "start_time": "2022-09-06T07:21:37.751Z"
   },
   {
    "duration": 213,
    "start_time": "2022-09-06T07:25:55.322Z"
   },
   {
    "duration": 35,
    "start_time": "2022-09-06T07:26:45.779Z"
   },
   {
    "duration": 41,
    "start_time": "2022-09-06T07:28:20.796Z"
   },
   {
    "duration": 18,
    "start_time": "2022-09-06T07:29:01.234Z"
   },
   {
    "duration": 418,
    "start_time": "2022-09-06T07:29:34.777Z"
   },
   {
    "duration": 331,
    "start_time": "2022-09-06T07:30:09.353Z"
   },
   {
    "duration": 365,
    "start_time": "2022-09-06T07:31:01.131Z"
   },
   {
    "duration": 24,
    "start_time": "2022-09-06T07:41:33.200Z"
   },
   {
    "duration": 13,
    "start_time": "2022-09-06T07:42:04.249Z"
   },
   {
    "duration": 331,
    "start_time": "2022-09-06T07:42:08.465Z"
   },
   {
    "duration": 18,
    "start_time": "2022-09-06T07:42:55.059Z"
   },
   {
    "duration": 137,
    "start_time": "2022-09-06T07:43:24.363Z"
   },
   {
    "duration": 130,
    "start_time": "2022-09-06T07:43:27.905Z"
   },
   {
    "duration": 139,
    "start_time": "2022-09-06T07:47:08.273Z"
   },
   {
    "duration": 85,
    "start_time": "2022-09-06T07:50:45.025Z"
   },
   {
    "duration": 8,
    "start_time": "2022-09-06T07:50:59.520Z"
   },
   {
    "duration": 19,
    "start_time": "2022-09-06T07:51:09.799Z"
   },
   {
    "duration": 9,
    "start_time": "2022-09-06T07:51:13.810Z"
   },
   {
    "duration": 11,
    "start_time": "2022-09-06T07:53:50.822Z"
   },
   {
    "duration": 167,
    "start_time": "2022-09-06T07:54:57.292Z"
   },
   {
    "duration": 6,
    "start_time": "2022-09-06T07:57:18.569Z"
   },
   {
    "duration": 6,
    "start_time": "2022-09-06T07:57:52.242Z"
   },
   {
    "duration": 13,
    "start_time": "2022-09-06T08:08:57.233Z"
   },
   {
    "duration": 75,
    "start_time": "2022-09-06T08:12:32.470Z"
   },
   {
    "duration": 62,
    "start_time": "2022-09-06T08:13:20.232Z"
   },
   {
    "duration": 109,
    "start_time": "2022-09-06T08:13:54.231Z"
   },
   {
    "duration": 107,
    "start_time": "2022-09-06T08:21:11.656Z"
   },
   {
    "duration": 19,
    "start_time": "2022-09-06T08:21:25.157Z"
   },
   {
    "duration": 18,
    "start_time": "2022-09-06T08:21:55.550Z"
   },
   {
    "duration": 114,
    "start_time": "2022-09-06T08:22:46.459Z"
   },
   {
    "duration": 86,
    "start_time": "2022-09-06T08:23:13.276Z"
   },
   {
    "duration": 121,
    "start_time": "2022-09-06T08:23:26.758Z"
   },
   {
    "duration": 222,
    "start_time": "2022-09-06T08:40:03.478Z"
   },
   {
    "duration": 150,
    "start_time": "2022-09-06T08:40:53.653Z"
   },
   {
    "duration": 273,
    "start_time": "2022-09-06T08:41:53.453Z"
   },
   {
    "duration": 76,
    "start_time": "2022-09-06T08:43:25.187Z"
   },
   {
    "duration": 12,
    "start_time": "2022-09-06T08:43:26.848Z"
   },
   {
    "duration": 12,
    "start_time": "2022-09-06T08:43:32.548Z"
   },
   {
    "duration": 52,
    "start_time": "2022-09-06T08:43:32.983Z"
   },
   {
    "duration": 11,
    "start_time": "2022-09-06T08:43:34.680Z"
   },
   {
    "duration": 4,
    "start_time": "2022-09-06T08:43:35.291Z"
   },
   {
    "duration": 1187,
    "start_time": "2022-09-06T08:43:54.300Z"
   },
   {
    "duration": 72,
    "start_time": "2022-09-06T08:43:55.489Z"
   },
   {
    "duration": 11,
    "start_time": "2022-09-06T08:43:55.563Z"
   },
   {
    "duration": 6,
    "start_time": "2022-09-06T08:43:55.576Z"
   },
   {
    "duration": 14,
    "start_time": "2022-09-06T08:43:55.584Z"
   },
   {
    "duration": 26,
    "start_time": "2022-09-06T08:43:55.600Z"
   },
   {
    "duration": 53,
    "start_time": "2022-09-06T08:43:55.636Z"
   },
   {
    "duration": 14,
    "start_time": "2022-09-06T08:43:55.691Z"
   },
   {
    "duration": 63,
    "start_time": "2022-09-06T08:43:55.709Z"
   },
   {
    "duration": 26,
    "start_time": "2022-09-06T08:43:55.774Z"
   },
   {
    "duration": 16,
    "start_time": "2022-09-06T08:43:55.802Z"
   },
   {
    "duration": 43,
    "start_time": "2022-09-06T08:43:55.820Z"
   },
   {
    "duration": 705,
    "start_time": "2022-09-06T08:43:55.865Z"
   },
   {
    "duration": 257,
    "start_time": "2022-09-06T08:43:56.573Z"
   },
   {
    "duration": 316,
    "start_time": "2022-09-06T08:43:56.840Z"
   },
   {
    "duration": 241,
    "start_time": "2022-09-06T08:43:57.158Z"
   },
   {
    "duration": 364,
    "start_time": "2022-09-06T08:43:57.401Z"
   },
   {
    "duration": 129,
    "start_time": "2022-09-06T08:43:57.768Z"
   },
   {
    "duration": 29,
    "start_time": "2022-09-06T08:43:57.899Z"
   },
   {
    "duration": 178,
    "start_time": "2022-09-06T08:43:57.930Z"
   },
   {
    "duration": 5,
    "start_time": "2022-09-06T08:43:58.110Z"
   },
   {
    "duration": 305,
    "start_time": "2022-09-06T08:43:58.117Z"
   },
   {
    "duration": 3,
    "start_time": "2022-09-06T08:43:58.432Z"
   },
   {
    "duration": 2,
    "start_time": "2022-09-06T08:43:58.436Z"
   },
   {
    "duration": 2,
    "start_time": "2022-09-06T08:43:58.440Z"
   },
   {
    "duration": 8,
    "start_time": "2022-09-06T08:43:58.443Z"
   },
   {
    "duration": 258,
    "start_time": "2022-09-06T08:45:19.846Z"
   },
   {
    "duration": 322,
    "start_time": "2022-09-06T08:53:15.021Z"
   },
   {
    "duration": 238,
    "start_time": "2022-09-06T08:54:52.622Z"
   },
   {
    "duration": 237,
    "start_time": "2022-09-06T08:54:58.322Z"
   },
   {
    "duration": 285,
    "start_time": "2022-09-06T08:55:56.043Z"
   },
   {
    "duration": 284,
    "start_time": "2022-09-06T08:58:43.577Z"
   },
   {
    "duration": 264,
    "start_time": "2022-09-06T09:00:10.651Z"
   },
   {
    "duration": 253,
    "start_time": "2022-09-06T09:00:50.424Z"
   },
   {
    "duration": 13,
    "start_time": "2022-09-06T09:05:58.193Z"
   },
   {
    "duration": 10,
    "start_time": "2022-09-06T09:18:08.156Z"
   },
   {
    "duration": 138,
    "start_time": "2022-09-06T09:20:41.131Z"
   },
   {
    "duration": 1036,
    "start_time": "2022-09-06T09:21:24.339Z"
   },
   {
    "duration": 1458,
    "start_time": "2022-09-06T09:22:42.419Z"
   },
   {
    "duration": 1187,
    "start_time": "2022-09-06T09:23:11.550Z"
   },
   {
    "duration": 42,
    "start_time": "2022-09-06T09:23:12.739Z"
   },
   {
    "duration": 13,
    "start_time": "2022-09-06T09:23:12.783Z"
   },
   {
    "duration": 21,
    "start_time": "2022-09-06T09:23:12.799Z"
   },
   {
    "duration": 21,
    "start_time": "2022-09-06T09:23:12.823Z"
   },
   {
    "duration": 12,
    "start_time": "2022-09-06T09:23:12.847Z"
   },
   {
    "duration": 55,
    "start_time": "2022-09-06T09:23:12.861Z"
   },
   {
    "duration": 11,
    "start_time": "2022-09-06T09:23:12.920Z"
   },
   {
    "duration": 46,
    "start_time": "2022-09-06T09:23:12.933Z"
   },
   {
    "duration": 56,
    "start_time": "2022-09-06T09:23:12.982Z"
   },
   {
    "duration": 12,
    "start_time": "2022-09-06T09:23:13.040Z"
   },
   {
    "duration": 22,
    "start_time": "2022-09-06T09:23:13.054Z"
   },
   {
    "duration": 656,
    "start_time": "2022-09-06T09:23:13.078Z"
   },
   {
    "duration": 219,
    "start_time": "2022-09-06T09:23:13.736Z"
   },
   {
    "duration": 376,
    "start_time": "2022-09-06T09:23:13.958Z"
   },
   {
    "duration": 241,
    "start_time": "2022-09-06T09:23:14.335Z"
   },
   {
    "duration": 358,
    "start_time": "2022-09-06T09:23:14.578Z"
   },
   {
    "duration": 182,
    "start_time": "2022-09-06T09:23:14.938Z"
   },
   {
    "duration": 8,
    "start_time": "2022-09-06T09:23:15.125Z"
   },
   {
    "duration": 161,
    "start_time": "2022-09-06T09:23:15.135Z"
   },
   {
    "duration": 12,
    "start_time": "2022-09-06T09:23:15.299Z"
   },
   {
    "duration": 311,
    "start_time": "2022-09-06T09:23:15.313Z"
   },
   {
    "duration": 15,
    "start_time": "2022-09-06T09:23:15.626Z"
   },
   {
    "duration": 1844,
    "start_time": "2022-09-06T09:23:15.643Z"
   },
   {
    "duration": 0,
    "start_time": "2022-09-06T09:23:17.489Z"
   },
   {
    "duration": 0,
    "start_time": "2022-09-06T09:23:17.491Z"
   },
   {
    "duration": 20,
    "start_time": "2022-09-06T09:23:27.200Z"
   },
   {
    "duration": 13,
    "start_time": "2022-09-06T09:24:19.553Z"
   },
   {
    "duration": 1245,
    "start_time": "2022-09-06T09:24:28.576Z"
   },
   {
    "duration": 1216,
    "start_time": "2022-09-06T09:24:37.492Z"
   },
   {
    "duration": 7,
    "start_time": "2022-09-06T09:25:06.685Z"
   },
   {
    "duration": 13,
    "start_time": "2022-09-06T09:25:16.881Z"
   },
   {
    "duration": 85,
    "start_time": "2022-09-06T09:26:11.592Z"
   },
   {
    "duration": 25,
    "start_time": "2022-09-06T09:26:22.098Z"
   },
   {
    "duration": 13,
    "start_time": "2022-09-06T09:26:35.756Z"
   },
   {
    "duration": 370,
    "start_time": "2022-09-06T09:29:07.311Z"
   },
   {
    "duration": 352,
    "start_time": "2022-09-06T09:29:31.539Z"
   },
   {
    "duration": 1245,
    "start_time": "2022-09-06T09:29:57.644Z"
   },
   {
    "duration": 62,
    "start_time": "2022-09-06T09:29:58.892Z"
   },
   {
    "duration": 15,
    "start_time": "2022-09-06T09:29:58.957Z"
   },
   {
    "duration": 4,
    "start_time": "2022-09-06T09:29:59.952Z"
   },
   {
    "duration": 16,
    "start_time": "2022-09-06T09:30:03.180Z"
   },
   {
    "duration": 14,
    "start_time": "2022-09-06T09:30:04.958Z"
   },
   {
    "duration": 54,
    "start_time": "2022-09-06T09:30:06.628Z"
   },
   {
    "duration": 11,
    "start_time": "2022-09-06T09:30:07.165Z"
   },
   {
    "duration": 129,
    "start_time": "2022-09-06T09:30:08.688Z"
   },
   {
    "duration": 14,
    "start_time": "2022-09-06T09:30:36.369Z"
   },
   {
    "duration": 43,
    "start_time": "2022-09-06T09:30:38.846Z"
   },
   {
    "duration": 13,
    "start_time": "2022-09-06T09:30:39.742Z"
   },
   {
    "duration": 6,
    "start_time": "2022-09-06T09:30:42.446Z"
   },
   {
    "duration": 700,
    "start_time": "2022-09-06T09:31:14.437Z"
   },
   {
    "duration": 233,
    "start_time": "2022-09-06T09:31:25.628Z"
   },
   {
    "duration": 346,
    "start_time": "2022-09-06T09:31:41.394Z"
   },
   {
    "duration": 211,
    "start_time": "2022-09-06T09:31:55.433Z"
   },
   {
    "duration": 326,
    "start_time": "2022-09-06T09:32:01.958Z"
   },
   {
    "duration": 130,
    "start_time": "2022-09-06T09:32:16.488Z"
   },
   {
    "duration": 5,
    "start_time": "2022-09-06T09:32:21.435Z"
   },
   {
    "duration": 147,
    "start_time": "2022-09-06T09:32:24.232Z"
   },
   {
    "duration": 6,
    "start_time": "2022-09-06T09:32:26.558Z"
   },
   {
    "duration": 457,
    "start_time": "2022-09-06T09:34:02.922Z"
   },
   {
    "duration": 267,
    "start_time": "2022-09-06T09:34:32.574Z"
   },
   {
    "duration": 20,
    "start_time": "2022-09-06T09:34:36.997Z"
   },
   {
    "duration": 15,
    "start_time": "2022-09-06T09:34:51.900Z"
   },
   {
    "duration": 91,
    "start_time": "2022-09-06T09:36:19.650Z"
   },
   {
    "duration": 14,
    "start_time": "2022-09-06T09:36:25.254Z"
   },
   {
    "duration": 11,
    "start_time": "2022-09-06T09:36:44.266Z"
   },
   {
    "duration": 14,
    "start_time": "2022-09-06T09:36:53.833Z"
   },
   {
    "duration": 20,
    "start_time": "2022-09-06T09:47:58.143Z"
   },
   {
    "duration": 46,
    "start_time": "2022-09-06T09:51:40.554Z"
   },
   {
    "duration": 397,
    "start_time": "2022-09-06T09:54:30.766Z"
   },
   {
    "duration": 390,
    "start_time": "2022-09-06T09:55:12.540Z"
   },
   {
    "duration": 37,
    "start_time": "2022-09-06T09:56:08.832Z"
   },
   {
    "duration": 4,
    "start_time": "2022-09-06T09:57:56.436Z"
   },
   {
    "duration": 4,
    "start_time": "2022-09-06T09:58:00.144Z"
   },
   {
    "duration": 6,
    "start_time": "2022-09-06T09:58:03.367Z"
   },
   {
    "duration": 6,
    "start_time": "2022-09-06T09:58:26.982Z"
   },
   {
    "duration": 53,
    "start_time": "2022-09-06T10:00:53.268Z"
   },
   {
    "duration": 5,
    "start_time": "2022-09-06T10:01:08.526Z"
   },
   {
    "duration": 32,
    "start_time": "2022-09-06T10:01:22.468Z"
   },
   {
    "duration": 14,
    "start_time": "2022-09-06T10:15:05.918Z"
   },
   {
    "duration": 20,
    "start_time": "2022-09-06T10:15:20.386Z"
   },
   {
    "duration": 21,
    "start_time": "2022-09-06T10:18:36.818Z"
   },
   {
    "duration": 4,
    "start_time": "2022-09-06T10:43:19.438Z"
   },
   {
    "duration": 15,
    "start_time": "2022-09-06T10:43:48.676Z"
   },
   {
    "duration": 636,
    "start_time": "2022-09-06T10:50:27.362Z"
   },
   {
    "duration": 224,
    "start_time": "2022-09-06T10:54:21.075Z"
   },
   {
    "duration": 325,
    "start_time": "2022-09-06T10:55:44.029Z"
   },
   {
    "duration": 230,
    "start_time": "2022-09-06T10:57:10.929Z"
   },
   {
    "duration": 387,
    "start_time": "2022-09-06T10:59:06.424Z"
   },
   {
    "duration": 134,
    "start_time": "2022-09-06T11:04:24.118Z"
   },
   {
    "duration": 6,
    "start_time": "2022-09-06T11:05:12.474Z"
   },
   {
    "duration": 147,
    "start_time": "2022-09-06T11:06:56.144Z"
   },
   {
    "duration": 7,
    "start_time": "2022-09-06T11:07:10.129Z"
   },
   {
    "duration": 14,
    "start_time": "2022-09-06T11:27:02.441Z"
   },
   {
    "duration": 12,
    "start_time": "2022-09-06T11:28:36.884Z"
   },
   {
    "duration": 146,
    "start_time": "2022-09-06T11:37:39.530Z"
   },
   {
    "duration": 274,
    "start_time": "2022-09-06T11:37:49.484Z"
   },
   {
    "duration": 172,
    "start_time": "2022-09-06T11:37:56.938Z"
   },
   {
    "duration": 1179,
    "start_time": "2022-09-06T11:38:22.384Z"
   },
   {
    "duration": 37,
    "start_time": "2022-09-06T11:38:23.565Z"
   },
   {
    "duration": 22,
    "start_time": "2022-09-06T11:38:23.604Z"
   },
   {
    "duration": 11,
    "start_time": "2022-09-06T11:38:23.628Z"
   },
   {
    "duration": 16,
    "start_time": "2022-09-06T11:38:23.641Z"
   },
   {
    "duration": 12,
    "start_time": "2022-09-06T11:38:23.658Z"
   },
   {
    "duration": 49,
    "start_time": "2022-09-06T11:38:23.672Z"
   },
   {
    "duration": 11,
    "start_time": "2022-09-06T11:38:23.723Z"
   },
   {
    "duration": 24,
    "start_time": "2022-09-06T11:38:23.736Z"
   },
   {
    "duration": 24,
    "start_time": "2022-09-06T11:38:23.764Z"
   },
   {
    "duration": 11,
    "start_time": "2022-09-06T11:38:23.789Z"
   },
   {
    "duration": 25,
    "start_time": "2022-09-06T11:38:23.802Z"
   },
   {
    "duration": 691,
    "start_time": "2022-09-06T11:38:23.829Z"
   },
   {
    "duration": 260,
    "start_time": "2022-09-06T11:38:24.522Z"
   },
   {
    "duration": 406,
    "start_time": "2022-09-06T11:38:24.785Z"
   },
   {
    "duration": 223,
    "start_time": "2022-09-06T11:38:25.194Z"
   },
   {
    "duration": 327,
    "start_time": "2022-09-06T11:38:25.422Z"
   },
   {
    "duration": 164,
    "start_time": "2022-09-06T11:38:25.752Z"
   },
   {
    "duration": 7,
    "start_time": "2022-09-06T11:38:25.921Z"
   },
   {
    "duration": 184,
    "start_time": "2022-09-06T11:38:25.929Z"
   },
   {
    "duration": 6,
    "start_time": "2022-09-06T11:38:26.114Z"
   },
   {
    "duration": 256,
    "start_time": "2022-09-06T11:38:26.122Z"
   },
   {
    "duration": 42,
    "start_time": "2022-09-06T11:38:26.381Z"
   },
   {
    "duration": 19,
    "start_time": "2022-09-06T11:38:26.427Z"
   },
   {
    "duration": 32,
    "start_time": "2022-09-06T11:38:26.448Z"
   },
   {
    "duration": 40,
    "start_time": "2022-09-06T11:38:26.482Z"
   },
   {
    "duration": 385,
    "start_time": "2022-09-06T11:46:34.340Z"
   },
   {
    "duration": 361,
    "start_time": "2022-09-06T11:46:44.375Z"
   },
   {
    "duration": 260,
    "start_time": "2022-09-06T11:49:08.335Z"
   },
   {
    "duration": 14,
    "start_time": "2022-09-06T11:50:37.682Z"
   },
   {
    "duration": 14,
    "start_time": "2022-09-06T11:50:46.167Z"
   },
   {
    "duration": 17,
    "start_time": "2022-09-06T11:50:49.066Z"
   },
   {
    "duration": 49,
    "start_time": "2022-09-06T11:52:59.165Z"
   },
   {
    "duration": 31,
    "start_time": "2022-09-06T11:53:02.919Z"
   },
   {
    "duration": 218,
    "start_time": "2022-09-06T12:07:43.174Z"
   },
   {
    "duration": 308,
    "start_time": "2022-09-06T12:07:54.654Z"
   },
   {
    "duration": 1067,
    "start_time": "2022-09-06T15:52:58.864Z"
   },
   {
    "duration": 37,
    "start_time": "2022-09-06T15:52:59.933Z"
   },
   {
    "duration": 12,
    "start_time": "2022-09-06T15:52:59.972Z"
   },
   {
    "duration": 5,
    "start_time": "2022-09-06T15:52:59.986Z"
   },
   {
    "duration": 13,
    "start_time": "2022-09-06T15:52:59.992Z"
   },
   {
    "duration": 10,
    "start_time": "2022-09-06T15:53:00.007Z"
   },
   {
    "duration": 49,
    "start_time": "2022-09-06T15:53:00.019Z"
   },
   {
    "duration": 11,
    "start_time": "2022-09-06T15:53:00.069Z"
   },
   {
    "duration": 17,
    "start_time": "2022-09-06T15:53:00.082Z"
   },
   {
    "duration": 27,
    "start_time": "2022-09-06T15:53:00.102Z"
   },
   {
    "duration": 12,
    "start_time": "2022-09-06T15:53:00.131Z"
   },
   {
    "duration": 12,
    "start_time": "2022-09-06T15:53:00.145Z"
   },
   {
    "duration": 565,
    "start_time": "2022-09-06T15:53:00.159Z"
   },
   {
    "duration": 205,
    "start_time": "2022-09-06T15:53:00.726Z"
   },
   {
    "duration": 352,
    "start_time": "2022-09-06T15:53:00.933Z"
   },
   {
    "duration": 221,
    "start_time": "2022-09-06T15:53:01.287Z"
   },
   {
    "duration": 278,
    "start_time": "2022-09-06T15:53:01.510Z"
   },
   {
    "duration": 135,
    "start_time": "2022-09-06T15:53:01.789Z"
   },
   {
    "duration": 6,
    "start_time": "2022-09-06T15:53:01.926Z"
   },
   {
    "duration": 162,
    "start_time": "2022-09-06T15:53:01.933Z"
   },
   {
    "duration": 5,
    "start_time": "2022-09-06T15:53:02.097Z"
   },
   {
    "duration": 241,
    "start_time": "2022-09-06T15:53:02.104Z"
   },
   {
    "duration": 11,
    "start_time": "2022-09-06T15:53:02.355Z"
   },
   {
    "duration": 18,
    "start_time": "2022-09-06T15:53:02.367Z"
   },
   {
    "duration": 30,
    "start_time": "2022-09-06T15:53:02.386Z"
   },
   {
    "duration": 37,
    "start_time": "2022-09-06T15:53:02.418Z"
   },
   {
    "duration": 58,
    "start_time": "2022-09-06T16:17:53.490Z"
   },
   {
    "duration": 6,
    "start_time": "2022-09-06T16:18:07.234Z"
   },
   {
    "duration": 1093,
    "start_time": "2022-09-06T16:18:16.462Z"
   },
   {
    "duration": 82,
    "start_time": "2022-09-06T16:18:17.557Z"
   },
   {
    "duration": 11,
    "start_time": "2022-09-06T16:18:17.845Z"
   },
   {
    "duration": 3,
    "start_time": "2022-09-06T16:18:18.294Z"
   },
   {
    "duration": 12,
    "start_time": "2022-09-06T16:18:18.794Z"
   },
   {
    "duration": 10,
    "start_time": "2022-09-06T16:18:19.494Z"
   },
   {
    "duration": 88,
    "start_time": "2022-09-06T16:18:22.521Z"
   },
   {
    "duration": 10,
    "start_time": "2022-09-06T16:18:24.117Z"
   },
   {
    "duration": 12,
    "start_time": "2022-09-06T16:18:25.301Z"
   },
   {
    "duration": 8,
    "start_time": "2022-09-06T16:18:25.819Z"
   },
   {
    "duration": 73,
    "start_time": "2022-09-06T16:18:33.572Z"
   },
   {
    "duration": 10,
    "start_time": "2022-09-06T16:18:39.840Z"
   },
   {
    "duration": 4,
    "start_time": "2022-09-06T16:18:42.673Z"
   },
   {
    "duration": 8,
    "start_time": "2022-09-06T16:19:00.770Z"
   },
   {
    "duration": 536,
    "start_time": "2022-09-06T16:22:05.320Z"
   },
   {
    "duration": 197,
    "start_time": "2022-09-06T16:22:44.062Z"
   },
   {
    "duration": 218,
    "start_time": "2022-09-06T16:22:57.202Z"
   },
   {
    "duration": 371,
    "start_time": "2022-09-06T16:24:58.495Z"
   },
   {
    "duration": 200,
    "start_time": "2022-09-06T16:27:19.663Z"
   },
   {
    "duration": 323,
    "start_time": "2022-09-06T16:27:40.598Z"
   },
   {
    "duration": 157,
    "start_time": "2022-09-06T16:28:49.640Z"
   },
   {
    "duration": 5,
    "start_time": "2022-09-06T16:29:35.272Z"
   },
   {
    "duration": 138,
    "start_time": "2022-09-06T16:29:52.140Z"
   },
   {
    "duration": 225,
    "start_time": "2022-09-06T16:30:17.339Z"
   },
   {
    "duration": 153,
    "start_time": "2022-09-06T16:30:26.830Z"
   },
   {
    "duration": 132,
    "start_time": "2022-09-06T16:33:33.328Z"
   },
   {
    "duration": 151,
    "start_time": "2022-09-06T16:33:39.653Z"
   },
   {
    "duration": 139,
    "start_time": "2022-09-06T16:34:05.131Z"
   },
   {
    "duration": 297,
    "start_time": "2022-09-06T16:37:48.232Z"
   },
   {
    "duration": 302,
    "start_time": "2022-09-06T16:38:00.867Z"
   },
   {
    "duration": 218,
    "start_time": "2022-09-06T16:39:44.697Z"
   },
   {
    "duration": 175,
    "start_time": "2022-09-06T16:39:55.444Z"
   },
   {
    "duration": 166,
    "start_time": "2022-09-06T16:40:01.564Z"
   },
   {
    "duration": 152,
    "start_time": "2022-09-06T16:40:41.471Z"
   },
   {
    "duration": 156,
    "start_time": "2022-09-06T16:40:57.528Z"
   },
   {
    "duration": 277,
    "start_time": "2022-09-06T16:41:07.975Z"
   },
   {
    "duration": 168,
    "start_time": "2022-09-06T16:42:54.160Z"
   },
   {
    "duration": 152,
    "start_time": "2022-09-06T16:43:03.761Z"
   },
   {
    "duration": 147,
    "start_time": "2022-09-06T16:43:11.927Z"
   },
   {
    "duration": 191,
    "start_time": "2022-09-06T16:43:36.119Z"
   },
   {
    "duration": 165,
    "start_time": "2022-09-06T16:44:23.002Z"
   },
   {
    "duration": 169,
    "start_time": "2022-09-06T16:44:37.898Z"
   },
   {
    "duration": 7,
    "start_time": "2022-09-06T16:47:20.517Z"
   },
   {
    "duration": 987,
    "start_time": "2022-09-06T16:47:47.670Z"
   },
   {
    "duration": 36,
    "start_time": "2022-09-06T16:47:48.659Z"
   },
   {
    "duration": 18,
    "start_time": "2022-09-06T16:47:48.697Z"
   },
   {
    "duration": 13,
    "start_time": "2022-09-06T16:47:48.716Z"
   },
   {
    "duration": 27,
    "start_time": "2022-09-06T16:47:48.731Z"
   },
   {
    "duration": 11,
    "start_time": "2022-09-06T16:47:48.759Z"
   },
   {
    "duration": 54,
    "start_time": "2022-09-06T16:47:48.771Z"
   },
   {
    "duration": 10,
    "start_time": "2022-09-06T16:47:48.826Z"
   },
   {
    "duration": 13,
    "start_time": "2022-09-06T16:47:48.837Z"
   },
   {
    "duration": 12,
    "start_time": "2022-09-06T16:47:48.851Z"
   },
   {
    "duration": 20,
    "start_time": "2022-09-06T16:47:48.864Z"
   },
   {
    "duration": 9,
    "start_time": "2022-09-06T16:47:48.886Z"
   },
   {
    "duration": 18,
    "start_time": "2022-09-06T16:47:48.897Z"
   },
   {
    "duration": 11,
    "start_time": "2022-09-06T16:47:48.918Z"
   },
   {
    "duration": 592,
    "start_time": "2022-09-06T16:47:48.931Z"
   },
   {
    "duration": 216,
    "start_time": "2022-09-06T16:47:49.525Z"
   },
   {
    "duration": 318,
    "start_time": "2022-09-06T16:47:49.743Z"
   },
   {
    "duration": 223,
    "start_time": "2022-09-06T16:47:50.063Z"
   },
   {
    "duration": 349,
    "start_time": "2022-09-06T16:47:50.288Z"
   },
   {
    "duration": 174,
    "start_time": "2022-09-06T16:47:50.639Z"
   },
   {
    "duration": 7,
    "start_time": "2022-09-06T16:47:50.820Z"
   },
   {
    "duration": 150,
    "start_time": "2022-09-06T16:47:50.828Z"
   },
   {
    "duration": 5,
    "start_time": "2022-09-06T16:47:50.980Z"
   },
   {
    "duration": 264,
    "start_time": "2022-09-06T16:47:50.987Z"
   },
   {
    "duration": 11,
    "start_time": "2022-09-06T16:47:51.253Z"
   },
   {
    "duration": 8,
    "start_time": "2022-09-06T16:47:51.266Z"
   },
   {
    "duration": 60,
    "start_time": "2022-09-06T16:47:51.275Z"
   },
   {
    "duration": 15,
    "start_time": "2022-09-06T16:47:51.337Z"
   },
   {
    "duration": 33,
    "start_time": "2022-09-06T16:57:14.906Z"
   },
   {
    "duration": 10,
    "start_time": "2022-09-06T16:57:26.372Z"
   },
   {
    "duration": 3,
    "start_time": "2022-09-06T16:57:26.696Z"
   },
   {
    "duration": 10,
    "start_time": "2022-09-06T16:57:28.425Z"
   },
   {
    "duration": 12,
    "start_time": "2022-09-06T16:57:29.936Z"
   },
   {
    "duration": 96,
    "start_time": "2022-09-06T16:59:12.153Z"
   },
   {
    "duration": 8,
    "start_time": "2022-09-06T16:59:17.590Z"
   },
   {
    "duration": 1230,
    "start_time": "2022-09-06T17:00:13.876Z"
   },
   {
    "duration": 13,
    "start_time": "2022-09-06T17:00:33.245Z"
   },
   {
    "duration": 15,
    "start_time": "2022-09-06T17:00:36.868Z"
   },
   {
    "duration": 6,
    "start_time": "2022-09-06T17:00:52.267Z"
   },
   {
    "duration": 3,
    "start_time": "2022-09-06T17:01:29.146Z"
   },
   {
    "duration": 5,
    "start_time": "2022-09-06T17:02:01.946Z"
   }
  ],
  "kernelspec": {
   "display_name": "Python 3 (ipykernel)",
   "language": "python",
   "name": "python3"
  },
  "language_info": {
   "codemirror_mode": {
    "name": "ipython",
    "version": 3
   },
   "file_extension": ".py",
   "mimetype": "text/x-python",
   "name": "python",
   "nbconvert_exporter": "python",
   "pygments_lexer": "ipython3",
   "version": "3.9.12"
  },
  "toc": {
   "base_numbering": "1",
   "nav_menu": {},
   "number_sections": false,
   "sideBar": true,
   "skip_h1_title": false,
   "title_cell": "Table of Contents",
   "title_sidebar": "Contents",
   "toc_cell": false,
   "toc_position": {
    "height": "calc(100% - 180px)",
    "left": "10px",
    "top": "150px",
    "width": "208.011px"
   },
   "toc_section_display": true,
   "toc_window_display": true
  }
 },
 "nbformat": 4,
 "nbformat_minor": 2
}
