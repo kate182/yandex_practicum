{
 "cells": [
  {
   "cell_type": "markdown",
   "metadata": {},
   "source": [
    "Описание проекта\n",
    "=="
   ]
  },
  {
   "cell_type": "markdown",
   "metadata": {},
   "source": [
    "Необходимо провести анализ данных о продажах игр - выявить определяющие успешность игры закономерности. Это позволит сделать ставку на потенциально популярный продукт и спланировать рекламные кампании.\n",
    "\n",
    "Описание данных:\n",
    "* Name — название игры\n",
    "* Platform — платформа\n",
    "* Year_of_Release — год выпуска\n",
    "* Genre — жанр игры\n",
    "* NA_sales — продажи в Северной Америке (миллионы проданных копий)\n",
    "* EU_sales — продажи в Европе (миллионы проданных копий)\n",
    "* JP_sales — продажи в Японии (миллионы проданных копий)\n",
    "* Other_sales — продажи в других странах (миллионы проданных копий)\n",
    "* Critic_Score — оценка критиков (максимум 100)\n",
    "* User_Score — оценка пользователей (максимум 10)\n",
    "* Rating — рейтинг от организации ESRB (англ. Entertainment Software Rating Board). Эта ассоциация определяет рейтинг компьютерных игр и присваивает им подходящую возрастную категорию.\n"
   ]
  },
  {
   "cell_type": "markdown",
   "metadata": {},
   "source": [
    "# Содержание\n",
    "1. [Чтение данных](#read_data)\n",
    "2. [Подготовка данных](#preparation)\n",
    "3. [Исследовательский анализ данных](#research)\n",
    "4. [Портрет покупателя](#customer)\n",
    "5. [Проверка гипотез](#hypothesis)\n",
    "6. [Вывод](#conclusion)"
   ]
  },
  {
   "cell_type": "markdown",
   "metadata": {},
   "source": [
    "# Чтение данных<a name=\"read_data\"></a>"
   ]
  },
  {
   "cell_type": "code",
   "execution_count": 1,
   "metadata": {},
   "outputs": [],
   "source": [
    "#импорт библиотек и знакомство с данными\n",
    "import pandas as pd\n",
    "import matplotlib.pyplot as plt\n",
    "import seaborn as sns\n",
    "import numpy as np\n",
    "from scipy import stats as st\n",
    "%matplotlib inline"
   ]
  },
  {
   "cell_type": "code",
   "execution_count": 2,
   "metadata": {},
   "outputs": [
    {
     "data": {
      "text/html": [
       "<div>\n",
       "<style scoped>\n",
       "    .dataframe tbody tr th:only-of-type {\n",
       "        vertical-align: middle;\n",
       "    }\n",
       "\n",
       "    .dataframe tbody tr th {\n",
       "        vertical-align: top;\n",
       "    }\n",
       "\n",
       "    .dataframe thead th {\n",
       "        text-align: right;\n",
       "    }\n",
       "</style>\n",
       "<table border=\"1\" class=\"dataframe\">\n",
       "  <thead>\n",
       "    <tr style=\"text-align: right;\">\n",
       "      <th></th>\n",
       "      <th>Name</th>\n",
       "      <th>Platform</th>\n",
       "      <th>Year_of_Release</th>\n",
       "      <th>Genre</th>\n",
       "      <th>NA_sales</th>\n",
       "      <th>EU_sales</th>\n",
       "      <th>JP_sales</th>\n",
       "      <th>Other_sales</th>\n",
       "      <th>Critic_Score</th>\n",
       "      <th>User_Score</th>\n",
       "      <th>Rating</th>\n",
       "    </tr>\n",
       "  </thead>\n",
       "  <tbody>\n",
       "    <tr>\n",
       "      <th>0</th>\n",
       "      <td>Wii Sports</td>\n",
       "      <td>Wii</td>\n",
       "      <td>2006.0</td>\n",
       "      <td>Sports</td>\n",
       "      <td>41.36</td>\n",
       "      <td>28.96</td>\n",
       "      <td>3.77</td>\n",
       "      <td>8.45</td>\n",
       "      <td>76.0</td>\n",
       "      <td>8</td>\n",
       "      <td>E</td>\n",
       "    </tr>\n",
       "    <tr>\n",
       "      <th>1</th>\n",
       "      <td>Super Mario Bros.</td>\n",
       "      <td>NES</td>\n",
       "      <td>1985.0</td>\n",
       "      <td>Platform</td>\n",
       "      <td>29.08</td>\n",
       "      <td>3.58</td>\n",
       "      <td>6.81</td>\n",
       "      <td>0.77</td>\n",
       "      <td>NaN</td>\n",
       "      <td>NaN</td>\n",
       "      <td>NaN</td>\n",
       "    </tr>\n",
       "    <tr>\n",
       "      <th>2</th>\n",
       "      <td>Mario Kart Wii</td>\n",
       "      <td>Wii</td>\n",
       "      <td>2008.0</td>\n",
       "      <td>Racing</td>\n",
       "      <td>15.68</td>\n",
       "      <td>12.76</td>\n",
       "      <td>3.79</td>\n",
       "      <td>3.29</td>\n",
       "      <td>82.0</td>\n",
       "      <td>8.3</td>\n",
       "      <td>E</td>\n",
       "    </tr>\n",
       "    <tr>\n",
       "      <th>3</th>\n",
       "      <td>Wii Sports Resort</td>\n",
       "      <td>Wii</td>\n",
       "      <td>2009.0</td>\n",
       "      <td>Sports</td>\n",
       "      <td>15.61</td>\n",
       "      <td>10.93</td>\n",
       "      <td>3.28</td>\n",
       "      <td>2.95</td>\n",
       "      <td>80.0</td>\n",
       "      <td>8</td>\n",
       "      <td>E</td>\n",
       "    </tr>\n",
       "    <tr>\n",
       "      <th>4</th>\n",
       "      <td>Pokemon Red/Pokemon Blue</td>\n",
       "      <td>GB</td>\n",
       "      <td>1996.0</td>\n",
       "      <td>Role-Playing</td>\n",
       "      <td>11.27</td>\n",
       "      <td>8.89</td>\n",
       "      <td>10.22</td>\n",
       "      <td>1.00</td>\n",
       "      <td>NaN</td>\n",
       "      <td>NaN</td>\n",
       "      <td>NaN</td>\n",
       "    </tr>\n",
       "  </tbody>\n",
       "</table>\n",
       "</div>"
      ],
      "text/plain": [
       "                       Name Platform  Year_of_Release         Genre  NA_sales  \\\n",
       "0                Wii Sports      Wii           2006.0        Sports     41.36   \n",
       "1         Super Mario Bros.      NES           1985.0      Platform     29.08   \n",
       "2            Mario Kart Wii      Wii           2008.0        Racing     15.68   \n",
       "3         Wii Sports Resort      Wii           2009.0        Sports     15.61   \n",
       "4  Pokemon Red/Pokemon Blue       GB           1996.0  Role-Playing     11.27   \n",
       "\n",
       "   EU_sales  JP_sales  Other_sales  Critic_Score User_Score Rating  \n",
       "0     28.96      3.77         8.45          76.0          8      E  \n",
       "1      3.58      6.81         0.77           NaN        NaN    NaN  \n",
       "2     12.76      3.79         3.29          82.0        8.3      E  \n",
       "3     10.93      3.28         2.95          80.0          8      E  \n",
       "4      8.89     10.22         1.00           NaN        NaN    NaN  "
      ]
     },
     "execution_count": 2,
     "metadata": {},
     "output_type": "execute_result"
    }
   ],
   "source": [
    "data = pd.read_csv('/datasets/games.csv')\n",
    "data.head()"
   ]
  },
  {
   "cell_type": "code",
   "execution_count": 3,
   "metadata": {},
   "outputs": [
    {
     "name": "stdout",
     "output_type": "stream",
     "text": [
      "<class 'pandas.core.frame.DataFrame'>\n",
      "RangeIndex: 16715 entries, 0 to 16714\n",
      "Data columns (total 11 columns):\n",
      " #   Column           Non-Null Count  Dtype  \n",
      "---  ------           --------------  -----  \n",
      " 0   Name             16713 non-null  object \n",
      " 1   Platform         16715 non-null  object \n",
      " 2   Year_of_Release  16446 non-null  float64\n",
      " 3   Genre            16713 non-null  object \n",
      " 4   NA_sales         16715 non-null  float64\n",
      " 5   EU_sales         16715 non-null  float64\n",
      " 6   JP_sales         16715 non-null  float64\n",
      " 7   Other_sales      16715 non-null  float64\n",
      " 8   Critic_Score     8137 non-null   float64\n",
      " 9   User_Score       10014 non-null  object \n",
      " 10  Rating           9949 non-null   object \n",
      "dtypes: float64(6), object(5)\n",
      "memory usage: 1.4+ MB\n"
     ]
    }
   ],
   "source": [
    "data.info()"
   ]
  },
  {
   "cell_type": "code",
   "execution_count": 4,
   "metadata": {},
   "outputs": [
    {
     "data": {
      "text/html": [
       "<div>\n",
       "<style scoped>\n",
       "    .dataframe tbody tr th:only-of-type {\n",
       "        vertical-align: middle;\n",
       "    }\n",
       "\n",
       "    .dataframe tbody tr th {\n",
       "        vertical-align: top;\n",
       "    }\n",
       "\n",
       "    .dataframe thead th {\n",
       "        text-align: right;\n",
       "    }\n",
       "</style>\n",
       "<table border=\"1\" class=\"dataframe\">\n",
       "  <thead>\n",
       "    <tr style=\"text-align: right;\">\n",
       "      <th></th>\n",
       "      <th>Year_of_Release</th>\n",
       "      <th>NA_sales</th>\n",
       "      <th>EU_sales</th>\n",
       "      <th>JP_sales</th>\n",
       "      <th>Other_sales</th>\n",
       "      <th>Critic_Score</th>\n",
       "    </tr>\n",
       "  </thead>\n",
       "  <tbody>\n",
       "    <tr>\n",
       "      <th>count</th>\n",
       "      <td>16446.000000</td>\n",
       "      <td>16715.000000</td>\n",
       "      <td>16715.000000</td>\n",
       "      <td>16715.000000</td>\n",
       "      <td>16715.000000</td>\n",
       "      <td>8137.000000</td>\n",
       "    </tr>\n",
       "    <tr>\n",
       "      <th>mean</th>\n",
       "      <td>2006.484616</td>\n",
       "      <td>0.263377</td>\n",
       "      <td>0.145060</td>\n",
       "      <td>0.077617</td>\n",
       "      <td>0.047342</td>\n",
       "      <td>68.967679</td>\n",
       "    </tr>\n",
       "    <tr>\n",
       "      <th>std</th>\n",
       "      <td>5.877050</td>\n",
       "      <td>0.813604</td>\n",
       "      <td>0.503339</td>\n",
       "      <td>0.308853</td>\n",
       "      <td>0.186731</td>\n",
       "      <td>13.938165</td>\n",
       "    </tr>\n",
       "    <tr>\n",
       "      <th>min</th>\n",
       "      <td>1980.000000</td>\n",
       "      <td>0.000000</td>\n",
       "      <td>0.000000</td>\n",
       "      <td>0.000000</td>\n",
       "      <td>0.000000</td>\n",
       "      <td>13.000000</td>\n",
       "    </tr>\n",
       "    <tr>\n",
       "      <th>25%</th>\n",
       "      <td>2003.000000</td>\n",
       "      <td>0.000000</td>\n",
       "      <td>0.000000</td>\n",
       "      <td>0.000000</td>\n",
       "      <td>0.000000</td>\n",
       "      <td>60.000000</td>\n",
       "    </tr>\n",
       "    <tr>\n",
       "      <th>50%</th>\n",
       "      <td>2007.000000</td>\n",
       "      <td>0.080000</td>\n",
       "      <td>0.020000</td>\n",
       "      <td>0.000000</td>\n",
       "      <td>0.010000</td>\n",
       "      <td>71.000000</td>\n",
       "    </tr>\n",
       "    <tr>\n",
       "      <th>75%</th>\n",
       "      <td>2010.000000</td>\n",
       "      <td>0.240000</td>\n",
       "      <td>0.110000</td>\n",
       "      <td>0.040000</td>\n",
       "      <td>0.030000</td>\n",
       "      <td>79.000000</td>\n",
       "    </tr>\n",
       "    <tr>\n",
       "      <th>max</th>\n",
       "      <td>2016.000000</td>\n",
       "      <td>41.360000</td>\n",
       "      <td>28.960000</td>\n",
       "      <td>10.220000</td>\n",
       "      <td>10.570000</td>\n",
       "      <td>98.000000</td>\n",
       "    </tr>\n",
       "  </tbody>\n",
       "</table>\n",
       "</div>"
      ],
      "text/plain": [
       "       Year_of_Release      NA_sales      EU_sales      JP_sales  \\\n",
       "count     16446.000000  16715.000000  16715.000000  16715.000000   \n",
       "mean       2006.484616      0.263377      0.145060      0.077617   \n",
       "std           5.877050      0.813604      0.503339      0.308853   \n",
       "min        1980.000000      0.000000      0.000000      0.000000   \n",
       "25%        2003.000000      0.000000      0.000000      0.000000   \n",
       "50%        2007.000000      0.080000      0.020000      0.000000   \n",
       "75%        2010.000000      0.240000      0.110000      0.040000   \n",
       "max        2016.000000     41.360000     28.960000     10.220000   \n",
       "\n",
       "        Other_sales  Critic_Score  \n",
       "count  16715.000000   8137.000000  \n",
       "mean       0.047342     68.967679  \n",
       "std        0.186731     13.938165  \n",
       "min        0.000000     13.000000  \n",
       "25%        0.000000     60.000000  \n",
       "50%        0.010000     71.000000  \n",
       "75%        0.030000     79.000000  \n",
       "max       10.570000     98.000000  "
      ]
     },
     "execution_count": 4,
     "metadata": {},
     "output_type": "execute_result"
    }
   ],
   "source": [
    "data.describe()"
   ]
  },
  {
   "cell_type": "markdown",
   "metadata": {},
   "source": [
    "**Вывод**\n",
    "\n",
    "В нашем датасете собраны данные по играм, выпущенным с 1980 по 2016 год.\n",
    "В ходе проверки данных были выявлены следующие проблемы: \n",
    "* названия столбцов записаны в разном регистре\n",
    "* неверный тип данных в столбцах: Year_of_Release(должен быть целым числом) и User_Score(должен быть числом)\n",
    "* пропуски в названии игры, годах выпуска, рейтингах"
   ]
  },
  {
   "cell_type": "markdown",
   "metadata": {},
   "source": [
    "# Подготовка данных <a name=\"preparation\"></a>"
   ]
  },
  {
   "cell_type": "code",
   "execution_count": 5,
   "metadata": {},
   "outputs": [],
   "source": [
    "#приведем названия столбцов к нижнему реигстру:\n",
    "data.columns = data.columns.str.lower()"
   ]
  },
  {
   "cell_type": "code",
   "execution_count": 6,
   "metadata": {},
   "outputs": [],
   "source": [
    "#удалим строки с отсутсвующим годом выпуска:\n",
    "data.dropna(subset=['year_of_release'], inplace=True)"
   ]
  },
  {
   "cell_type": "code",
   "execution_count": 7,
   "metadata": {},
   "outputs": [],
   "source": [
    "#преобразуем тип данных в столбце с годом выпуска игры:\n",
    "data['year_of_release'] = data['year_of_release'].astype('int32')"
   ]
  },
  {
   "cell_type": "code",
   "execution_count": 8,
   "metadata": {},
   "outputs": [
    {
     "data": {
      "text/plain": [
       "tbd    2376\n",
       "7.8     322\n",
       "8       285\n",
       "8.2     276\n",
       "8.3     252\n",
       "       ... \n",
       "1         2\n",
       "0.3       2\n",
       "0.2       2\n",
       "9.7       1\n",
       "0         1\n",
       "Name: user_score, Length: 96, dtype: int64"
      ]
     },
     "execution_count": 8,
     "metadata": {},
     "output_type": "execute_result"
    }
   ],
   "source": [
    "#подсчитаем значения рейтингов, оставленных пользователями:\n",
    "data['user_score'].value_counts()"
   ]
  },
  {
   "cell_type": "markdown",
   "metadata": {},
   "source": [
    "В нашем датасете очень много пропусков в оценках игр - как критиками и ESRB, так и пользователями. Возможно, речь идет о каких-то не самых популярных играх, и их оценки просто не проводилось. Аббревиатура \"tbd\" расшифровывается как \"To Be Determined\", то есть \"Будет определено\". Обычно такое обозначение используется для игр, которые еще не вышли. Поскольку такое значение оказалось в столбце намеренно, стоит заменить его на NaN."
   ]
  },
  {
   "cell_type": "code",
   "execution_count": 9,
   "metadata": {},
   "outputs": [],
   "source": [
    "#заменим тип данных в столбце с оценкой пользователей:\n",
    "data['user_score'] = data['user_score'].replace('tbd', np.nan, regex=True)\n",
    "#переведем столбец с оценками пользователей в числовой тип:\n",
    "data['user_score'] = pd.to_numeric(data['user_score'])"
   ]
  },
  {
   "cell_type": "code",
   "execution_count": 10,
   "metadata": {},
   "outputs": [
    {
     "data": {
      "text/html": [
       "<div>\n",
       "<style scoped>\n",
       "    .dataframe tbody tr th:only-of-type {\n",
       "        vertical-align: middle;\n",
       "    }\n",
       "\n",
       "    .dataframe tbody tr th {\n",
       "        vertical-align: top;\n",
       "    }\n",
       "\n",
       "    .dataframe thead th {\n",
       "        text-align: right;\n",
       "    }\n",
       "</style>\n",
       "<table border=\"1\" class=\"dataframe\">\n",
       "  <thead>\n",
       "    <tr style=\"text-align: right;\">\n",
       "      <th></th>\n",
       "      <th>name</th>\n",
       "      <th>platform</th>\n",
       "      <th>year_of_release</th>\n",
       "      <th>genre</th>\n",
       "      <th>na_sales</th>\n",
       "      <th>eu_sales</th>\n",
       "      <th>jp_sales</th>\n",
       "      <th>other_sales</th>\n",
       "      <th>critic_score</th>\n",
       "      <th>user_score</th>\n",
       "      <th>rating</th>\n",
       "    </tr>\n",
       "  </thead>\n",
       "  <tbody>\n",
       "    <tr>\n",
       "      <th>659</th>\n",
       "      <td>NaN</td>\n",
       "      <td>GEN</td>\n",
       "      <td>1993</td>\n",
       "      <td>NaN</td>\n",
       "      <td>1.78</td>\n",
       "      <td>0.53</td>\n",
       "      <td>0.00</td>\n",
       "      <td>0.08</td>\n",
       "      <td>NaN</td>\n",
       "      <td>NaN</td>\n",
       "      <td>NaN</td>\n",
       "    </tr>\n",
       "    <tr>\n",
       "      <th>14244</th>\n",
       "      <td>NaN</td>\n",
       "      <td>GEN</td>\n",
       "      <td>1993</td>\n",
       "      <td>NaN</td>\n",
       "      <td>0.00</td>\n",
       "      <td>0.00</td>\n",
       "      <td>0.03</td>\n",
       "      <td>0.00</td>\n",
       "      <td>NaN</td>\n",
       "      <td>NaN</td>\n",
       "      <td>NaN</td>\n",
       "    </tr>\n",
       "  </tbody>\n",
       "</table>\n",
       "</div>"
      ],
      "text/plain": [
       "      name platform  year_of_release genre  na_sales  eu_sales  jp_sales  \\\n",
       "659    NaN      GEN             1993   NaN      1.78      0.53      0.00   \n",
       "14244  NaN      GEN             1993   NaN      0.00      0.00      0.03   \n",
       "\n",
       "       other_sales  critic_score  user_score rating  \n",
       "659           0.08           NaN         NaN    NaN  \n",
       "14244         0.00           NaN         NaN    NaN  "
      ]
     },
     "execution_count": 10,
     "metadata": {},
     "output_type": "execute_result"
    }
   ],
   "source": [
    "#выведем строки с пропусками в названии игры:\n",
    "data[data['name'].isna() == True]"
   ]
  },
  {
   "cell_type": "code",
   "execution_count": 11,
   "metadata": {},
   "outputs": [],
   "source": [
    "#поскольку у данных игр практически отсуствуют продажи, их оценки никем не проводилось, \n",
    "#а год выпуска довольно старый и для анализа не пригодится, то можно эти строки удалить:\n",
    "data.dropna(subset=['name'], inplace=True)"
   ]
  },
  {
   "cell_type": "code",
   "execution_count": 12,
   "metadata": {},
   "outputs": [
    {
     "name": "stdout",
     "output_type": "stream",
     "text": [
      "<class 'pandas.core.frame.DataFrame'>\n",
      "Int64Index: 16444 entries, 0 to 16714\n",
      "Data columns (total 11 columns):\n",
      " #   Column           Non-Null Count  Dtype  \n",
      "---  ------           --------------  -----  \n",
      " 0   name             16444 non-null  object \n",
      " 1   platform         16444 non-null  object \n",
      " 2   year_of_release  16444 non-null  int32  \n",
      " 3   genre            16444 non-null  object \n",
      " 4   na_sales         16444 non-null  float64\n",
      " 5   eu_sales         16444 non-null  float64\n",
      " 6   jp_sales         16444 non-null  float64\n",
      " 7   other_sales      16444 non-null  float64\n",
      " 8   critic_score     7983 non-null   float64\n",
      " 9   user_score       7463 non-null   float64\n",
      " 10  rating           9768 non-null   object \n",
      "dtypes: float64(6), int32(1), object(4)\n",
      "memory usage: 1.4+ MB\n"
     ]
    }
   ],
   "source": [
    "#выведем общую информацию о датасете еще раз:\n",
    "data.info()"
   ]
  },
  {
   "cell_type": "code",
   "execution_count": 13,
   "metadata": {},
   "outputs": [],
   "source": [
    "#создадим столбец с выручкой по всем регионам:\n",
    "data['revenue'] = (\n",
    "    data['na_sales'] +\n",
    "    data['eu_sales'] +\n",
    "    data['jp_sales'] +\n",
    "    data['other_sales'])"
   ]
  },
  {
   "cell_type": "markdown",
   "metadata": {},
   "source": [
    "Выявленные проблемы в данных исправлены:\n",
    "* названия столбцов записаны в нижнем регистре\n",
    "* переведены типы данных в столбцах 'year_of_release' и 'user_score'\n",
    "* удалены строки с отсуствующим годом выпуска и названием игры.\n",
    "\n",
    "Пропуски с рейтингами игр стоит заполнить заглушкой - т.к. рейтинг ESRB использвуется только для США и Канады, для остальных стран он не актуален (что может быть причиной наличия пропусков)."
   ]
  },
  {
   "cell_type": "code",
   "execution_count": 15,
   "metadata": {},
   "outputs": [],
   "source": [
    "#заменим пропуски:\n",
    "data['rating'] = data['rating'].fillna('QQQ')"
   ]
  },
  {
   "cell_type": "markdown",
   "metadata": {},
   "source": [
    "# Исследовательский анализ данных <a name=\"research\"></a>"
   ]
  },
  {
   "cell_type": "code",
   "execution_count": 16,
   "metadata": {},
   "outputs": [
    {
     "data": {
      "image/png": "[encoded data removed]",
      "text/plain": [
       "<Figure size 720x360 with 1 Axes>"
      ]
     },
     "metadata": {
      "needs_background": "light"
     },
     "output_type": "display_data"
    }
   ],
   "source": [
    "#проверим распределение выпущенных игр по годам:\n",
    "data['year_of_release'].hist(bins=37, figsize=(10, 5))\n",
    "plt.title('Количество выпущенных игр по годам')\n",
    "plt.xlabel('Год выпуска')\n",
    "plt.ylabel('Количество игр');"
   ]
  },
  {
   "cell_type": "markdown",
   "metadata": {},
   "source": [
    "Основная масса игр была выпущена с 2002 года. После 2008 года это количество начинает падать. \n",
    "\n",
    "Поскольку рынок компьютерных игр довольно динамичен, для анализа понадобятся только несколько последних лет. Проверим, какие платформы пользовались популярностью в разное время, а также выручку по самым популярным платформам:"
   ]
  },
  {
   "cell_type": "code",
   "execution_count": 17,
   "metadata": {},
   "outputs": [
    {
     "data": {
      "image/png": "[encoded data removed]",
      "text/plain": [
       "<Figure size 936x576 with 1 Axes>"
      ]
     },
     "metadata": {
      "needs_background": "light"
     },
     "output_type": "display_data"
    }
   ],
   "source": [
    "#изучим, какие платформы в какое время использовались:\n",
    "plt.figure(figsize=(13,8))\n",
    "sns.scatterplot(data=data,\\\n",
    "                x='year_of_release',\\\n",
    "                y='platform',\\\n",
    "                hue='genre',\\\n",
    "                size='genre',\\\n",
    "                sizes=(20, 300))\n",
    "plt.grid()\n",
    "plt.xlabel('Год выпуска')\n",
    "plt.ylabel('Платформа')\n",
    "plt.title('Используемые платформы по годам');"
   ]
  },
  {
   "cell_type": "markdown",
   "metadata": {},
   "source": [
    "Из диаграммы видно, что некоторые платформы устарели и больше не используются. На 2016 год актуальны 9 платформ: Wii, X360, PS3, GBA, PS4, PC, Xone, WiiU и PSV."
   ]
  },
  {
   "cell_type": "code",
   "execution_count": 18,
   "metadata": {},
   "outputs": [
    {
     "data": {
      "image/png": "[encoded data removed]",
      "text/plain": [
       "<Figure size 1008x360 with 1 Axes>"
      ]
     },
     "metadata": {
      "needs_background": "light"
     },
     "output_type": "display_data"
    }
   ],
   "source": [
    "#рассмотрим продажи игр на разных платформах:\n",
    "platform_sales = data.pivot_table(\n",
    "    index='platform', \n",
    "    values='revenue', \n",
    "    aggfunc='sum').sort_values(by='revenue', ascending=False)\n",
    "\n",
    "plt.figure(figsize=(14, 5))\n",
    "sns.barplot(x=platform_sales.index,\n",
    "            y=platform_sales['revenue'])\n",
    "plt.title('Продажи по платформам')\n",
    "plt.xlabel('Название платформы')\n",
    "plt.ylabel('Количество продаж');"
   ]
  },
  {
   "cell_type": "markdown",
   "metadata": {},
   "source": [
    "Лидерами по продажам за весь период являются 6 платформ: PS2, X360, PS3, Wii, DS, PS."
   ]
  },
  {
   "cell_type": "code",
   "execution_count": 19,
   "metadata": {},
   "outputs": [
    {
     "data": {
      "image/png": "[encoded data removed]",
      "text/plain": [
       "<Figure size 1080x360 with 1 Axes>"
      ]
     },
     "metadata": {
      "needs_background": "light"
     },
     "output_type": "display_data"
    }
   ],
   "source": [
    "#рассмотрим количество продаж на 6 самых популярных платформах.\n",
    "#напишем функцию, возвращающую сводную таблицу для построения графика:\n",
    "def popular_sales(platform, data):\n",
    "    slicee = data[data['platform'] == platform]\n",
    "    total = slicee.pivot_table(index='year_of_release', \n",
    "                               values='revenue', \n",
    "                               aggfunc='sum').sort_values('year_of_release', ascending=False)\n",
    "    return total\n",
    "\n",
    "#создадим сводную таблицу с самыми популярными платформами и их общими продажами:\n",
    "top6 = data.pivot_table(\n",
    "    index='platform', \n",
    "    values='revenue', \n",
    "    aggfunc='sum').sort_values(by='revenue', ascending=False).head(6)\n",
    "top6 = top6.reset_index().rename_axis(None, axis=1)\n",
    "\n",
    "#посмотрим график продаж:\n",
    "plt.figure(figsize=(15,5))\n",
    "plt.title('Количество продаж игр на самых популярных платформах')\n",
    "plt.xlabel('Год выпуска')\n",
    "plt.ylabel('Продажи')\n",
    "\n",
    "for i in list(top6['platform']):\n",
    "    sns.lineplot(data=popular_sales(i,data)['revenue'], label=i)\n",
    "    plt.legend()"
   ]
  },
  {
   "cell_type": "markdown",
   "metadata": {},
   "source": [
    "Из графика видно, что срок жизни самых популярных платформ составляет около 10 лет. Пик продаж практически у всех приходится на середину этого срока. Исключение здесь - платформа Wii: у них были высокие продажи с самого первого года существования платфомы, а на четвертый год пошел резкий спад.\n",
    "\n",
    "Платформа DS была выпущена в 2004 году, но в датасет попала срока, где указан 1985 год. Скорее всего, здесь есть какая-то ошибка в данных - либо неправильно указана платформа, либо год выпуска игры."
   ]
  },
  {
   "cell_type": "code",
   "execution_count": 20,
   "metadata": {},
   "outputs": [
    {
     "data": {
      "text/html": [
       "<div>\n",
       "<style scoped>\n",
       "    .dataframe tbody tr th:only-of-type {\n",
       "        vertical-align: middle;\n",
       "    }\n",
       "\n",
       "    .dataframe tbody tr th {\n",
       "        vertical-align: top;\n",
       "    }\n",
       "\n",
       "    .dataframe thead th {\n",
       "        text-align: right;\n",
       "    }\n",
       "</style>\n",
       "<table border=\"1\" class=\"dataframe\">\n",
       "  <thead>\n",
       "    <tr style=\"text-align: right;\">\n",
       "      <th></th>\n",
       "      <th>name</th>\n",
       "      <th>platform</th>\n",
       "      <th>year_of_release</th>\n",
       "      <th>genre</th>\n",
       "      <th>na_sales</th>\n",
       "      <th>eu_sales</th>\n",
       "      <th>jp_sales</th>\n",
       "      <th>other_sales</th>\n",
       "      <th>critic_score</th>\n",
       "      <th>user_score</th>\n",
       "      <th>rating</th>\n",
       "      <th>revenue</th>\n",
       "    </tr>\n",
       "  </thead>\n",
       "  <tbody>\n",
       "    <tr>\n",
       "      <th>15957</th>\n",
       "      <td>Strongest Tokyo University Shogi DS</td>\n",
       "      <td>DS</td>\n",
       "      <td>1985</td>\n",
       "      <td>Action</td>\n",
       "      <td>0.00</td>\n",
       "      <td>0.00</td>\n",
       "      <td>0.02</td>\n",
       "      <td>0.0</td>\n",
       "      <td>NaN</td>\n",
       "      <td>NaN</td>\n",
       "      <td>QQQ</td>\n",
       "      <td>0.02</td>\n",
       "    </tr>\n",
       "    <tr>\n",
       "      <th>13463</th>\n",
       "      <td>Cocoto Kart Racer</td>\n",
       "      <td>DS</td>\n",
       "      <td>2004</td>\n",
       "      <td>Racing</td>\n",
       "      <td>0.04</td>\n",
       "      <td>0.00</td>\n",
       "      <td>0.00</td>\n",
       "      <td>0.0</td>\n",
       "      <td>NaN</td>\n",
       "      <td>NaN</td>\n",
       "      <td>E</td>\n",
       "      <td>0.04</td>\n",
       "    </tr>\n",
       "    <tr>\n",
       "      <th>11517</th>\n",
       "      <td>Kenshuui Tendo Dokuta</td>\n",
       "      <td>DS</td>\n",
       "      <td>2004</td>\n",
       "      <td>Simulation</td>\n",
       "      <td>0.00</td>\n",
       "      <td>0.00</td>\n",
       "      <td>0.08</td>\n",
       "      <td>0.0</td>\n",
       "      <td>NaN</td>\n",
       "      <td>NaN</td>\n",
       "      <td>QQQ</td>\n",
       "      <td>0.08</td>\n",
       "    </tr>\n",
       "    <tr>\n",
       "      <th>4421</th>\n",
       "      <td>The Urbz: Sims in the City (all regions sales)</td>\n",
       "      <td>DS</td>\n",
       "      <td>2004</td>\n",
       "      <td>Simulation</td>\n",
       "      <td>0.40</td>\n",
       "      <td>0.01</td>\n",
       "      <td>0.02</td>\n",
       "      <td>0.0</td>\n",
       "      <td>NaN</td>\n",
       "      <td>NaN</td>\n",
       "      <td>QQQ</td>\n",
       "      <td>0.43</td>\n",
       "    </tr>\n",
       "    <tr>\n",
       "      <th>7902</th>\n",
       "      <td>Daigasso! Band Brothers</td>\n",
       "      <td>DS</td>\n",
       "      <td>2004</td>\n",
       "      <td>Misc</td>\n",
       "      <td>0.00</td>\n",
       "      <td>0.00</td>\n",
       "      <td>0.19</td>\n",
       "      <td>0.0</td>\n",
       "      <td>NaN</td>\n",
       "      <td>NaN</td>\n",
       "      <td>QQQ</td>\n",
       "      <td>0.19</td>\n",
       "    </tr>\n",
       "  </tbody>\n",
       "</table>\n",
       "</div>"
      ],
      "text/plain": [
       "                                                 name platform  \\\n",
       "15957             Strongest Tokyo University Shogi DS       DS   \n",
       "13463                               Cocoto Kart Racer       DS   \n",
       "11517                           Kenshuui Tendo Dokuta       DS   \n",
       "4421   The Urbz: Sims in the City (all regions sales)       DS   \n",
       "7902                          Daigasso! Band Brothers       DS   \n",
       "\n",
       "       year_of_release       genre  na_sales  eu_sales  jp_sales  other_sales  \\\n",
       "15957             1985      Action      0.00      0.00      0.02          0.0   \n",
       "13463             2004      Racing      0.04      0.00      0.00          0.0   \n",
       "11517             2004  Simulation      0.00      0.00      0.08          0.0   \n",
       "4421              2004  Simulation      0.40      0.01      0.02          0.0   \n",
       "7902              2004        Misc      0.00      0.00      0.19          0.0   \n",
       "\n",
       "       critic_score  user_score rating  revenue  \n",
       "15957           NaN         NaN    QQQ     0.02  \n",
       "13463           NaN         NaN      E     0.04  \n",
       "11517           NaN         NaN    QQQ     0.08  \n",
       "4421            NaN         NaN    QQQ     0.43  \n",
       "7902            NaN         NaN    QQQ     0.19  "
      ]
     },
     "execution_count": 20,
     "metadata": {},
     "output_type": "execute_result"
    }
   ],
   "source": [
    "data.query('platform == \"DS\"').sort_values(by='year_of_release').head()"
   ]
  },
  {
   "cell_type": "code",
   "execution_count": 21,
   "metadata": {},
   "outputs": [
    {
     "data": {
      "text/html": [
       "<div>\n",
       "<style scoped>\n",
       "    .dataframe tbody tr th:only-of-type {\n",
       "        vertical-align: middle;\n",
       "    }\n",
       "\n",
       "    .dataframe tbody tr th {\n",
       "        vertical-align: top;\n",
       "    }\n",
       "\n",
       "    .dataframe thead th {\n",
       "        text-align: right;\n",
       "    }\n",
       "</style>\n",
       "<table border=\"1\" class=\"dataframe\">\n",
       "  <thead>\n",
       "    <tr style=\"text-align: right;\">\n",
       "      <th></th>\n",
       "      <th>year_of_release</th>\n",
       "    </tr>\n",
       "    <tr>\n",
       "      <th>platform</th>\n",
       "      <th></th>\n",
       "    </tr>\n",
       "  </thead>\n",
       "  <tbody>\n",
       "    <tr>\n",
       "      <th>PC</th>\n",
       "      <td>26</td>\n",
       "    </tr>\n",
       "    <tr>\n",
       "      <th>GB</th>\n",
       "      <td>13</td>\n",
       "    </tr>\n",
       "    <tr>\n",
       "      <th>NES</th>\n",
       "      <td>12</td>\n",
       "    </tr>\n",
       "    <tr>\n",
       "      <th>X360</th>\n",
       "      <td>12</td>\n",
       "    </tr>\n",
       "    <tr>\n",
       "      <th>PSP</th>\n",
       "      <td>12</td>\n",
       "    </tr>\n",
       "    <tr>\n",
       "      <th>PS2</th>\n",
       "      <td>12</td>\n",
       "    </tr>\n",
       "    <tr>\n",
       "      <th>Wii</th>\n",
       "      <td>11</td>\n",
       "    </tr>\n",
       "    <tr>\n",
       "      <th>DS</th>\n",
       "      <td>11</td>\n",
       "    </tr>\n",
       "    <tr>\n",
       "      <th>PS3</th>\n",
       "      <td>11</td>\n",
       "    </tr>\n",
       "    <tr>\n",
       "      <th>2600</th>\n",
       "      <td>10</td>\n",
       "    </tr>\n",
       "    <tr>\n",
       "      <th>SNES</th>\n",
       "      <td>10</td>\n",
       "    </tr>\n",
       "    <tr>\n",
       "      <th>PS</th>\n",
       "      <td>10</td>\n",
       "    </tr>\n",
       "    <tr>\n",
       "      <th>XB</th>\n",
       "      <td>9</td>\n",
       "    </tr>\n",
       "    <tr>\n",
       "      <th>GBA</th>\n",
       "      <td>8</td>\n",
       "    </tr>\n",
       "    <tr>\n",
       "      <th>DC</th>\n",
       "      <td>7</td>\n",
       "    </tr>\n",
       "    <tr>\n",
       "      <th>GC</th>\n",
       "      <td>7</td>\n",
       "    </tr>\n",
       "    <tr>\n",
       "      <th>N64</th>\n",
       "      <td>7</td>\n",
       "    </tr>\n",
       "    <tr>\n",
       "      <th>SAT</th>\n",
       "      <td>6</td>\n",
       "    </tr>\n",
       "    <tr>\n",
       "      <th>3DS</th>\n",
       "      <td>6</td>\n",
       "    </tr>\n",
       "    <tr>\n",
       "      <th>PSV</th>\n",
       "      <td>6</td>\n",
       "    </tr>\n",
       "    <tr>\n",
       "      <th>WiiU</th>\n",
       "      <td>5</td>\n",
       "    </tr>\n",
       "    <tr>\n",
       "      <th>GEN</th>\n",
       "      <td>5</td>\n",
       "    </tr>\n",
       "    <tr>\n",
       "      <th>NG</th>\n",
       "      <td>4</td>\n",
       "    </tr>\n",
       "    <tr>\n",
       "      <th>PS4</th>\n",
       "      <td>4</td>\n",
       "    </tr>\n",
       "    <tr>\n",
       "      <th>XOne</th>\n",
       "      <td>4</td>\n",
       "    </tr>\n",
       "    <tr>\n",
       "      <th>WS</th>\n",
       "      <td>3</td>\n",
       "    </tr>\n",
       "    <tr>\n",
       "      <th>SCD</th>\n",
       "      <td>2</td>\n",
       "    </tr>\n",
       "    <tr>\n",
       "      <th>3DO</th>\n",
       "      <td>2</td>\n",
       "    </tr>\n",
       "    <tr>\n",
       "      <th>TG16</th>\n",
       "      <td>1</td>\n",
       "    </tr>\n",
       "    <tr>\n",
       "      <th>GG</th>\n",
       "      <td>1</td>\n",
       "    </tr>\n",
       "    <tr>\n",
       "      <th>PCFX</th>\n",
       "      <td>1</td>\n",
       "    </tr>\n",
       "  </tbody>\n",
       "</table>\n",
       "</div>"
      ],
      "text/plain": [
       "          year_of_release\n",
       "platform                 \n",
       "PC                     26\n",
       "GB                     13\n",
       "NES                    12\n",
       "X360                   12\n",
       "PSP                    12\n",
       "PS2                    12\n",
       "Wii                    11\n",
       "DS                     11\n",
       "PS3                    11\n",
       "2600                   10\n",
       "SNES                   10\n",
       "PS                     10\n",
       "XB                      9\n",
       "GBA                     8\n",
       "DC                      7\n",
       "GC                      7\n",
       "N64                     7\n",
       "SAT                     6\n",
       "3DS                     6\n",
       "PSV                     6\n",
       "WiiU                    5\n",
       "GEN                     5\n",
       "NG                      4\n",
       "PS4                     4\n",
       "XOne                    4\n",
       "WS                      3\n",
       "SCD                     2\n",
       "3DO                     2\n",
       "TG16                    1\n",
       "GG                      1\n",
       "PCFX                    1"
      ]
     },
     "execution_count": 21,
     "metadata": {},
     "output_type": "execute_result"
    }
   ],
   "source": [
    "#рассмотрим срок жизни различных платформ:\n",
    "durability = (data.loc[:,['year_of_release', 'platform']]\n",
    "        .drop_duplicates()\n",
    "        .pivot_table(index=['platform'], values='year_of_release', aggfunc='count')\n",
    "       )\n",
    "durability.sort_values(by='year_of_release', ascending=False)"
   ]
  },
  {
   "cell_type": "code",
   "execution_count": 22,
   "metadata": {},
   "outputs": [
    {
     "data": {
      "text/html": [
       "<div>\n",
       "<style scoped>\n",
       "    .dataframe tbody tr th:only-of-type {\n",
       "        vertical-align: middle;\n",
       "    }\n",
       "\n",
       "    .dataframe tbody tr th {\n",
       "        vertical-align: top;\n",
       "    }\n",
       "\n",
       "    .dataframe thead th {\n",
       "        text-align: right;\n",
       "    }\n",
       "</style>\n",
       "<table border=\"1\" class=\"dataframe\">\n",
       "  <thead>\n",
       "    <tr style=\"text-align: right;\">\n",
       "      <th></th>\n",
       "      <th>year_of_release</th>\n",
       "    </tr>\n",
       "  </thead>\n",
       "  <tbody>\n",
       "    <tr>\n",
       "      <th>count</th>\n",
       "      <td>31.000000</td>\n",
       "    </tr>\n",
       "    <tr>\n",
       "      <th>mean</th>\n",
       "      <td>7.677419</td>\n",
       "    </tr>\n",
       "    <tr>\n",
       "      <th>std</th>\n",
       "      <td>5.081910</td>\n",
       "    </tr>\n",
       "    <tr>\n",
       "      <th>min</th>\n",
       "      <td>1.000000</td>\n",
       "    </tr>\n",
       "    <tr>\n",
       "      <th>25%</th>\n",
       "      <td>4.000000</td>\n",
       "    </tr>\n",
       "    <tr>\n",
       "      <th>50%</th>\n",
       "      <td>7.000000</td>\n",
       "    </tr>\n",
       "    <tr>\n",
       "      <th>75%</th>\n",
       "      <td>11.000000</td>\n",
       "    </tr>\n",
       "    <tr>\n",
       "      <th>max</th>\n",
       "      <td>26.000000</td>\n",
       "    </tr>\n",
       "  </tbody>\n",
       "</table>\n",
       "</div>"
      ],
      "text/plain": [
       "       year_of_release\n",
       "count        31.000000\n",
       "mean          7.677419\n",
       "std           5.081910\n",
       "min           1.000000\n",
       "25%           4.000000\n",
       "50%           7.000000\n",
       "75%          11.000000\n",
       "max          26.000000"
      ]
     },
     "execution_count": 22,
     "metadata": {},
     "output_type": "execute_result"
    }
   ],
   "source": [
    "durability.describe()"
   ]
  },
  {
   "cell_type": "markdown",
   "metadata": {},
   "source": [
    "В среднем срок жизни игровой платформы составляет около 7 лет, хотя среди самых популярных этот срок составляет 10 лет. Здесь на среднее влияют некоторые платформы, которые быстро перестали использоваться - таких около 1/4 от общего количества.\n",
    "\n",
    "Исходя из предыдущих графиков и выводов, для анализа возьмем период с 2012 по 2016 год. Этих данных должно быть достаточно для выявления каких-либо трендов. Более ранний период брать не стоит, т.к. к анализу добавляются неактуальные платформы, а те, которые нам нужны, в то время еще не использовались."
   ]
  },
  {
   "cell_type": "code",
   "execution_count": 23,
   "metadata": {},
   "outputs": [
    {
     "data": {
      "image/png": "[encoded data removed]",
      "text/plain": [
       "<Figure size 1080x360 with 1 Axes>"
      ]
     },
     "metadata": {
      "needs_background": "light"
     },
     "output_type": "display_data"
    }
   ],
   "source": [
    "#рассмотрим продажи по актуальным платформам.\n",
    "#PSP и DS из анализа исключим, т.к. данные платформы в 2016 году уже не использовались.\n",
    "data_actual = data.query('year_of_release >= 2012')\n",
    "plt.figure(figsize=(15,5))\n",
    "sns.barplot(data=data_actual, x='platform', y='revenue')\n",
    "plt.title('Продажи по актуальным платформам')\n",
    "plt.xlabel('Платформа')\n",
    "plt.ylabel('Продажи');"
   ]
  },
  {
   "cell_type": "markdown",
   "metadata": {},
   "source": [
    "По продажам в последние года лидируют X360 и PS4. Помимо них есть еще три потенциально прибыльные платформы: PS3, XOne, Wii. Проверим продажи по этим пяти лидерам в разбике на года."
   ]
  },
  {
   "cell_type": "code",
   "execution_count": 24,
   "metadata": {},
   "outputs": [
    {
     "data": {
      "image/png": "[encoded data removed]",
      "text/plain": [
       "<Figure size 720x360 with 1 Axes>"
      ]
     },
     "metadata": {
      "needs_background": "light"
     },
     "output_type": "display_data"
    }
   ],
   "source": [
    "#напишем функцию, возвращающую сводную таблицу по каждой платформе:\n",
    "def platform_revenue(platform, data):\n",
    "    slicee = data_actual[data_actual['platform'] == platform]\n",
    "    total = slicee.pivot_table(index='year_of_release', \n",
    "                               values='revenue', \n",
    "                               aggfunc='sum').sort_values('year_of_release', ascending=False)\n",
    "    return total\n",
    "\n",
    "#сделаем сводную таблицу по 5 самым популярным платформам и их общими продажами:\n",
    "top5 = data_actual.pivot_table(\n",
    "    index='platform', \n",
    "    values='revenue', \n",
    "    aggfunc='sum').sort_values(by='revenue', ascending=False).head()\n",
    "top5 = top5.reset_index().rename_axis(None, axis=1)\n",
    "\n",
    "#построим график:\n",
    "plt.figure(figsize=(10,5))\n",
    "plt.title('Продажи в пятреке лидеров')\n",
    "plt.xlabel('Год выпуска игры')\n",
    "plt.ylabel('Продажи')\n",
    "\n",
    "for j in list(top5['platform']):\n",
    "    sns.lineplot(data=platform_revenue(j, data_actual)['revenue'], label=j)\n",
    "    plt.legend()"
   ]
  },
  {
   "cell_type": "markdown",
   "metadata": {},
   "source": [
    "На графике видно, что у всех потенциально прибыльных игровых платформ наблюдается падение продаж. Тем не менее, игры на PS4 все еще довольно неплохо продаются."
   ]
  },
  {
   "cell_type": "code",
   "execution_count": 25,
   "metadata": {},
   "outputs": [
    {
     "data": {
      "image/png": "[encoded data removed]",
      "text/plain": [
       "<Figure size 2160x720 with 1 Axes>"
      ]
     },
     "metadata": {
      "needs_background": "light"
     },
     "output_type": "display_data"
    },
    {
     "data": {
      "image/png": "[encoded data removed]",
      "text/plain": [
       "<Figure size 2160x720 with 1 Axes>"
      ]
     },
     "metadata": {
      "needs_background": "light"
     },
     "output_type": "display_data"
    }
   ],
   "source": [
    "#построим диаграмму размаха по выручке на каждой из 5 популярных платформ:\n",
    "plt.figure(figsize=(30,10))\n",
    "sns.boxplot(data=data_actual.query('platform == \"X360\"\\\n",
    "                                   or platform == \"PS4\" \\\n",
    "                                   or platform == \"PS3\"\\\n",
    "                                   or platform == \"XOne\"\\\n",
    "                                   or platform == \"Wii\"'), x='revenue', y='platform')\n",
    "plt.title('Диаграмма размаха', fontsize=25)\n",
    "plt.xlabel('Продажи', fontsize=22)\n",
    "plt.ylabel('Платформа',fontsize=22)\n",
    "plt.show();\n",
    "\n",
    "#построим диаграмму размаха по выручке на каждой из 5 популярных платформ c ограничением выбросов:\n",
    "plt.figure(figsize=(30,10))\n",
    "sns.boxplot(data=data_actual.query('platform == \"X360\"\\\n",
    "                                   or platform == \"PS4\" \\\n",
    "                                   or platform == \"PS3\"\\\n",
    "                                   or platform == \"XOne\"\\\n",
    "                                   or platform == \"Wii\"'), x='revenue', y='platform')\n",
    "plt.title('Диаграмма размаха', fontsize=25)\n",
    "plt.xlabel('Продажи', fontsize=22)\n",
    "plt.ylabel('Платформа',fontsize=22)\n",
    "plt.xlim(0, 2);"
   ]
  },
  {
   "cell_type": "markdown",
   "metadata": {},
   "source": [
    "Как видно из диаграмм, в продажах по каждой из 5 платформ есть выбросы. Но это имеет место быть: отдельные игры могли принести на порядок больше продаж."
   ]
  },
  {
   "cell_type": "code",
   "execution_count": 26,
   "metadata": {},
   "outputs": [],
   "source": [
    "#проверим влияние отзывов на продажи. Для анализа возьмем самую популярную из пятерки платформу - X360:\n",
    "data_360 = data_actual.query('platform == \"X360\"')"
   ]
  },
  {
   "cell_type": "code",
   "execution_count": 27,
   "metadata": {},
   "outputs": [
    {
     "data": {
      "text/plain": [
       "0.3605734888507336"
      ]
     },
     "execution_count": 27,
     "metadata": {},
     "output_type": "execute_result"
    },
    {
     "data": {
      "image/png": "[encoded data removed]",
      "text/plain": [
       "<Figure size 1080x360 with 1 Axes>"
      ]
     },
     "metadata": {
      "needs_background": "light"
     },
     "output_type": "display_data"
    }
   ],
   "source": [
    "#отзывы критиков\n",
    "plt.figure(figsize=(15, 5))\n",
    "sns.scatterplot(data=data_360, x='critic_score', y='revenue')\n",
    "plt.title('Зависимость продаж от оценок критиков')\n",
    "plt.xlabel('Оценки критиков')\n",
    "plt.ylabel('Продажи');\n",
    "data_360['critic_score'].corr(data_360['revenue'])"
   ]
  },
  {
   "cell_type": "code",
   "execution_count": 28,
   "metadata": {},
   "outputs": [
    {
     "data": {
      "text/plain": [
       "0.006163978646213326"
      ]
     },
     "execution_count": 28,
     "metadata": {},
     "output_type": "execute_result"
    },
    {
     "data": {
      "image/png": "[encoded data removed]",
      "text/plain": [
       "<Figure size 1080x360 with 1 Axes>"
      ]
     },
     "metadata": {
      "needs_background": "light"
     },
     "output_type": "display_data"
    }
   ],
   "source": [
    "#отзывы пользователей\n",
    "plt.figure(figsize=(15, 5))\n",
    "sns.scatterplot(data=data_360, x='user_score', y='revenue')\n",
    "plt.title('Зависимость продаж от оценок пользователей')\n",
    "plt.xlabel('Оценки пользователей')\n",
    "plt.ylabel('Продажи');\n",
    "data_360['user_score'].corr(data_360['revenue'])"
   ]
  },
  {
   "cell_type": "markdown",
   "metadata": {},
   "source": [
    "Зависимость продаж от оценок критиков слабая: с увеличением оценки продажи растут, но очень мало. Зависимости продаж от оценок пользователей в данном случае нет."
   ]
  },
  {
   "cell_type": "code",
   "execution_count": 29,
   "metadata": {
    "scrolled": false
   },
   "outputs": [
    {
     "data": {
      "image/png": "[encoded data removed]",
      "text/plain": [
       "<Figure size 1080x360 with 2 Axes>"
      ]
     },
     "metadata": {
      "needs_background": "light"
     },
     "output_type": "display_data"
    },
    {
     "data": {
      "text/plain": [
       "'Коэффециент корреляции оценок критиков и продаж'"
      ]
     },
     "metadata": {},
     "output_type": "display_data"
    },
    {
     "data": {
      "text/plain": [
       "0.3314972592629587"
      ]
     },
     "metadata": {},
     "output_type": "display_data"
    },
    {
     "data": {
      "text/plain": [
       "'Коэффециент корреляции оценок пользователей и продаж'"
      ]
     },
     "metadata": {},
     "output_type": "display_data"
    },
    {
     "data": {
      "text/plain": [
       "-0.005143522887113828"
      ]
     },
     "metadata": {},
     "output_type": "display_data"
    },
    {
     "data": {
      "image/png": "[encoded data removed]",
      "text/plain": [
       "<Figure size 1080x360 with 2 Axes>"
      ]
     },
     "metadata": {
      "needs_background": "light"
     },
     "output_type": "display_data"
    },
    {
     "data": {
      "text/plain": [
       "'Коэффециент корреляции оценок критиков и продаж'"
      ]
     },
     "metadata": {},
     "output_type": "display_data"
    },
    {
     "data": {
      "text/plain": [
       "0.40656790206178095"
      ]
     },
     "metadata": {},
     "output_type": "display_data"
    },
    {
     "data": {
      "text/plain": [
       "'Коэффециент корреляции оценок пользователей и продаж'"
      ]
     },
     "metadata": {},
     "output_type": "display_data"
    },
    {
     "data": {
      "text/plain": [
       "-0.031957110204556376"
      ]
     },
     "metadata": {},
     "output_type": "display_data"
    },
    {
     "data": {
      "image/png": "[encoded data removed]",
      "text/plain": [
       "<Figure size 1080x360 with 2 Axes>"
      ]
     },
     "metadata": {
      "needs_background": "light"
     },
     "output_type": "display_data"
    },
    {
     "data": {
      "text/plain": [
       "'Коэффециент корреляции оценок критиков и продаж'"
      ]
     },
     "metadata": {},
     "output_type": "display_data"
    },
    {
     "data": {
      "text/plain": [
       "0.4169983280084017"
      ]
     },
     "metadata": {},
     "output_type": "display_data"
    },
    {
     "data": {
      "text/plain": [
       "'Коэффециент корреляции оценок пользователей и продаж'"
      ]
     },
     "metadata": {},
     "output_type": "display_data"
    },
    {
     "data": {
      "text/plain": [
       "-0.06892505328279414"
      ]
     },
     "metadata": {},
     "output_type": "display_data"
    },
    {
     "data": {
      "image/png": "[encoded data removed]",
      "text/plain": [
       "<Figure size 1080x360 with 2 Axes>"
      ]
     },
     "metadata": {
      "needs_background": "light"
     },
     "output_type": "display_data"
    },
    {
     "data": {
      "text/plain": [
       "'Коэффециент корреляции оценок критиков и продаж'"
      ]
     },
     "metadata": {},
     "output_type": "display_data"
    },
    {
     "data": {
      "text/plain": [
       "-0.4243413011077494"
      ]
     },
     "metadata": {},
     "output_type": "display_data"
    },
    {
     "data": {
      "text/plain": [
       "'Коэффециент корреляции оценок пользователей и продаж'"
      ]
     },
     "metadata": {},
     "output_type": "display_data"
    },
    {
     "data": {
      "text/plain": [
       "0.29619680007479526"
      ]
     },
     "metadata": {},
     "output_type": "display_data"
    }
   ],
   "source": [
    "#проверим то же самое на остальных популярных платформах:\n",
    "#соберем данные по оставшимся 4 платформам отдельно:\n",
    "data_top = data_actual.query('platform == \"PS3\"\\\n",
    "                               or platform == \"PS4\"\\\n",
    "                               or platform == \"XOne\"\\\n",
    "                               or platform == \"Wii\"')\n",
    "\n",
    "#напишем функцию для пострения графиков:\n",
    "def score_dependence(platform_name):\n",
    "    platform = data_top[data_top['platform'] == platform_name]\n",
    "    fig, ax = plt.subplots(1 ,2, figsize=(15,5))\n",
    "    sns.scatterplot(x='critic_score', y='revenue', data=platform, ax=ax[0])\n",
    "    sns.scatterplot(x='user_score', y='revenue', data=platform, ax=ax[1])\n",
    "    fig.suptitle(platform_name, fontsize=15)\n",
    "    ax[0].set(xlabel='Оценка критиков')\n",
    "    ax[1].set(xlabel='Оценка пользователей')\n",
    "    ax[0].set(ylabel='Количество продаж')\n",
    "    ax[1].set(ylabel='Количество продаж')\n",
    "    plt.show()\n",
    "    critic_corr = platform['critic_score'].corr(platform['revenue'])\n",
    "    user_corr = platform['user_score'].corr(platform['revenue'])\n",
    "    display('Коэффециент корреляции оценок критиков и продаж', critic_corr) \n",
    "    display('Коэффециент корреляции оценок пользователей и продаж', user_corr)\n",
    "\n",
    "platforms_list = ['PS3', 'PS4', 'XOne', 'Wii']\n",
    "for platform in platforms_list:\n",
    "    score_dependence(platform)"
   ]
  },
  {
   "cell_type": "markdown",
   "metadata": {},
   "source": [
    "Как видно из диаграмм, ситуация на остальных популярных платформах схожая: оценки критиков влияют на количество продаж, но довольно слабо. Оценки пользователей никакого влияния на продажи не оказывают. \n",
    "\n",
    "Выбивается из общей картины только платформа Wii, но это, скорее всего, связано с потерей ее популярности в период, взятый для анализа. Оценок игр в это время проводилось мало, поэтому данную выборку не стоит считать репрезентативной."
   ]
  },
  {
   "cell_type": "code",
   "execution_count": 30,
   "metadata": {},
   "outputs": [
    {
     "data": {
      "image/png": "[encoded data removed]",
      "text/plain": [
       "<Figure size 1080x576 with 1 Axes>"
      ]
     },
     "metadata": {
      "needs_background": "light"
     },
     "output_type": "display_data"
    }
   ],
   "source": [
    "#проверим распределение игр по жанрам:\n",
    "plt.figure(figsize=(15,8))\n",
    "sns.barplot(data=data_actual, x='genre', y='revenue')\n",
    "plt.title('Распределение игр по жанрам', fontsize=20)\n",
    "plt.xlabel('Жанр игры', fontsize=15)\n",
    "plt.ylabel('Продажи',fontsize=15);"
   ]
  },
  {
   "cell_type": "markdown",
   "metadata": {},
   "source": [
    "Лучше всего продаются шутеры. Довольно неплохие продажи у игр жанров Platform и Sports. Меньше всего продаж приносят приключения и стратегии."
   ]
  },
  {
   "cell_type": "markdown",
   "metadata": {},
   "source": [
    "**Выводы**\n",
    "* Количество выпускаемых игр интенсивно росло с 2002 по 2008 годы. Далее начался спад, который продолжается и к 2016 году. Лидерами по продажам за весь период являются: PS2, X360, PS3, Wii, DS, PS.\n",
    "* На 2016 год актуальны 9 платформ: Wii, X360, PS3, GBA, PS4, PC, Xone, WiiU и PSV. \n",
    "* Срок жизни среди самых популярных платформ составляет около 10 лет. Основная часть продаж приходится на середину этого срока.\n",
    "* Оценки критиков слабо влияют на количество продаж - с увеличением оценки растут и продажи, но незначительно. Оценки пользователей никакого влияния на продажи не оказывают.\n",
    "* Самый продаваемый жанр игр за последние 5 лет - шутеры. На втором и третьем месте - игры жанров Platform и Sports. Хуже всего продаются Приключения и стратегии."
   ]
  },
  {
   "cell_type": "markdown",
   "metadata": {},
   "source": [
    "# Портрет покупателя <a name=\"customer\"></a>"
   ]
  },
  {
   "cell_type": "code",
   "execution_count": 31,
   "metadata": {},
   "outputs": [
    {
     "data": {
      "image/png": "[encoded data removed]",
      "text/plain": [
       "<Figure size 720x360 with 1 Axes>"
      ]
     },
     "metadata": {
      "needs_background": "light"
     },
     "output_type": "display_data"
    },
    {
     "data": {
      "image/png": "[encoded data removed]",
      "text/plain": [
       "<Figure size 720x360 with 1 Axes>"
      ]
     },
     "metadata": {
      "needs_background": "light"
     },
     "output_type": "display_data"
    },
    {
     "data": {
      "image/png": "[encoded data removed]",
      "text/plain": [
       "<Figure size 720x360 with 1 Axes>"
      ]
     },
     "metadata": {
      "needs_background": "light"
     },
     "output_type": "display_data"
    }
   ],
   "source": [
    "#рассмотрим самые популярные платформы по регионам:\n",
    "\n",
    "#Северная Америка\n",
    "plt.figure(figsize=(10,5))\n",
    "sns.barplot(data=data_actual, x='platform', y='na_sales')\n",
    "plt.title('Популярные платформы в Северной Америке')\n",
    "plt.xlabel('Платформа')\n",
    "plt.ylabel('Продажи');\n",
    "plt.show()\n",
    "\n",
    "#Европа\n",
    "plt.figure(figsize=(10,5))\n",
    "sns.barplot(data=data_actual, x='platform', y='eu_sales')\n",
    "plt.title('Популярные платформы в Европе')\n",
    "plt.xlabel('Платформа')\n",
    "plt.ylabel('Продажи');\n",
    "plt.show()\n",
    "\n",
    "#Япония\n",
    "plt.figure(figsize=(10,5))\n",
    "sns.barplot(data=data_actual, x='platform', y='jp_sales')\n",
    "plt.title('Популярные плтаформы в Японии')\n",
    "plt.xlabel('Платформа')\n",
    "plt.ylabel('Продажи');\n",
    "plt.show()"
   ]
  },
  {
   "cell_type": "markdown",
   "metadata": {},
   "source": [
    "Из графиков видно, что продажи в разных регионах различаются:\n",
    "* в Северной Америке наиболее популярны игры на X360, XOne и Wii.\n",
    "* в Европе лидер продаж - PS4. Помимо него популярен X360, а также PS3, XOne и Wii. \n",
    "* в Японии наибольшим спросом пользуется 3DS, остальные платформы получают сравнительно небольшое количество продаж."
   ]
  },
  {
   "cell_type": "code",
   "execution_count": 32,
   "metadata": {},
   "outputs": [
    {
     "data": {
      "image/png": "[encoded data removed]",
      "text/plain": [
       "<Figure size 360x360 with 1 Axes>"
      ]
     },
     "metadata": {},
     "output_type": "display_data"
    },
    {
     "data": {
      "image/png": "[encoded data removed]",
      "text/plain": [
       "<Figure size 360x360 with 1 Axes>"
      ]
     },
     "metadata": {},
     "output_type": "display_data"
    },
    {
     "data": {
      "image/png": "[encoded data removed]",
      "text/plain": [
       "<Figure size 360x360 with 1 Axes>"
      ]
     },
     "metadata": {},
     "output_type": "display_data"
    }
   ],
   "source": [
    "#рассмотрим самые популярные жанры в топ-5 платформах по регионам:\n",
    "\n",
    "#Северная Америка\n",
    "na_top_genres = data_actual.groupby('genre')['na_sales'].sum().sort_values(ascending=False).head()\n",
    "na_top_genres.plot(kind='pie', subplots=True, figsize=(5, 5))\n",
    "plt.title('Популярные жанры игр в Северной Америке');\n",
    "#plt.figure(figsize=(12,5))\n",
    "#sns.barplot(data=data_actual, x='genre', y='na_sales')\n",
    "#plt.title('Популярные жанры игр в Северной Америке')\n",
    "#plt.xlabel('Жанр игры')\n",
    "#plt.ylabel('Продажи');\n",
    "plt.show()\n",
    "\n",
    "#Европа\n",
    "na_top_genres = data_actual.groupby('genre')['eu_sales'].sum().sort_values(ascending=False).head()\n",
    "na_top_genres.plot(kind='pie', subplots=True, figsize=(5, 5))\n",
    "plt.title('Популярные жанры игр в Европе');\n",
    "#plt.figure(figsize=(12,5))\n",
    "#sns.barplot(data=data_actual, x='genre', y='eu_sales')\n",
    "#plt.title('Популярные игры в Европе')\n",
    "#plt.xlabel('Жанр игры')\n",
    "#plt.ylabel('Продажи');\n",
    "plt.show()\n",
    "\n",
    "#Япония\n",
    "na_top_genres = data_actual.groupby('genre')['jp_sales'].sum().sort_values(ascending=False).head()\n",
    "na_top_genres.plot(kind='pie', subplots=True, figsize=(5, 5))\n",
    "plt.title('Популярные жанры игр в Японии');\n",
    "#plt.figure(figsize=(12,5))\n",
    "#sns.barplot(data=data_actual, x='genre', y='jp_sales')\n",
    "#plt.title('Популярные игры в Японии')\n",
    "#plt.xlabel('Жанр игры')\n",
    "#plt.ylabel('Продажи');\n",
    "#plt.show()"
   ]
  },
  {
   "cell_type": "markdown",
   "metadata": {},
   "source": [
    "В Северной Америке и Европе самые продаваемые жанры в основном схожи: наиболее популярны жанры Shooter и Action. В Японии картина другая: здесь наиболее популярны игры Role-Playing и Action."
   ]
  },
  {
   "cell_type": "code",
   "execution_count": 33,
   "metadata": {},
   "outputs": [
    {
     "data": {
      "image/png": "[encoded data removed]",
      "text/plain": [
       "<Figure size 432x288 with 1 Axes>"
      ]
     },
     "metadata": {
      "needs_background": "light"
     },
     "output_type": "display_data"
    },
    {
     "data": {
      "image/png": "[encoded data removed]",
      "text/plain": [
       "<Figure size 432x288 with 1 Axes>"
      ]
     },
     "metadata": {
      "needs_background": "light"
     },
     "output_type": "display_data"
    },
    {
     "data": {
      "image/png": "[encoded data removed]",
      "text/plain": [
       "<Figure size 432x288 with 1 Axes>"
      ]
     },
     "metadata": {
      "needs_background": "light"
     },
     "output_type": "display_data"
    }
   ],
   "source": [
    "#рассмотрим влияние рейтинга ESRB на продажи в каждом регионе\n",
    "\n",
    "#Северная Америка\n",
    "na_esrb=data_actual.pivot_table(\n",
    "    index='rating',\n",
    "    values='na_sales',\n",
    "    aggfunc=('sum')).sort_values(by='na_sales')\n",
    "na_esrb.plot(kind='bar')\n",
    "plt.title('Продажи по рейтингу ESRB в Северной Америке')\n",
    "plt.xlabel('Рейтинг ESRB')\n",
    "plt.ylabel('Продажи')\n",
    "plt.show()\n",
    "\n",
    "#Европа\n",
    "eu_esrb=data_actual.pivot_table(\n",
    "    index='rating',\n",
    "    values='eu_sales',\n",
    "    aggfunc=('sum')).sort_values(by='eu_sales')\n",
    "eu_esrb.plot(kind='bar')\n",
    "plt.title('Продажи по рейтингу ESRB в Европе')\n",
    "plt.xlabel('Рейтинг ESRB')\n",
    "plt.ylabel('Продажи')\n",
    "plt.show()\n",
    "\n",
    "#Япония\n",
    "jp_esrb=data_actual.pivot_table(\n",
    "    index='rating',\n",
    "    values='jp_sales',\n",
    "    aggfunc=('sum')).sort_values(by='jp_sales')\n",
    "jp_esrb.plot(kind='bar')\n",
    "plt.title('Продажи по рейтингу ESRB в Японии')\n",
    "plt.xlabel('Рейтинг ESRB')\n",
    "plt.ylabel('Продажи')\n",
    "plt.show()"
   ]
  },
  {
   "cell_type": "markdown",
   "metadata": {},
   "source": [
    "В последние 5 лет в Северной Америке и Европе наиболее попуряны игры с рейтингом М (для взрослых). На втором месте - с рейтингом Е (для всех). В Японии больше всего продаж игр без рейтинга ESRB."
   ]
  },
  {
   "cell_type": "code",
   "execution_count": 34,
   "metadata": {},
   "outputs": [
    {
     "name": "stdout",
     "output_type": "stream",
     "text": [
      "0 0.0\n"
     ]
    },
    {
     "data": {
      "text/plain": [
       "QQQ     1275\n",
       "M        498\n",
       "T        412\n",
       "E        395\n",
       "E10+     306\n",
       "Name: rating, dtype: int64"
      ]
     },
     "execution_count": 34,
     "metadata": {},
     "output_type": "execute_result"
    }
   ],
   "source": [
    "# Комментарий ревьюера\n",
    "temp = data_actual.copy()\n",
    "print(temp.rating.isna().sum(), temp.rating.isna().sum()/len(temp))\n",
    "temp.rating.value_counts()"
   ]
  },
  {
   "cell_type": "markdown",
   "metadata": {},
   "source": [
    "**Выводы**\n",
    "* Портрет покупателя в разных регионах различается.\n",
    "* Покупатели из Северной Америки предпочитают играть на X360, XOne и Wii. Самые популярные жанры здесь - Shooter и Action. Наибольшую популярность имеют игры с рейтингом М (для взрослях), на втором месте - рейтинг Е (для всех).\n",
    "* Покупатели из Европы в основном играют на PS4. Кроме нее неплохие продажи игр на платформах X360, а также PS3, XOne и Wii. Самые популярные жанры здесь - Shooter и Action. Хотя рейтинг ESRB для данного региона не используется, все же наибольшую популярность имеют игры с рейтингом М (для взрослях), на втором месте - рейтинг Е (для всех).\n",
    "* Большая часть покупателей из Японии играют на 3DS, продажи по остальным платформам не очень большие. Самые популярные жанры игр в Японии - Role-Playing и Action. Больше всего здесь продаж игр без указания возрастного рейтинга (он не используется в данном регионе)."
   ]
  },
  {
   "cell_type": "markdown",
   "metadata": {},
   "source": [
    "# Проверка гипотез <a name=\"hypothesis\"></a>"
   ]
  },
  {
   "cell_type": "markdown",
   "metadata": {},
   "source": [
    "Сформулируем проверяемую гипотезу и альтернативную гипотезу:\n",
    "\n",
    "* Нулевая гипотеза: средние пользовательские рейтинги платформ Xbox One и PC одинаковые.\n",
    "* Альтернативная гипотеза: пользовательские рейтинги платформ Xbox One и PC различаются."
   ]
  },
  {
   "cell_type": "code",
   "execution_count": 35,
   "metadata": {},
   "outputs": [
    {
     "data": {
      "text/plain": [
       "'p-значение:'"
      ]
     },
     "metadata": {},
     "output_type": "display_data"
    },
    {
     "data": {
      "text/plain": [
       "0.18105405842457592"
      ]
     },
     "metadata": {},
     "output_type": "display_data"
    },
    {
     "data": {
      "text/plain": [
       "'Не получилось отвергнуть нулевую гипотезу'"
      ]
     },
     "metadata": {},
     "output_type": "display_data"
    }
   ],
   "source": [
    "#создадим переменные с пользовательскими рейтингами для обеих плтформ\n",
    "xbox_rating = data_actual.query('platform == \"X360\"')\n",
    "xbox_rating  = xbox_rating['user_score'].dropna()\n",
    "pc_rating = data_actual.query('platform == \"PC\"')\n",
    "pc_rating = pc_rating['user_score'].dropna()\n",
    "\n",
    "#выполним проверку гипотезы. Значение alpha возьмем 0.05, как общепринятый критерий.\n",
    "alpha = 0.05\n",
    "results = st.ttest_ind(xbox_rating, pc_rating, equal_var=False)\n",
    "\n",
    "display('p-значение:', results.pvalue)\n",
    "\n",
    "if (results.pvalue < alpha):\n",
    "    display(\"Отвергаем нулевую гипотезу\")\n",
    "else:\n",
    "    display(\"Не получилось отвергнуть нулевую гипотезу\")"
   ]
  },
  {
   "cell_type": "code",
   "execution_count": 36,
   "metadata": {},
   "outputs": [
    {
     "data": {
      "text/plain": [
       "6.220851063829787"
      ]
     },
     "execution_count": 36,
     "metadata": {},
     "output_type": "execute_result"
    }
   ],
   "source": [
    "#средний пользовательский рейтинг для xbox:\n",
    "xbox_rating.mean()"
   ]
  },
  {
   "cell_type": "code",
   "execution_count": 37,
   "metadata": {},
   "outputs": [
    {
     "data": {
      "text/plain": [
       "6.4286407766990274"
      ]
     },
     "execution_count": 37,
     "metadata": {},
     "output_type": "execute_result"
    }
   ],
   "source": [
    "#средний пользовательский рейтинг для pc:\n",
    "pc_rating.mean()"
   ]
  },
  {
   "cell_type": "markdown",
   "metadata": {},
   "source": [
    "С высокой вероятностью пользовательские рейтинги будут одинаковыми. Нулевую гипотезу отвергнуть не получилось."
   ]
  },
  {
   "cell_type": "markdown",
   "metadata": {},
   "source": [
    "Сформулируем следующую проверяемую гипотезу и альтернативнуй ей гипотезу:\n",
    "\n",
    "* Нулевая гипотеза: средние пользовательские рейтинги жанров Action и Sports одинаковые.\n",
    "* Альтернативная гипотеза: средние пользовательские рейтинги жанров Action и Sports различаются."
   ]
  },
  {
   "cell_type": "code",
   "execution_count": 38,
   "metadata": {},
   "outputs": [
    {
     "data": {
      "text/plain": [
       "'p-значение:'"
      ]
     },
     "metadata": {},
     "output_type": "display_data"
    },
    {
     "data": {
      "text/plain": [
       "4.24307776572644e-20"
      ]
     },
     "metadata": {},
     "output_type": "display_data"
    },
    {
     "data": {
      "text/plain": [
       "'Отвергаем нулевую гипотезу'"
      ]
     },
     "metadata": {},
     "output_type": "display_data"
    }
   ],
   "source": [
    "#создадим переменные с пользовательскими рейтингами для обоих жанров:\n",
    "action_rating = data_actual.query('genre == \"Action\"')\n",
    "action_rating  = action_rating['user_score'].dropna()\n",
    "sports_rating = data_actual.query('genre == \"Sports\"')\n",
    "sports_rating = sports_rating['user_score'].dropna()\n",
    "\n",
    "#выполним проверку гипотезы. Значение alpha возьмем 0.05, как общепринятый критерий.\n",
    "alpha = 0.05\n",
    "results = st.ttest_ind(action_rating, sports_rating, equal_var=False)\n",
    "\n",
    "display('p-значение:', results.pvalue)\n",
    "\n",
    "if (results.pvalue < alpha):\n",
    "    display(\"Отвергаем нулевую гипотезу\")\n",
    "else:\n",
    "    display(\"Не получилось отвергнуть нулевую гипотезу\")"
   ]
  },
  {
   "cell_type": "code",
   "execution_count": 39,
   "metadata": {},
   "outputs": [
    {
     "data": {
      "text/plain": [
       "6.825047801147227"
      ]
     },
     "execution_count": 39,
     "metadata": {},
     "output_type": "execute_result"
    }
   ],
   "source": [
    "#средний пользовательский рейтинг для жанра Action:\n",
    "action_rating.mean()"
   ]
  },
  {
   "cell_type": "code",
   "execution_count": 40,
   "metadata": {},
   "outputs": [
    {
     "data": {
      "text/plain": [
       "5.455897435897437"
      ]
     },
     "execution_count": 40,
     "metadata": {},
     "output_type": "execute_result"
    }
   ],
   "source": [
    "#средний пользовательский рейтинг для жанра Sports:\n",
    "sports_rating.mean()"
   ]
  },
  {
   "cell_type": "markdown",
   "metadata": {},
   "source": [
    "Вероятность получить одинаковые пользовательские рейтинги в жанрах Action и Sports стремится к нулю. Таким образом, нулевая гипотеза отвергается."
   ]
  },
  {
   "cell_type": "markdown",
   "metadata": {},
   "source": [
    "**Выводы**\n",
    "* Гипотезу о том, что средние пользовательские рейтинги платформ Xbox One и PC одинаковые, отвергнуть не получилось. С большой вероятностью оценки игр пользователями этих двух платформ будут одинаковыми или очень близкими друг к другу.\n",
    "* Гипотеза о том, что средние пользовательские рейтинги жанров Action и Sports одинаковые, отвергается - скорее всего оценки пользователей по этим жанрам будут различаться."
   ]
  },
  {
   "cell_type": "markdown",
   "metadata": {},
   "source": [
    "# Вывод <a name=\"conclusion\"></a>"
   ]
  },
  {
   "cell_type": "markdown",
   "metadata": {},
   "source": [
    "В ходе анализа данных за все периоды было выявлено, что:\n",
    "* количество выпускаемых игр интенсивно росло с 2002 по 2008 годы. Далее начался спад, который продолжается и к 2016 году. Лидерами по продажам за весь период являются: PS2, X360, PS3, Wii, DS, PS.\n",
    "* на 2016 год актуальны 9 платформ: Wii, X360, PS3, GBA, PS4, PC, Xone, WiiU и PSV. \n",
    "* срок жизни среди самых популярных платформ составляет около 10 лет. Основная часть продаж приходится на середину этого срока.\n",
    "\n",
    "В ходе анализа данных за последние 5 лет было выявлено, что:\n",
    "* оценки критиков слабо влияют на количество продаж - с увеличением оценки растут и продажи, но незначительно. Оценки пользователей никакого влияния на продажи не оказывают.\n",
    "* самый продаваемый жанр игр за последние 5 лет - шутеры. На втором и третьем месте - игры жанров Platform и Sports. Хуже всего продаются приключения и стратегии.\n",
    "* портрет покупателя в разных регионах различается.\n",
    "* покупатели из Северной Америки предпочитают играть на X360, XOne и Wii. Самые популярные жанры здесь - Shooter, Platform и Sports. Наибольшую популярность имеют игры с рейтингом М (для взрослых), на втором месте - рейтинг Е (для всех).\n",
    "* покупатели из Европы в основном играют на PS4. Кроме нее неплохие продажи игр на платформах X360, а также PS3, XOne и Wii. Самые популярные жанры здесь - Shooter, Platform, Sports и Racing. Наибольшую популярность имеют игры с рейтингом М (для взрослях), на втором месте - рейтинг Е (для всех).\n",
    "* большая часть покупателей из Японии играют на 3DS, продажи по остальным платформам не очень большие. Самые популярные жанры игр в Японии - Role-Playing и Simulation. Больше всего в этом регионе продаются игры без указания возрастного рейтинга.\n",
    "\n",
    "**Исходя из описанных выше выводов, предполагаю, что стратегию продаж на 2017 год стоит строить по-разному в разных регионах:**\n",
    "* для Америки сделать упор на xbox 360 и игры жанров Shooter и Action. Стоит учесть рейтинг ESRB: лучше всего продаются игры с рейтингом М и Е.\n",
    "* для Европы - на PS4 и игры жанров Shooter и Action. Можно учесть рейтинг ESRB: лучше всего продаются игры с рейтингом М и Е.\n",
    "* для Японии - на 3DS и игры жанров Role-Playing и Action. Рейтинг ESRB здесь учитывать не стоит.\n",
    "* отзывы об играх мало влияют на их продажи, поэтому можно не брать их в расчет."
   ]
  }
 ],
 "metadata": {
  "ExecuteTimeLog": [
   {
    "duration": 398,
    "start_time": "2022-07-11T08:59:57.641Z"
   },
   {
    "duration": 215,
    "start_time": "2022-07-11T09:00:21.502Z"
   },
   {
    "duration": 68,
    "start_time": "2022-07-11T09:00:28.908Z"
   },
   {
    "duration": 15,
    "start_time": "2022-07-11T09:00:41.841Z"
   },
   {
    "duration": 86,
    "start_time": "2022-07-11T09:04:27.106Z"
   },
   {
    "duration": 44,
    "start_time": "2022-07-11T09:07:48.619Z"
   },
   {
    "duration": 103,
    "start_time": "2022-07-11T09:14:08.131Z"
   },
   {
    "duration": 14,
    "start_time": "2022-07-11T09:14:16.493Z"
   },
   {
    "duration": 3,
    "start_time": "2022-07-11T09:19:23.364Z"
   },
   {
    "duration": 22,
    "start_time": "2022-07-11T09:19:47.643Z"
   },
   {
    "duration": 19,
    "start_time": "2022-07-11T09:21:50.042Z"
   },
   {
    "duration": 14,
    "start_time": "2022-07-11T09:23:03.654Z"
   },
   {
    "duration": 12,
    "start_time": "2022-07-11T09:26:40.586Z"
   },
   {
    "duration": 7,
    "start_time": "2022-07-11T09:29:50.045Z"
   },
   {
    "duration": 29,
    "start_time": "2022-07-11T09:29:56.694Z"
   },
   {
    "duration": 596,
    "start_time": "2022-07-11T09:29:58.868Z"
   },
   {
    "duration": 3,
    "start_time": "2022-07-11T09:31:13.199Z"
   },
   {
    "duration": 3,
    "start_time": "2022-07-11T09:31:16.278Z"
   },
   {
    "duration": 14,
    "start_time": "2022-07-11T09:32:01.078Z"
   },
   {
    "duration": 7,
    "start_time": "2022-07-11T09:36:55.047Z"
   },
   {
    "duration": 330,
    "start_time": "2022-07-11T09:46:56.049Z"
   },
   {
    "duration": 9,
    "start_time": "2022-07-11T09:47:18.243Z"
   },
   {
    "duration": 376,
    "start_time": "2022-07-11T09:47:38.826Z"
   },
   {
    "duration": 10,
    "start_time": "2022-07-11T09:48:28.393Z"
   },
   {
    "duration": 12,
    "start_time": "2022-07-11T09:48:32.661Z"
   },
   {
    "duration": 14,
    "start_time": "2022-07-11T09:52:25.465Z"
   },
   {
    "duration": 98,
    "start_time": "2022-07-11T09:53:36.640Z"
   },
   {
    "duration": 7,
    "start_time": "2022-07-11T09:53:43.420Z"
   },
   {
    "duration": 13,
    "start_time": "2022-07-11T09:54:27.390Z"
   },
   {
    "duration": 7,
    "start_time": "2022-07-11T09:55:05.905Z"
   },
   {
    "duration": 13,
    "start_time": "2022-07-11T09:55:18.277Z"
   },
   {
    "duration": 14,
    "start_time": "2022-07-11T09:57:09.873Z"
   },
   {
    "duration": 14,
    "start_time": "2022-07-11T09:57:17.699Z"
   },
   {
    "duration": 17,
    "start_time": "2022-07-11T09:57:26.767Z"
   },
   {
    "duration": 14,
    "start_time": "2022-07-11T09:59:56.486Z"
   },
   {
    "duration": 7,
    "start_time": "2022-07-11T10:04:21.905Z"
   },
   {
    "duration": 13,
    "start_time": "2022-07-11T10:04:27.256Z"
   },
   {
    "duration": 114,
    "start_time": "2022-07-11T10:18:19.615Z"
   },
   {
    "duration": 5,
    "start_time": "2022-07-11T10:19:08.589Z"
   },
   {
    "duration": 696,
    "start_time": "2022-07-11T10:38:05.254Z"
   },
   {
    "duration": 11,
    "start_time": "2022-07-11T10:38:38.947Z"
   },
   {
    "duration": 8,
    "start_time": "2022-07-11T10:38:45.528Z"
   },
   {
    "duration": 64,
    "start_time": "2022-07-11T10:38:52.942Z"
   },
   {
    "duration": 1232,
    "start_time": "2022-07-11T10:38:56.936Z"
   },
   {
    "duration": 1927,
    "start_time": "2022-07-11T10:39:40.051Z"
   },
   {
    "duration": 774,
    "start_time": "2022-07-11T10:40:01.731Z"
   },
   {
    "duration": 21,
    "start_time": "2022-07-11T10:40:02.508Z"
   },
   {
    "duration": 55,
    "start_time": "2022-07-11T10:40:02.532Z"
   },
   {
    "duration": 3,
    "start_time": "2022-07-11T10:40:05.082Z"
   },
   {
    "duration": 9,
    "start_time": "2022-07-11T10:40:05.413Z"
   },
   {
    "duration": 4,
    "start_time": "2022-07-11T10:40:05.701Z"
   },
   {
    "duration": 8,
    "start_time": "2022-07-11T10:40:05.986Z"
   },
   {
    "duration": 11,
    "start_time": "2022-07-11T10:40:07.803Z"
   },
   {
    "duration": 20,
    "start_time": "2022-07-11T10:40:08.202Z"
   },
   {
    "duration": 9,
    "start_time": "2022-07-11T10:40:09.505Z"
   },
   {
    "duration": 20,
    "start_time": "2022-07-11T10:40:09.898Z"
   },
   {
    "duration": 5,
    "start_time": "2022-07-11T10:40:10.209Z"
   },
   {
    "duration": 202,
    "start_time": "2022-07-11T10:40:12.327Z"
   },
   {
    "duration": 202,
    "start_time": "2022-07-11T10:40:28.202Z"
   },
   {
    "duration": 198,
    "start_time": "2022-07-11T10:40:48.113Z"
   },
   {
    "duration": 612,
    "start_time": "2022-07-11T10:43:49.990Z"
   },
   {
    "duration": 1243,
    "start_time": "2022-07-11T10:43:59.836Z"
   },
   {
    "duration": 15,
    "start_time": "2022-07-11T10:44:01.081Z"
   },
   {
    "duration": 44,
    "start_time": "2022-07-11T10:44:01.098Z"
   },
   {
    "duration": 3,
    "start_time": "2022-07-11T10:44:01.144Z"
   },
   {
    "duration": 13,
    "start_time": "2022-07-11T10:44:01.148Z"
   },
   {
    "duration": 9,
    "start_time": "2022-07-11T10:44:01.163Z"
   },
   {
    "duration": 14,
    "start_time": "2022-07-11T10:44:01.173Z"
   },
   {
    "duration": 18,
    "start_time": "2022-07-11T10:44:01.189Z"
   },
   {
    "duration": 36,
    "start_time": "2022-07-11T10:44:01.209Z"
   },
   {
    "duration": 7,
    "start_time": "2022-07-11T10:44:01.248Z"
   },
   {
    "duration": 18,
    "start_time": "2022-07-11T10:44:01.256Z"
   },
   {
    "duration": 5,
    "start_time": "2022-07-11T10:44:01.276Z"
   },
   {
    "duration": 221,
    "start_time": "2022-07-11T10:44:01.283Z"
   },
   {
    "duration": 214,
    "start_time": "2022-07-11T10:44:25.277Z"
   },
   {
    "duration": 205,
    "start_time": "2022-07-11T10:46:10.626Z"
   },
   {
    "duration": 226,
    "start_time": "2022-07-11T10:46:33.599Z"
   },
   {
    "duration": 219,
    "start_time": "2022-07-11T10:46:36.439Z"
   },
   {
    "duration": 102,
    "start_time": "2022-07-11T10:49:56.162Z"
   },
   {
    "duration": 1225,
    "start_time": "2022-07-11T10:51:23.649Z"
   },
   {
    "duration": 14,
    "start_time": "2022-07-11T10:51:24.876Z"
   },
   {
    "duration": 34,
    "start_time": "2022-07-11T10:51:24.892Z"
   },
   {
    "duration": 3,
    "start_time": "2022-07-11T10:51:24.928Z"
   },
   {
    "duration": 12,
    "start_time": "2022-07-11T10:51:24.934Z"
   },
   {
    "duration": 7,
    "start_time": "2022-07-11T10:51:24.948Z"
   },
   {
    "duration": 7,
    "start_time": "2022-07-11T10:51:24.957Z"
   },
   {
    "duration": 32,
    "start_time": "2022-07-11T10:51:24.966Z"
   },
   {
    "duration": 16,
    "start_time": "2022-07-11T10:51:25.000Z"
   },
   {
    "duration": 7,
    "start_time": "2022-07-11T10:51:25.018Z"
   },
   {
    "duration": 16,
    "start_time": "2022-07-11T10:51:25.027Z"
   },
   {
    "duration": 6,
    "start_time": "2022-07-11T10:51:25.045Z"
   },
   {
    "duration": 263,
    "start_time": "2022-07-11T10:51:25.052Z"
   },
   {
    "duration": 103,
    "start_time": "2022-07-11T10:51:25.317Z"
   },
   {
    "duration": 20,
    "start_time": "2022-07-11T10:56:06.838Z"
   },
   {
    "duration": 11,
    "start_time": "2022-07-11T10:57:04.807Z"
   },
   {
    "duration": 5,
    "start_time": "2022-07-11T10:58:07.366Z"
   },
   {
    "duration": 15,
    "start_time": "2022-07-11T10:58:16.550Z"
   },
   {
    "duration": 294,
    "start_time": "2022-07-11T10:59:21.530Z"
   },
   {
    "duration": 95,
    "start_time": "2022-07-11T10:59:51.278Z"
   },
   {
    "duration": 102,
    "start_time": "2022-07-11T10:59:59.988Z"
   },
   {
    "duration": 281,
    "start_time": "2022-07-11T11:00:17.988Z"
   },
   {
    "duration": 277,
    "start_time": "2022-07-11T11:00:22.025Z"
   },
   {
    "duration": 312,
    "start_time": "2022-07-11T11:00:25.763Z"
   },
   {
    "duration": 282,
    "start_time": "2022-07-11T11:00:30.404Z"
   },
   {
    "duration": 86,
    "start_time": "2022-07-11T11:01:01.045Z"
   },
   {
    "duration": 287,
    "start_time": "2022-07-11T11:01:07.718Z"
   },
   {
    "duration": 15,
    "start_time": "2022-07-11T11:03:55.827Z"
   },
   {
    "duration": 306,
    "start_time": "2022-07-11T11:03:59.699Z"
   },
   {
    "duration": 375,
    "start_time": "2022-07-11T11:06:15.546Z"
   },
   {
    "duration": 270,
    "start_time": "2022-07-11T11:06:18.506Z"
   },
   {
    "duration": 89,
    "start_time": "2022-07-11T11:06:45.600Z"
   },
   {
    "duration": 1362,
    "start_time": "2022-07-11T11:06:54.948Z"
   },
   {
    "duration": 1370,
    "start_time": "2022-07-11T11:07:07.802Z"
   },
   {
    "duration": 1351,
    "start_time": "2022-07-11T11:07:33.528Z"
   },
   {
    "duration": 65,
    "start_time": "2022-07-11T11:13:31.797Z"
   },
   {
    "duration": 1230,
    "start_time": "2022-07-11T11:13:42.350Z"
   },
   {
    "duration": 16,
    "start_time": "2022-07-11T11:13:43.582Z"
   },
   {
    "duration": 35,
    "start_time": "2022-07-11T11:13:43.600Z"
   },
   {
    "duration": 3,
    "start_time": "2022-07-11T11:13:43.637Z"
   },
   {
    "duration": 19,
    "start_time": "2022-07-11T11:13:43.643Z"
   },
   {
    "duration": 4,
    "start_time": "2022-07-11T11:13:43.664Z"
   },
   {
    "duration": 8,
    "start_time": "2022-07-11T11:13:43.670Z"
   },
   {
    "duration": 15,
    "start_time": "2022-07-11T11:13:43.697Z"
   },
   {
    "duration": 18,
    "start_time": "2022-07-11T11:13:43.713Z"
   },
   {
    "duration": 9,
    "start_time": "2022-07-11T11:13:43.733Z"
   },
   {
    "duration": 14,
    "start_time": "2022-07-11T11:13:43.744Z"
   },
   {
    "duration": 38,
    "start_time": "2022-07-11T11:13:43.760Z"
   },
   {
    "duration": 237,
    "start_time": "2022-07-11T11:13:43.800Z"
   },
   {
    "duration": 1378,
    "start_time": "2022-07-11T11:13:44.040Z"
   },
   {
    "duration": 1248,
    "start_time": "2022-07-11T11:14:05.474Z"
   },
   {
    "duration": 1190,
    "start_time": "2022-07-11T11:14:17.003Z"
   },
   {
    "duration": 1347,
    "start_time": "2022-07-11T11:15:16.266Z"
   },
   {
    "duration": 1497,
    "start_time": "2022-07-11T11:15:40.554Z"
   },
   {
    "duration": 1396,
    "start_time": "2022-07-11T11:17:45.540Z"
   },
   {
    "duration": 1508,
    "start_time": "2022-07-11T11:17:57.567Z"
   },
   {
    "duration": 381,
    "start_time": "2022-07-11T11:18:19.872Z"
   },
   {
    "duration": 1335,
    "start_time": "2022-07-11T11:18:25.312Z"
   },
   {
    "duration": 1294,
    "start_time": "2022-07-11T11:20:24.511Z"
   },
   {
    "duration": 433,
    "start_time": "2022-07-11T11:20:56.583Z"
   },
   {
    "duration": 853,
    "start_time": "2022-07-11T11:21:26.796Z"
   },
   {
    "duration": 646,
    "start_time": "2022-07-11T11:21:30.539Z"
   },
   {
    "duration": 1425,
    "start_time": "2022-07-11T11:21:40.038Z"
   },
   {
    "duration": 1241,
    "start_time": "2022-07-11T11:21:52.612Z"
   },
   {
    "duration": 85,
    "start_time": "2022-07-11T11:22:00.534Z"
   },
   {
    "duration": 1415,
    "start_time": "2022-07-11T11:22:09.824Z"
   },
   {
    "duration": 919,
    "start_time": "2022-07-11T11:28:47.505Z"
   },
   {
    "duration": 1405,
    "start_time": "2022-07-11T11:29:05.153Z"
   },
   {
    "duration": 1142,
    "start_time": "2022-07-11T11:29:16.831Z"
   },
   {
    "duration": 870,
    "start_time": "2022-07-11T11:29:35.070Z"
   },
   {
    "duration": 1001,
    "start_time": "2022-07-11T11:29:53.300Z"
   },
   {
    "duration": 807,
    "start_time": "2022-07-11T11:32:15.563Z"
   },
   {
    "duration": 831,
    "start_time": "2022-07-11T11:32:23.985Z"
   },
   {
    "duration": 90,
    "start_time": "2022-07-11T11:37:32.744Z"
   },
   {
    "duration": 163,
    "start_time": "2022-07-11T11:37:37.351Z"
   },
   {
    "duration": 187,
    "start_time": "2022-07-11T11:37:48.310Z"
   },
   {
    "duration": 335,
    "start_time": "2022-07-11T11:47:58.153Z"
   },
   {
    "duration": 339,
    "start_time": "2022-07-11T11:48:11.039Z"
   },
   {
    "duration": 17,
    "start_time": "2022-07-11T12:04:45.449Z"
   },
   {
    "duration": 13,
    "start_time": "2022-07-11T12:05:40.941Z"
   },
   {
    "duration": 19,
    "start_time": "2022-07-11T12:07:07.562Z"
   },
   {
    "duration": 20,
    "start_time": "2022-07-11T12:07:26.876Z"
   },
   {
    "duration": 18,
    "start_time": "2022-07-11T12:07:36.136Z"
   },
   {
    "duration": 11,
    "start_time": "2022-07-11T12:07:39.887Z"
   },
   {
    "duration": 1737,
    "start_time": "2022-07-11T12:08:42.693Z"
   },
   {
    "duration": 1340,
    "start_time": "2022-07-11T12:08:53.186Z"
   },
   {
    "duration": 7,
    "start_time": "2022-07-11T12:12:21.687Z"
   },
   {
    "duration": 27,
    "start_time": "2022-07-11T12:12:28.106Z"
   },
   {
    "duration": 27,
    "start_time": "2022-07-11T12:12:45.920Z"
   },
   {
    "duration": 202,
    "start_time": "2022-07-11T12:20:07.173Z"
   },
   {
    "duration": 698,
    "start_time": "2022-07-11T12:20:21.441Z"
   },
   {
    "duration": 714,
    "start_time": "2022-07-11T12:21:45.977Z"
   },
   {
    "duration": 43,
    "start_time": "2022-07-11T12:23:44.787Z"
   },
   {
    "duration": 166,
    "start_time": "2022-07-11T12:26:32.948Z"
   },
   {
    "duration": 79,
    "start_time": "2022-07-11T12:27:06.666Z"
   },
   {
    "duration": 1375,
    "start_time": "2022-07-11T12:27:16.025Z"
   },
   {
    "duration": 25,
    "start_time": "2022-07-11T12:27:17.403Z"
   },
   {
    "duration": 34,
    "start_time": "2022-07-11T12:27:17.430Z"
   },
   {
    "duration": 4,
    "start_time": "2022-07-11T12:27:17.466Z"
   },
   {
    "duration": 40,
    "start_time": "2022-07-11T12:27:17.471Z"
   },
   {
    "duration": 10,
    "start_time": "2022-07-11T12:27:17.514Z"
   },
   {
    "duration": 12,
    "start_time": "2022-07-11T12:27:17.527Z"
   },
   {
    "duration": 21,
    "start_time": "2022-07-11T12:27:17.541Z"
   },
   {
    "duration": 44,
    "start_time": "2022-07-11T12:27:17.565Z"
   },
   {
    "duration": 9,
    "start_time": "2022-07-11T12:27:17.612Z"
   },
   {
    "duration": 29,
    "start_time": "2022-07-11T12:27:17.626Z"
   },
   {
    "duration": 6,
    "start_time": "2022-07-11T12:27:17.657Z"
   },
   {
    "duration": 297,
    "start_time": "2022-07-11T12:27:17.664Z"
   },
   {
    "duration": 1463,
    "start_time": "2022-07-11T12:27:17.963Z"
   },
   {
    "duration": 383,
    "start_time": "2022-07-11T12:27:19.428Z"
   },
   {
    "duration": 31,
    "start_time": "2022-07-11T12:27:19.814Z"
   },
   {
    "duration": 272,
    "start_time": "2022-07-11T12:27:19.847Z"
   },
   {
    "duration": 0,
    "start_time": "2022-07-11T12:27:20.122Z"
   },
   {
    "duration": 0,
    "start_time": "2022-07-11T12:27:20.124Z"
   },
   {
    "duration": 13,
    "start_time": "2022-07-11T12:36:40.712Z"
   },
   {
    "duration": 25,
    "start_time": "2022-07-11T12:36:51.744Z"
   },
   {
    "duration": 179,
    "start_time": "2022-07-11T12:37:07.105Z"
   },
   {
    "duration": 490,
    "start_time": "2022-07-11T12:37:22.785Z"
   },
   {
    "duration": 400,
    "start_time": "2022-07-11T12:38:14.149Z"
   },
   {
    "duration": 32,
    "start_time": "2022-07-11T12:45:09.897Z"
   },
   {
    "duration": 31,
    "start_time": "2022-07-11T12:45:29.939Z"
   },
   {
    "duration": 28,
    "start_time": "2022-07-11T12:51:56.146Z"
   },
   {
    "duration": 23,
    "start_time": "2022-07-11T12:52:01.833Z"
   },
   {
    "duration": 12,
    "start_time": "2022-07-11T12:52:09.743Z"
   },
   {
    "duration": 22,
    "start_time": "2022-07-11T12:53:31.562Z"
   },
   {
    "duration": 19,
    "start_time": "2022-07-11T12:53:45.027Z"
   },
   {
    "duration": 45,
    "start_time": "2022-07-11T15:06:46.883Z"
   },
   {
    "duration": 1475,
    "start_time": "2022-07-11T15:06:54.762Z"
   },
   {
    "duration": 16,
    "start_time": "2022-07-11T15:06:56.239Z"
   },
   {
    "duration": 38,
    "start_time": "2022-07-11T15:06:56.256Z"
   },
   {
    "duration": 3,
    "start_time": "2022-07-11T15:06:56.296Z"
   },
   {
    "duration": 16,
    "start_time": "2022-07-11T15:06:56.301Z"
   },
   {
    "duration": 12,
    "start_time": "2022-07-11T15:06:56.319Z"
   },
   {
    "duration": 14,
    "start_time": "2022-07-11T15:06:56.333Z"
   },
   {
    "duration": 14,
    "start_time": "2022-07-11T15:06:56.349Z"
   },
   {
    "duration": 19,
    "start_time": "2022-07-11T15:06:56.365Z"
   },
   {
    "duration": 7,
    "start_time": "2022-07-11T15:06:56.386Z"
   },
   {
    "duration": 17,
    "start_time": "2022-07-11T15:06:56.394Z"
   },
   {
    "duration": 5,
    "start_time": "2022-07-11T15:06:56.413Z"
   },
   {
    "duration": 224,
    "start_time": "2022-07-11T15:06:56.419Z"
   },
   {
    "duration": 1200,
    "start_time": "2022-07-11T15:06:56.644Z"
   },
   {
    "duration": 319,
    "start_time": "2022-07-11T15:06:57.846Z"
   },
   {
    "duration": 345,
    "start_time": "2022-07-11T15:06:58.166Z"
   },
   {
    "duration": 20,
    "start_time": "2022-07-11T15:06:58.513Z"
   },
   {
    "duration": 16,
    "start_time": "2022-07-11T15:06:58.534Z"
   },
   {
    "duration": 11,
    "start_time": "2022-07-11T15:06:58.551Z"
   },
   {
    "duration": 14,
    "start_time": "2022-07-11T15:06:58.563Z"
   },
   {
    "duration": 6,
    "start_time": "2022-07-11T15:09:22.890Z"
   },
   {
    "duration": 6,
    "start_time": "2022-07-11T15:17:49.772Z"
   },
   {
    "duration": 406,
    "start_time": "2022-07-11T15:21:50.955Z"
   },
   {
    "duration": 155,
    "start_time": "2022-07-11T15:23:40.750Z"
   },
   {
    "duration": 22,
    "start_time": "2022-07-11T15:26:18.135Z"
   },
   {
    "duration": 134,
    "start_time": "2022-07-11T15:26:40.340Z"
   },
   {
    "duration": 110,
    "start_time": "2022-07-11T15:31:04.492Z"
   },
   {
    "duration": 365,
    "start_time": "2022-07-11T15:31:24.874Z"
   },
   {
    "duration": 47,
    "start_time": "2022-07-11T15:40:26.247Z"
   },
   {
    "duration": 58,
    "start_time": "2022-07-11T15:40:32.577Z"
   },
   {
    "duration": 344,
    "start_time": "2022-07-11T15:40:35.631Z"
   },
   {
    "duration": 149,
    "start_time": "2022-07-11T15:54:39.101Z"
   },
   {
    "duration": 147,
    "start_time": "2022-07-11T15:55:12.034Z"
   },
   {
    "duration": 339,
    "start_time": "2022-07-11T15:55:46.477Z"
   },
   {
    "duration": 333,
    "start_time": "2022-07-11T15:57:46.791Z"
   },
   {
    "duration": 424,
    "start_time": "2022-07-11T15:57:54.440Z"
   },
   {
    "duration": 341,
    "start_time": "2022-07-11T15:58:02.043Z"
   },
   {
    "duration": 219,
    "start_time": "2022-07-11T16:01:21.690Z"
   },
   {
    "duration": 222,
    "start_time": "2022-07-11T16:01:25.483Z"
   },
   {
    "duration": 183,
    "start_time": "2022-07-11T16:01:57.090Z"
   },
   {
    "duration": 1295,
    "start_time": "2022-07-11T16:02:12.985Z"
   },
   {
    "duration": 19,
    "start_time": "2022-07-11T16:02:14.283Z"
   },
   {
    "duration": 30,
    "start_time": "2022-07-11T16:02:14.304Z"
   },
   {
    "duration": 3,
    "start_time": "2022-07-11T16:02:14.336Z"
   },
   {
    "duration": 12,
    "start_time": "2022-07-11T16:02:14.341Z"
   },
   {
    "duration": 10,
    "start_time": "2022-07-11T16:02:14.354Z"
   },
   {
    "duration": 12,
    "start_time": "2022-07-11T16:02:14.365Z"
   },
   {
    "duration": 15,
    "start_time": "2022-07-11T16:02:14.400Z"
   },
   {
    "duration": 15,
    "start_time": "2022-07-11T16:02:14.417Z"
   },
   {
    "duration": 7,
    "start_time": "2022-07-11T16:02:14.434Z"
   },
   {
    "duration": 16,
    "start_time": "2022-07-11T16:02:14.443Z"
   },
   {
    "duration": 6,
    "start_time": "2022-07-11T16:02:14.461Z"
   },
   {
    "duration": 249,
    "start_time": "2022-07-11T16:02:14.469Z"
   },
   {
    "duration": 1228,
    "start_time": "2022-07-11T16:02:14.720Z"
   },
   {
    "duration": 307,
    "start_time": "2022-07-11T16:02:15.950Z"
   },
   {
    "duration": 332,
    "start_time": "2022-07-11T16:02:16.258Z"
   },
   {
    "duration": 19,
    "start_time": "2022-07-11T16:02:16.600Z"
   },
   {
    "duration": 15,
    "start_time": "2022-07-11T16:02:16.620Z"
   },
   {
    "duration": 14,
    "start_time": "2022-07-11T16:02:16.637Z"
   },
   {
    "duration": 318,
    "start_time": "2022-07-11T16:02:16.652Z"
   },
   {
    "duration": 426,
    "start_time": "2022-07-11T16:02:16.972Z"
   },
   {
    "duration": 181,
    "start_time": "2022-07-11T16:02:17.399Z"
   },
   {
    "duration": 205,
    "start_time": "2022-07-11T16:02:40.397Z"
   },
   {
    "duration": 239,
    "start_time": "2022-07-11T16:02:50.058Z"
   },
   {
    "duration": 323,
    "start_time": "2022-07-11T16:02:54.129Z"
   },
   {
    "duration": 285,
    "start_time": "2022-07-11T16:03:39.365Z"
   },
   {
    "duration": 316,
    "start_time": "2022-07-11T16:03:43.440Z"
   },
   {
    "duration": 372,
    "start_time": "2022-07-11T16:04:49.389Z"
   },
   {
    "duration": 252,
    "start_time": "2022-07-11T16:04:56.787Z"
   },
   {
    "duration": 285,
    "start_time": "2022-07-11T16:05:43.768Z"
   },
   {
    "duration": 266,
    "start_time": "2022-07-11T16:06:02.026Z"
   },
   {
    "duration": 336,
    "start_time": "2022-07-11T16:10:44.730Z"
   },
   {
    "duration": 264,
    "start_time": "2022-07-11T16:21:02.266Z"
   },
   {
    "duration": 331,
    "start_time": "2022-07-11T16:21:08.142Z"
   },
   {
    "duration": 268,
    "start_time": "2022-07-11T16:21:12.128Z"
   },
   {
    "duration": 248,
    "start_time": "2022-07-11T16:21:15.828Z"
   },
   {
    "duration": 319,
    "start_time": "2022-07-11T16:22:00.297Z"
   },
   {
    "duration": 219,
    "start_time": "2022-07-11T16:22:26.186Z"
   },
   {
    "duration": 252,
    "start_time": "2022-07-11T16:22:40.459Z"
   },
   {
    "duration": 267,
    "start_time": "2022-07-11T16:22:43.546Z"
   },
   {
    "duration": 642,
    "start_time": "2022-07-11T16:28:11.961Z"
   },
   {
    "duration": 265,
    "start_time": "2022-07-11T16:28:22.718Z"
   },
   {
    "duration": 231,
    "start_time": "2022-07-11T16:33:39.880Z"
   },
   {
    "duration": 10,
    "start_time": "2022-07-11T16:34:36.212Z"
   },
   {
    "duration": 56,
    "start_time": "2022-07-11T16:36:38.780Z"
   },
   {
    "duration": 155,
    "start_time": "2022-07-11T16:36:46.059Z"
   },
   {
    "duration": 29,
    "start_time": "2022-07-11T16:37:22.893Z"
   },
   {
    "duration": 60,
    "start_time": "2022-07-11T16:38:27.132Z"
   },
   {
    "duration": 55,
    "start_time": "2022-07-11T16:38:36.536Z"
   },
   {
    "duration": 19,
    "start_time": "2022-07-11T16:38:45.254Z"
   },
   {
    "duration": 28,
    "start_time": "2022-07-11T16:39:38.015Z"
   },
   {
    "duration": 22,
    "start_time": "2022-07-11T16:40:00.617Z"
   },
   {
    "duration": 36,
    "start_time": "2022-07-11T16:40:15.284Z"
   },
   {
    "duration": 176,
    "start_time": "2022-07-11T16:43:16.923Z"
   },
   {
    "duration": 194,
    "start_time": "2022-07-11T16:43:33.100Z"
   },
   {
    "duration": 1339,
    "start_time": "2022-07-11T16:43:44.306Z"
   },
   {
    "duration": 20,
    "start_time": "2022-07-11T16:43:45.649Z"
   },
   {
    "duration": 61,
    "start_time": "2022-07-11T16:43:45.672Z"
   },
   {
    "duration": 3,
    "start_time": "2022-07-11T16:43:45.736Z"
   },
   {
    "duration": 20,
    "start_time": "2022-07-11T16:43:45.741Z"
   },
   {
    "duration": 6,
    "start_time": "2022-07-11T16:43:45.762Z"
   },
   {
    "duration": 10,
    "start_time": "2022-07-11T16:43:45.769Z"
   },
   {
    "duration": 27,
    "start_time": "2022-07-11T16:43:45.781Z"
   },
   {
    "duration": 25,
    "start_time": "2022-07-11T16:43:45.810Z"
   },
   {
    "duration": 9,
    "start_time": "2022-07-11T16:43:45.839Z"
   },
   {
    "duration": 28,
    "start_time": "2022-07-11T16:43:45.850Z"
   },
   {
    "duration": 21,
    "start_time": "2022-07-11T16:43:45.880Z"
   },
   {
    "duration": 235,
    "start_time": "2022-07-11T16:43:45.903Z"
   },
   {
    "duration": 1221,
    "start_time": "2022-07-11T16:43:46.140Z"
   },
   {
    "duration": 324,
    "start_time": "2022-07-11T16:43:47.362Z"
   },
   {
    "duration": 370,
    "start_time": "2022-07-11T16:43:47.687Z"
   },
   {
    "duration": 27,
    "start_time": "2022-07-11T16:43:48.059Z"
   },
   {
    "duration": 34,
    "start_time": "2022-07-11T16:43:48.088Z"
   },
   {
    "duration": 27,
    "start_time": "2022-07-11T16:43:48.124Z"
   },
   {
    "duration": 336,
    "start_time": "2022-07-11T16:43:48.154Z"
   },
   {
    "duration": 384,
    "start_time": "2022-07-11T16:43:48.492Z"
   },
   {
    "duration": 106,
    "start_time": "2022-07-11T16:43:48.877Z"
   },
   {
    "duration": 215,
    "start_time": "2022-07-11T18:45:34.855Z"
   },
   {
    "duration": 170,
    "start_time": "2022-07-11T18:47:26.649Z"
   },
   {
    "duration": 176,
    "start_time": "2022-07-11T18:47:41.540Z"
   },
   {
    "duration": 201,
    "start_time": "2022-07-11T18:47:46.715Z"
   },
   {
    "duration": 275,
    "start_time": "2022-07-11T18:47:55.040Z"
   },
   {
    "duration": 270,
    "start_time": "2022-07-11T18:48:03.139Z"
   },
   {
    "duration": 257,
    "start_time": "2022-07-11T18:48:15.721Z"
   },
   {
    "duration": 347,
    "start_time": "2022-07-11T18:48:32.517Z"
   },
   {
    "duration": 251,
    "start_time": "2022-07-11T18:48:43.140Z"
   },
   {
    "duration": 303,
    "start_time": "2022-07-11T18:49:05.158Z"
   },
   {
    "duration": 283,
    "start_time": "2022-07-11T18:54:01.783Z"
   },
   {
    "duration": 430,
    "start_time": "2022-07-11T18:54:09.517Z"
   },
   {
    "duration": 238,
    "start_time": "2022-07-11T18:54:23.015Z"
   },
   {
    "duration": 270,
    "start_time": "2022-07-11T18:56:36.613Z"
   },
   {
    "duration": 242,
    "start_time": "2022-07-11T18:56:42.792Z"
   },
   {
    "duration": 271,
    "start_time": "2022-07-11T18:56:52.545Z"
   },
   {
    "duration": 272,
    "start_time": "2022-07-11T18:57:08.514Z"
   },
   {
    "duration": 10,
    "start_time": "2022-07-11T19:11:15.284Z"
   },
   {
    "duration": 5,
    "start_time": "2022-07-11T19:11:40.861Z"
   },
   {
    "duration": 5,
    "start_time": "2022-07-11T19:11:41.761Z"
   },
   {
    "duration": 5,
    "start_time": "2022-07-11T19:11:42.287Z"
   },
   {
    "duration": 218,
    "start_time": "2022-07-11T19:13:35.101Z"
   },
   {
    "duration": 267,
    "start_time": "2022-07-11T19:13:41.886Z"
   },
   {
    "duration": 181,
    "start_time": "2022-07-11T19:13:55.748Z"
   },
   {
    "duration": 202,
    "start_time": "2022-07-11T19:14:13.384Z"
   },
   {
    "duration": 158,
    "start_time": "2022-07-11T19:14:39.334Z"
   },
   {
    "duration": 4,
    "start_time": "2022-07-11T19:24:06.089Z"
   },
   {
    "duration": 1111,
    "start_time": "2022-07-11T19:24:14.858Z"
   },
   {
    "duration": 14,
    "start_time": "2022-07-11T19:24:15.972Z"
   },
   {
    "duration": 40,
    "start_time": "2022-07-11T19:24:15.987Z"
   },
   {
    "duration": 3,
    "start_time": "2022-07-11T19:24:16.029Z"
   },
   {
    "duration": 28,
    "start_time": "2022-07-11T19:24:16.034Z"
   },
   {
    "duration": 11,
    "start_time": "2022-07-11T19:24:16.063Z"
   },
   {
    "duration": 15,
    "start_time": "2022-07-11T19:24:16.076Z"
   },
   {
    "duration": 39,
    "start_time": "2022-07-11T19:24:16.093Z"
   },
   {
    "duration": 24,
    "start_time": "2022-07-11T19:24:16.134Z"
   },
   {
    "duration": 6,
    "start_time": "2022-07-11T19:24:16.161Z"
   },
   {
    "duration": 17,
    "start_time": "2022-07-11T19:24:16.169Z"
   },
   {
    "duration": 7,
    "start_time": "2022-07-11T19:24:16.188Z"
   },
   {
    "duration": 217,
    "start_time": "2022-07-11T19:24:16.196Z"
   },
   {
    "duration": 1181,
    "start_time": "2022-07-11T19:24:16.415Z"
   },
   {
    "duration": 324,
    "start_time": "2022-07-11T19:24:17.598Z"
   },
   {
    "duration": 368,
    "start_time": "2022-07-11T19:24:17.925Z"
   },
   {
    "duration": 30,
    "start_time": "2022-07-11T19:24:18.295Z"
   },
   {
    "duration": 22,
    "start_time": "2022-07-11T19:24:18.327Z"
   },
   {
    "duration": 20,
    "start_time": "2022-07-11T19:24:18.351Z"
   },
   {
    "duration": 342,
    "start_time": "2022-07-11T19:24:18.373Z"
   },
   {
    "duration": 370,
    "start_time": "2022-07-11T19:24:18.717Z"
   },
   {
    "duration": 267,
    "start_time": "2022-07-11T19:24:19.089Z"
   },
   {
    "duration": 5,
    "start_time": "2022-07-11T19:24:19.358Z"
   },
   {
    "duration": 187,
    "start_time": "2022-07-11T19:24:19.364Z"
   },
   {
    "duration": 164,
    "start_time": "2022-07-11T19:24:19.552Z"
   },
   {
    "duration": 131,
    "start_time": "2022-07-11T19:33:20.546Z"
   },
   {
    "duration": 136,
    "start_time": "2022-07-11T19:51:39.796Z"
   },
   {
    "duration": 15,
    "start_time": "2022-07-11T19:51:55.297Z"
   },
   {
    "duration": 1167,
    "start_time": "2022-07-11T19:56:48.761Z"
   },
   {
    "duration": 12,
    "start_time": "2022-07-11T19:56:49.930Z"
   },
   {
    "duration": 26,
    "start_time": "2022-07-11T19:56:49.945Z"
   },
   {
    "duration": 3,
    "start_time": "2022-07-11T19:56:49.972Z"
   },
   {
    "duration": 32,
    "start_time": "2022-07-11T19:56:49.977Z"
   },
   {
    "duration": 7,
    "start_time": "2022-07-11T19:56:50.016Z"
   },
   {
    "duration": 20,
    "start_time": "2022-07-11T19:56:50.025Z"
   },
   {
    "duration": 42,
    "start_time": "2022-07-11T19:56:50.047Z"
   },
   {
    "duration": 14,
    "start_time": "2022-07-11T19:56:50.091Z"
   },
   {
    "duration": 14,
    "start_time": "2022-07-11T19:56:50.110Z"
   },
   {
    "duration": 15,
    "start_time": "2022-07-11T19:56:50.125Z"
   },
   {
    "duration": 4,
    "start_time": "2022-07-11T19:56:50.142Z"
   },
   {
    "duration": 216,
    "start_time": "2022-07-11T19:56:50.148Z"
   },
   {
    "duration": 1218,
    "start_time": "2022-07-11T19:56:50.367Z"
   },
   {
    "duration": 344,
    "start_time": "2022-07-11T19:56:51.586Z"
   },
   {
    "duration": 369,
    "start_time": "2022-07-11T19:56:51.931Z"
   },
   {
    "duration": 29,
    "start_time": "2022-07-11T19:56:52.308Z"
   },
   {
    "duration": 17,
    "start_time": "2022-07-11T19:56:52.339Z"
   },
   {
    "duration": 18,
    "start_time": "2022-07-11T19:56:52.358Z"
   },
   {
    "duration": 383,
    "start_time": "2022-07-11T19:56:52.378Z"
   },
   {
    "duration": 401,
    "start_time": "2022-07-11T19:56:52.763Z"
   },
   {
    "duration": 280,
    "start_time": "2022-07-11T19:56:53.166Z"
   },
   {
    "duration": 6,
    "start_time": "2022-07-11T19:56:53.448Z"
   },
   {
    "duration": 207,
    "start_time": "2022-07-11T19:56:53.456Z"
   },
   {
    "duration": 183,
    "start_time": "2022-07-11T19:56:53.665Z"
   },
   {
    "duration": 1204,
    "start_time": "2022-07-11T19:56:53.850Z"
   },
   {
    "duration": 1147,
    "start_time": "2022-07-11T19:58:18.853Z"
   },
   {
    "duration": 1018,
    "start_time": "2022-07-11T19:59:59.262Z"
   },
   {
    "duration": 1216,
    "start_time": "2022-07-11T20:02:12.761Z"
   },
   {
    "duration": 1200,
    "start_time": "2022-07-11T20:04:53.460Z"
   },
   {
    "duration": 14,
    "start_time": "2022-07-11T20:04:54.662Z"
   },
   {
    "duration": 37,
    "start_time": "2022-07-11T20:04:54.678Z"
   },
   {
    "duration": 3,
    "start_time": "2022-07-11T20:04:54.717Z"
   },
   {
    "duration": 12,
    "start_time": "2022-07-11T20:04:54.725Z"
   },
   {
    "duration": 5,
    "start_time": "2022-07-11T20:04:54.739Z"
   },
   {
    "duration": 17,
    "start_time": "2022-07-11T20:04:54.745Z"
   },
   {
    "duration": 24,
    "start_time": "2022-07-11T20:04:54.764Z"
   },
   {
    "duration": 28,
    "start_time": "2022-07-11T20:04:54.790Z"
   },
   {
    "duration": 15,
    "start_time": "2022-07-11T20:04:54.820Z"
   },
   {
    "duration": 20,
    "start_time": "2022-07-11T20:04:54.837Z"
   },
   {
    "duration": 5,
    "start_time": "2022-07-11T20:04:54.859Z"
   },
   {
    "duration": 253,
    "start_time": "2022-07-11T20:04:54.866Z"
   },
   {
    "duration": 1360,
    "start_time": "2022-07-11T20:04:55.124Z"
   },
   {
    "duration": 335,
    "start_time": "2022-07-11T20:04:56.487Z"
   },
   {
    "duration": 353,
    "start_time": "2022-07-11T20:04:56.824Z"
   },
   {
    "duration": 31,
    "start_time": "2022-07-11T20:04:57.179Z"
   },
   {
    "duration": 14,
    "start_time": "2022-07-11T20:04:57.216Z"
   },
   {
    "duration": 10,
    "start_time": "2022-07-11T20:04:57.231Z"
   },
   {
    "duration": 319,
    "start_time": "2022-07-11T20:04:57.242Z"
   },
   {
    "duration": 383,
    "start_time": "2022-07-11T20:04:57.563Z"
   },
   {
    "duration": 272,
    "start_time": "2022-07-11T20:04:57.948Z"
   },
   {
    "duration": 6,
    "start_time": "2022-07-11T20:04:58.221Z"
   },
   {
    "duration": 192,
    "start_time": "2022-07-11T20:04:58.228Z"
   },
   {
    "duration": 163,
    "start_time": "2022-07-11T20:04:58.421Z"
   },
   {
    "duration": 1062,
    "start_time": "2022-07-11T20:04:58.585Z"
   },
   {
    "duration": 9,
    "start_time": "2022-07-11T20:07:58.696Z"
   },
   {
    "duration": 9,
    "start_time": "2022-07-11T20:08:26.467Z"
   },
   {
    "duration": 112,
    "start_time": "2022-07-11T20:18:26.068Z"
   },
   {
    "duration": 1102,
    "start_time": "2022-07-11T20:18:33.123Z"
   },
   {
    "duration": 27,
    "start_time": "2022-07-11T20:18:53.849Z"
   },
   {
    "duration": 18,
    "start_time": "2022-07-11T20:19:10.673Z"
   },
   {
    "duration": 12,
    "start_time": "2022-07-11T20:19:48.552Z"
   },
   {
    "duration": 141,
    "start_time": "2022-07-11T20:20:10.876Z"
   },
   {
    "duration": 386,
    "start_time": "2022-07-11T20:21:18.364Z"
   },
   {
    "duration": 460,
    "start_time": "2022-07-11T20:21:41.764Z"
   },
   {
    "duration": 458,
    "start_time": "2022-07-11T20:23:43.009Z"
   },
   {
    "duration": 46,
    "start_time": "2022-07-12T05:29:53.165Z"
   },
   {
    "duration": 1381,
    "start_time": "2022-07-12T05:29:59.575Z"
   },
   {
    "duration": 15,
    "start_time": "2022-07-12T05:30:00.958Z"
   },
   {
    "duration": 43,
    "start_time": "2022-07-12T05:30:00.975Z"
   },
   {
    "duration": 14,
    "start_time": "2022-07-12T05:30:01.019Z"
   },
   {
    "duration": 45,
    "start_time": "2022-07-12T05:30:01.035Z"
   },
   {
    "duration": 22,
    "start_time": "2022-07-12T05:30:01.082Z"
   },
   {
    "duration": 30,
    "start_time": "2022-07-12T05:30:01.106Z"
   },
   {
    "duration": 51,
    "start_time": "2022-07-12T05:30:01.138Z"
   },
   {
    "duration": 32,
    "start_time": "2022-07-12T05:30:01.191Z"
   },
   {
    "duration": 19,
    "start_time": "2022-07-12T05:30:01.225Z"
   },
   {
    "duration": 28,
    "start_time": "2022-07-12T05:30:01.246Z"
   },
   {
    "duration": 5,
    "start_time": "2022-07-12T05:30:01.276Z"
   },
   {
    "duration": 229,
    "start_time": "2022-07-12T05:30:01.282Z"
   },
   {
    "duration": 1218,
    "start_time": "2022-07-12T05:30:01.514Z"
   },
   {
    "duration": 352,
    "start_time": "2022-07-12T05:30:02.734Z"
   },
   {
    "duration": 376,
    "start_time": "2022-07-12T05:30:03.088Z"
   },
   {
    "duration": 22,
    "start_time": "2022-07-12T05:30:03.466Z"
   },
   {
    "duration": 18,
    "start_time": "2022-07-12T05:30:03.489Z"
   },
   {
    "duration": 13,
    "start_time": "2022-07-12T05:30:03.509Z"
   },
   {
    "duration": 325,
    "start_time": "2022-07-12T05:30:03.523Z"
   },
   {
    "duration": 391,
    "start_time": "2022-07-12T05:30:03.849Z"
   },
   {
    "duration": 301,
    "start_time": "2022-07-12T05:30:04.243Z"
   },
   {
    "duration": 6,
    "start_time": "2022-07-12T05:30:04.546Z"
   },
   {
    "duration": 191,
    "start_time": "2022-07-12T05:30:04.553Z"
   },
   {
    "duration": 167,
    "start_time": "2022-07-12T05:30:04.746Z"
   },
   {
    "duration": 1130,
    "start_time": "2022-07-12T05:30:04.915Z"
   },
   {
    "duration": 547,
    "start_time": "2022-07-12T05:30:06.047Z"
   },
   {
    "duration": 673,
    "start_time": "2022-07-12T05:30:06.595Z"
   },
   {
    "duration": 2,
    "start_time": "2022-07-12T05:30:07.270Z"
   },
   {
    "duration": 8,
    "start_time": "2022-07-12T05:30:07.274Z"
   },
   {
    "duration": 84,
    "start_time": "2022-07-12T05:30:07.283Z"
   },
   {
    "duration": 933,
    "start_time": "2022-07-12T05:30:33.108Z"
   },
   {
    "duration": 1144,
    "start_time": "2022-07-12T05:38:00.683Z"
   },
   {
    "duration": 1127,
    "start_time": "2022-07-12T05:40:56.627Z"
   },
   {
    "duration": 1549,
    "start_time": "2022-07-12T05:41:06.213Z"
   },
   {
    "duration": 1241,
    "start_time": "2022-07-12T05:41:26.311Z"
   },
   {
    "duration": 1156,
    "start_time": "2022-07-12T05:41:37.378Z"
   },
   {
    "duration": 1139,
    "start_time": "2022-07-12T05:41:44.785Z"
   },
   {
    "duration": 365,
    "start_time": "2022-07-12T05:54:58.685Z"
   },
   {
    "duration": 451,
    "start_time": "2022-07-12T05:55:29.661Z"
   },
   {
    "duration": 412,
    "start_time": "2022-07-12T05:57:32.288Z"
   },
   {
    "duration": 118,
    "start_time": "2022-07-12T05:57:53.696Z"
   },
   {
    "duration": 406,
    "start_time": "2022-07-12T05:58:08.533Z"
   },
   {
    "duration": 9,
    "start_time": "2022-07-12T06:03:36.585Z"
   },
   {
    "duration": 111,
    "start_time": "2022-07-12T06:03:59.888Z"
   },
   {
    "duration": 109,
    "start_time": "2022-07-12T06:04:24.742Z"
   },
   {
    "duration": 428,
    "start_time": "2022-07-12T06:05:50.136Z"
   },
   {
    "duration": 1112,
    "start_time": "2022-07-12T07:16:34.486Z"
   },
   {
    "duration": 13,
    "start_time": "2022-07-12T07:16:35.600Z"
   },
   {
    "duration": 26,
    "start_time": "2022-07-12T07:16:35.614Z"
   },
   {
    "duration": 2,
    "start_time": "2022-07-12T07:16:35.642Z"
   },
   {
    "duration": 7,
    "start_time": "2022-07-12T07:16:35.660Z"
   },
   {
    "duration": 5,
    "start_time": "2022-07-12T07:16:35.668Z"
   },
   {
    "duration": 12,
    "start_time": "2022-07-12T07:16:35.674Z"
   },
   {
    "duration": 25,
    "start_time": "2022-07-12T07:16:35.687Z"
   },
   {
    "duration": 15,
    "start_time": "2022-07-12T07:16:35.713Z"
   },
   {
    "duration": 7,
    "start_time": "2022-07-12T07:16:35.730Z"
   },
   {
    "duration": 12,
    "start_time": "2022-07-12T07:16:35.760Z"
   },
   {
    "duration": 5,
    "start_time": "2022-07-12T07:16:35.773Z"
   },
   {
    "duration": 210,
    "start_time": "2022-07-12T07:16:35.779Z"
   },
   {
    "duration": 1236,
    "start_time": "2022-07-12T07:16:35.992Z"
   },
   {
    "duration": 296,
    "start_time": "2022-07-12T07:16:37.230Z"
   },
   {
    "duration": 319,
    "start_time": "2022-07-12T07:16:37.528Z"
   },
   {
    "duration": 23,
    "start_time": "2022-07-12T07:16:37.849Z"
   },
   {
    "duration": 18,
    "start_time": "2022-07-12T07:16:37.873Z"
   },
   {
    "duration": 10,
    "start_time": "2022-07-12T07:16:37.893Z"
   },
   {
    "duration": 298,
    "start_time": "2022-07-12T07:16:37.904Z"
   },
   {
    "duration": 370,
    "start_time": "2022-07-12T07:16:38.204Z"
   },
   {
    "duration": 273,
    "start_time": "2022-07-12T07:16:38.576Z"
   },
   {
    "duration": 7,
    "start_time": "2022-07-12T07:16:38.860Z"
   },
   {
    "duration": 196,
    "start_time": "2022-07-12T07:16:38.869Z"
   },
   {
    "duration": 156,
    "start_time": "2022-07-12T07:16:39.067Z"
   },
   {
    "duration": 1024,
    "start_time": "2022-07-12T07:16:39.224Z"
   },
   {
    "duration": 488,
    "start_time": "2022-07-12T07:16:40.249Z"
   },
   {
    "duration": 955,
    "start_time": "2022-07-12T07:16:40.739Z"
   },
   {
    "duration": 1136,
    "start_time": "2022-07-12T07:16:41.696Z"
   },
   {
    "duration": 343,
    "start_time": "2022-07-12T07:16:42.833Z"
   },
   {
    "duration": 1066,
    "start_time": "2022-07-12T07:29:48.595Z"
   },
   {
    "duration": 1133,
    "start_time": "2022-07-12T07:31:08.386Z"
   },
   {
    "duration": 17,
    "start_time": "2022-07-12T07:31:09.522Z"
   },
   {
    "duration": 28,
    "start_time": "2022-07-12T07:31:09.541Z"
   },
   {
    "duration": 2,
    "start_time": "2022-07-12T07:31:09.571Z"
   },
   {
    "duration": 8,
    "start_time": "2022-07-12T07:31:09.575Z"
   },
   {
    "duration": 4,
    "start_time": "2022-07-12T07:31:09.584Z"
   },
   {
    "duration": 12,
    "start_time": "2022-07-12T07:31:09.590Z"
   },
   {
    "duration": 27,
    "start_time": "2022-07-12T07:31:09.604Z"
   },
   {
    "duration": 31,
    "start_time": "2022-07-12T07:31:09.633Z"
   },
   {
    "duration": 6,
    "start_time": "2022-07-12T07:31:09.666Z"
   },
   {
    "duration": 16,
    "start_time": "2022-07-12T07:31:09.673Z"
   },
   {
    "duration": 4,
    "start_time": "2022-07-12T07:31:09.690Z"
   },
   {
    "duration": 216,
    "start_time": "2022-07-12T07:31:09.696Z"
   },
   {
    "duration": 1154,
    "start_time": "2022-07-12T07:31:09.914Z"
   },
   {
    "duration": 315,
    "start_time": "2022-07-12T07:31:11.069Z"
   },
   {
    "duration": 336,
    "start_time": "2022-07-12T07:31:11.386Z"
   },
   {
    "duration": 18,
    "start_time": "2022-07-12T07:31:11.724Z"
   },
   {
    "duration": 29,
    "start_time": "2022-07-12T07:31:11.745Z"
   },
   {
    "duration": 14,
    "start_time": "2022-07-12T07:31:11.776Z"
   },
   {
    "duration": 307,
    "start_time": "2022-07-12T07:31:11.792Z"
   },
   {
    "duration": 366,
    "start_time": "2022-07-12T07:31:12.101Z"
   },
   {
    "duration": 281,
    "start_time": "2022-07-12T07:31:12.468Z"
   },
   {
    "duration": 10,
    "start_time": "2022-07-12T07:31:12.751Z"
   },
   {
    "duration": 178,
    "start_time": "2022-07-12T07:31:12.763Z"
   },
   {
    "duration": 165,
    "start_time": "2022-07-12T07:31:12.943Z"
   },
   {
    "duration": 1052,
    "start_time": "2022-07-12T07:31:13.110Z"
   },
   {
    "duration": 477,
    "start_time": "2022-07-12T07:31:14.164Z"
   },
   {
    "duration": 1057,
    "start_time": "2022-07-12T07:31:14.643Z"
   },
   {
    "duration": 1278,
    "start_time": "2022-07-12T07:31:15.702Z"
   },
   {
    "duration": 360,
    "start_time": "2022-07-12T07:31:16.983Z"
   },
   {
    "duration": 948,
    "start_time": "2022-07-12T07:31:17.345Z"
   },
   {
    "duration": 10,
    "start_time": "2022-07-12T07:34:34.725Z"
   },
   {
    "duration": 11,
    "start_time": "2022-07-12T07:35:16.085Z"
   },
   {
    "duration": 61,
    "start_time": "2022-07-12T07:35:30.266Z"
   },
   {
    "duration": 1174,
    "start_time": "2022-07-12T07:36:40.536Z"
   },
   {
    "duration": 8,
    "start_time": "2022-07-12T07:37:32.755Z"
   },
   {
    "duration": 12,
    "start_time": "2022-07-12T07:40:39.146Z"
   },
   {
    "duration": 14,
    "start_time": "2022-07-12T07:41:31.261Z"
   },
   {
    "duration": 4,
    "start_time": "2022-07-12T07:42:05.507Z"
   },
   {
    "duration": 4,
    "start_time": "2022-07-12T07:42:20.288Z"
   },
   {
    "duration": 1468,
    "start_time": "2022-07-12T09:07:17.641Z"
   },
   {
    "duration": 19,
    "start_time": "2022-07-12T09:07:19.111Z"
   },
   {
    "duration": 43,
    "start_time": "2022-07-12T09:07:19.132Z"
   },
   {
    "duration": 6,
    "start_time": "2022-07-12T09:07:19.178Z"
   },
   {
    "duration": 27,
    "start_time": "2022-07-12T09:07:19.186Z"
   },
   {
    "duration": 17,
    "start_time": "2022-07-12T09:07:19.215Z"
   },
   {
    "duration": 18,
    "start_time": "2022-07-12T09:07:19.233Z"
   },
   {
    "duration": 39,
    "start_time": "2022-07-12T09:07:19.252Z"
   },
   {
    "duration": 34,
    "start_time": "2022-07-12T09:07:19.293Z"
   },
   {
    "duration": 34,
    "start_time": "2022-07-12T09:07:19.330Z"
   },
   {
    "duration": 24,
    "start_time": "2022-07-12T09:07:19.365Z"
   },
   {
    "duration": 8,
    "start_time": "2022-07-12T09:07:19.391Z"
   },
   {
    "duration": 234,
    "start_time": "2022-07-12T09:07:19.400Z"
   },
   {
    "duration": 1200,
    "start_time": "2022-07-12T09:07:19.636Z"
   },
   {
    "duration": 315,
    "start_time": "2022-07-12T09:07:20.838Z"
   },
   {
    "duration": 344,
    "start_time": "2022-07-12T09:07:21.155Z"
   },
   {
    "duration": 21,
    "start_time": "2022-07-12T09:07:21.501Z"
   },
   {
    "duration": 31,
    "start_time": "2022-07-12T09:07:21.523Z"
   },
   {
    "duration": 12,
    "start_time": "2022-07-12T09:07:21.556Z"
   },
   {
    "duration": 315,
    "start_time": "2022-07-12T09:07:21.570Z"
   },
   {
    "duration": 398,
    "start_time": "2022-07-12T09:07:21.887Z"
   },
   {
    "duration": 260,
    "start_time": "2022-07-12T09:07:22.287Z"
   },
   {
    "duration": 5,
    "start_time": "2022-07-12T09:07:22.549Z"
   },
   {
    "duration": 197,
    "start_time": "2022-07-12T09:07:22.555Z"
   },
   {
    "duration": 163,
    "start_time": "2022-07-12T09:07:22.754Z"
   },
   {
    "duration": 1111,
    "start_time": "2022-07-12T09:07:22.918Z"
   },
   {
    "duration": 514,
    "start_time": "2022-07-12T09:07:24.031Z"
   },
   {
    "duration": 988,
    "start_time": "2022-07-12T09:07:24.548Z"
   },
   {
    "duration": 1212,
    "start_time": "2022-07-12T09:07:25.538Z"
   },
   {
    "duration": 365,
    "start_time": "2022-07-12T09:07:26.752Z"
   },
   {
    "duration": 12,
    "start_time": "2022-07-12T09:07:27.119Z"
   },
   {
    "duration": 4,
    "start_time": "2022-07-12T09:07:27.145Z"
   },
   {
    "duration": 6,
    "start_time": "2022-07-12T09:07:27.151Z"
   },
   {
    "duration": 14,
    "start_time": "2022-07-12T09:10:21.973Z"
   },
   {
    "duration": 339,
    "start_time": "2022-07-12T09:23:41.652Z"
   },
   {
    "duration": 178,
    "start_time": "2022-07-12T09:24:46.142Z"
   },
   {
    "duration": 165,
    "start_time": "2022-07-12T09:25:04.431Z"
   },
   {
    "duration": 565,
    "start_time": "2022-07-12T09:25:21.458Z"
   },
   {
    "duration": 436,
    "start_time": "2022-07-12T09:25:27.441Z"
   },
   {
    "duration": 441,
    "start_time": "2022-07-12T09:25:32.223Z"
   },
   {
    "duration": 423,
    "start_time": "2022-07-12T09:25:44.092Z"
   },
   {
    "duration": 440,
    "start_time": "2022-07-12T09:26:00.879Z"
   },
   {
    "duration": 973,
    "start_time": "2022-07-12T09:27:35.063Z"
   },
   {
    "duration": 1297,
    "start_time": "2022-07-12T09:28:57.347Z"
   },
   {
    "duration": 524,
    "start_time": "2022-07-12T09:31:02.945Z"
   },
   {
    "duration": 1351,
    "start_time": "2022-07-12T09:48:08.065Z"
   },
   {
    "duration": 1344,
    "start_time": "2022-07-12T09:48:18.310Z"
   },
   {
    "duration": 1174,
    "start_time": "2022-07-12T09:48:25.740Z"
   },
   {
    "duration": 1267,
    "start_time": "2022-07-12T09:49:08.685Z"
   },
   {
    "duration": 454,
    "start_time": "2022-07-12T09:49:45.970Z"
   },
   {
    "duration": 369,
    "start_time": "2022-07-12T09:50:23.465Z"
   },
   {
    "duration": 327,
    "start_time": "2022-07-12T09:50:35.608Z"
   },
   {
    "duration": 348,
    "start_time": "2022-07-12T09:57:18.123Z"
   },
   {
    "duration": 402,
    "start_time": "2022-07-12T09:57:23.885Z"
   },
   {
    "duration": 337,
    "start_time": "2022-07-12T10:04:10.100Z"
   },
   {
    "duration": 1330,
    "start_time": "2022-07-12T10:37:03.424Z"
   },
   {
    "duration": 15,
    "start_time": "2022-07-12T10:37:04.756Z"
   },
   {
    "duration": 30,
    "start_time": "2022-07-12T10:37:04.772Z"
   },
   {
    "duration": 3,
    "start_time": "2022-07-12T10:37:04.805Z"
   },
   {
    "duration": 12,
    "start_time": "2022-07-12T10:37:04.809Z"
   },
   {
    "duration": 24,
    "start_time": "2022-07-12T10:37:04.822Z"
   },
   {
    "duration": 15,
    "start_time": "2022-07-12T10:37:04.848Z"
   },
   {
    "duration": 25,
    "start_time": "2022-07-12T10:37:04.865Z"
   },
   {
    "duration": 13,
    "start_time": "2022-07-12T10:37:04.892Z"
   },
   {
    "duration": 7,
    "start_time": "2022-07-12T10:37:04.907Z"
   },
   {
    "duration": 38,
    "start_time": "2022-07-12T10:37:04.915Z"
   },
   {
    "duration": 5,
    "start_time": "2022-07-12T10:37:04.955Z"
   },
   {
    "duration": 240,
    "start_time": "2022-07-12T10:37:04.962Z"
   },
   {
    "duration": 1336,
    "start_time": "2022-07-12T10:37:05.205Z"
   },
   {
    "duration": 335,
    "start_time": "2022-07-12T10:37:06.544Z"
   },
   {
    "duration": 385,
    "start_time": "2022-07-12T10:37:06.881Z"
   },
   {
    "duration": 22,
    "start_time": "2022-07-12T10:37:07.268Z"
   },
   {
    "duration": 17,
    "start_time": "2022-07-12T10:37:07.292Z"
   },
   {
    "duration": 36,
    "start_time": "2022-07-12T10:37:07.311Z"
   },
   {
    "duration": 343,
    "start_time": "2022-07-12T10:37:07.349Z"
   },
   {
    "duration": 395,
    "start_time": "2022-07-12T10:37:07.694Z"
   },
   {
    "duration": 267,
    "start_time": "2022-07-12T10:37:08.091Z"
   },
   {
    "duration": 6,
    "start_time": "2022-07-12T10:37:08.359Z"
   },
   {
    "duration": 201,
    "start_time": "2022-07-12T10:37:08.366Z"
   },
   {
    "duration": 179,
    "start_time": "2022-07-12T10:37:08.570Z"
   },
   {
    "duration": 1216,
    "start_time": "2022-07-12T10:37:08.752Z"
   },
   {
    "duration": 435,
    "start_time": "2022-07-12T10:37:09.970Z"
   },
   {
    "duration": 1052,
    "start_time": "2022-07-12T10:37:10.408Z"
   },
   {
    "duration": 1267,
    "start_time": "2022-07-12T10:37:11.462Z"
   },
   {
    "duration": 417,
    "start_time": "2022-07-12T10:37:12.731Z"
   },
   {
    "duration": 13,
    "start_time": "2022-07-12T10:37:13.150Z"
   },
   {
    "duration": 28,
    "start_time": "2022-07-12T10:37:13.165Z"
   },
   {
    "duration": 485,
    "start_time": "2022-07-12T10:54:45.718Z"
   },
   {
    "duration": 1242,
    "start_time": "2022-07-12T11:06:00.144Z"
   },
   {
    "duration": 1115,
    "start_time": "2022-07-12T11:06:14.473Z"
   },
   {
    "duration": 1306,
    "start_time": "2022-07-12T11:07:00.313Z"
   },
   {
    "duration": 1395,
    "start_time": "2022-07-12T11:07:18.161Z"
   },
   {
    "duration": 1395,
    "start_time": "2022-07-12T11:37:04.342Z"
   },
   {
    "duration": 18,
    "start_time": "2022-07-12T11:37:05.739Z"
   },
   {
    "duration": 67,
    "start_time": "2022-07-12T11:37:05.760Z"
   },
   {
    "duration": 4,
    "start_time": "2022-07-12T11:37:05.828Z"
   },
   {
    "duration": 9,
    "start_time": "2022-07-12T11:37:05.847Z"
   },
   {
    "duration": 9,
    "start_time": "2022-07-12T11:37:05.857Z"
   },
   {
    "duration": 15,
    "start_time": "2022-07-12T11:37:05.868Z"
   },
   {
    "duration": 25,
    "start_time": "2022-07-12T11:37:05.885Z"
   },
   {
    "duration": 44,
    "start_time": "2022-07-12T11:37:05.912Z"
   },
   {
    "duration": 8,
    "start_time": "2022-07-12T11:37:05.958Z"
   },
   {
    "duration": 19,
    "start_time": "2022-07-12T11:37:05.968Z"
   },
   {
    "duration": 6,
    "start_time": "2022-07-12T11:37:05.989Z"
   },
   {
    "duration": 257,
    "start_time": "2022-07-12T11:37:05.997Z"
   },
   {
    "duration": 1434,
    "start_time": "2022-07-12T11:37:06.258Z"
   },
   {
    "duration": 352,
    "start_time": "2022-07-12T11:37:07.694Z"
   },
   {
    "duration": 381,
    "start_time": "2022-07-12T11:37:08.049Z"
   },
   {
    "duration": 40,
    "start_time": "2022-07-12T11:37:08.431Z"
   },
   {
    "duration": 24,
    "start_time": "2022-07-12T11:37:08.473Z"
   },
   {
    "duration": 12,
    "start_time": "2022-07-12T11:37:08.499Z"
   },
   {
    "duration": 415,
    "start_time": "2022-07-12T11:37:08.513Z"
   },
   {
    "duration": 539,
    "start_time": "2022-07-12T11:37:08.930Z"
   },
   {
    "duration": 326,
    "start_time": "2022-07-12T11:37:09.472Z"
   },
   {
    "duration": 5,
    "start_time": "2022-07-12T11:37:09.800Z"
   },
   {
    "duration": 221,
    "start_time": "2022-07-12T11:37:09.807Z"
   },
   {
    "duration": 194,
    "start_time": "2022-07-12T11:37:10.030Z"
   },
   {
    "duration": 1222,
    "start_time": "2022-07-12T11:37:10.226Z"
   },
   {
    "duration": 552,
    "start_time": "2022-07-12T11:37:11.450Z"
   },
   {
    "duration": 1223,
    "start_time": "2022-07-12T11:37:12.004Z"
   },
   {
    "duration": 1506,
    "start_time": "2022-07-12T11:37:13.229Z"
   },
   {
    "duration": 476,
    "start_time": "2022-07-12T11:37:14.736Z"
   },
   {
    "duration": 15,
    "start_time": "2022-07-12T11:37:15.215Z"
   },
   {
    "duration": 37,
    "start_time": "2022-07-12T11:37:15.232Z"
   },
   {
    "duration": 1472,
    "start_time": "2022-07-12T14:15:34.383Z"
   },
   {
    "duration": 18,
    "start_time": "2022-07-12T14:15:35.858Z"
   },
   {
    "duration": 32,
    "start_time": "2022-07-12T14:15:35.878Z"
   },
   {
    "duration": 3,
    "start_time": "2022-07-12T14:15:35.912Z"
   },
   {
    "duration": 33,
    "start_time": "2022-07-12T14:15:35.917Z"
   },
   {
    "duration": 5,
    "start_time": "2022-07-12T14:15:35.952Z"
   },
   {
    "duration": 11,
    "start_time": "2022-07-12T14:15:35.958Z"
   },
   {
    "duration": 27,
    "start_time": "2022-07-12T14:15:35.971Z"
   },
   {
    "duration": 18,
    "start_time": "2022-07-12T14:15:36.000Z"
   },
   {
    "duration": 29,
    "start_time": "2022-07-12T14:15:36.020Z"
   },
   {
    "duration": 14,
    "start_time": "2022-07-12T14:15:36.051Z"
   },
   {
    "duration": 6,
    "start_time": "2022-07-12T14:15:36.067Z"
   },
   {
    "duration": 227,
    "start_time": "2022-07-12T14:15:36.075Z"
   },
   {
    "duration": 1255,
    "start_time": "2022-07-12T14:15:36.305Z"
   },
   {
    "duration": 331,
    "start_time": "2022-07-12T14:15:37.562Z"
   },
   {
    "duration": 354,
    "start_time": "2022-07-12T14:15:37.895Z"
   },
   {
    "duration": 20,
    "start_time": "2022-07-12T14:15:38.251Z"
   },
   {
    "duration": 15,
    "start_time": "2022-07-12T14:15:38.273Z"
   },
   {
    "duration": 13,
    "start_time": "2022-07-12T14:15:38.289Z"
   },
   {
    "duration": 364,
    "start_time": "2022-07-12T14:15:38.303Z"
   },
   {
    "duration": 478,
    "start_time": "2022-07-12T14:15:38.668Z"
   },
   {
    "duration": 279,
    "start_time": "2022-07-12T14:15:39.148Z"
   },
   {
    "duration": 6,
    "start_time": "2022-07-12T14:15:39.428Z"
   },
   {
    "duration": 207,
    "start_time": "2022-07-12T14:15:39.445Z"
   },
   {
    "duration": 164,
    "start_time": "2022-07-12T14:15:39.654Z"
   },
   {
    "duration": 1126,
    "start_time": "2022-07-12T14:15:39.820Z"
   },
   {
    "duration": 455,
    "start_time": "2022-07-12T14:15:40.948Z"
   },
   {
    "duration": 1102,
    "start_time": "2022-07-12T14:15:41.404Z"
   },
   {
    "duration": 1205,
    "start_time": "2022-07-12T14:15:42.508Z"
   },
   {
    "duration": 444,
    "start_time": "2022-07-12T14:15:43.714Z"
   },
   {
    "duration": 13,
    "start_time": "2022-07-12T14:15:44.160Z"
   },
   {
    "duration": 14,
    "start_time": "2022-07-12T14:15:44.175Z"
   },
   {
    "duration": 81,
    "start_time": "2022-07-12T14:21:26.858Z"
   },
   {
    "duration": 1308,
    "start_time": "2022-07-12T14:22:58.690Z"
   },
   {
    "duration": 22,
    "start_time": "2022-07-12T14:23:00.001Z"
   },
   {
    "duration": 48,
    "start_time": "2022-07-12T14:23:00.025Z"
   },
   {
    "duration": 4,
    "start_time": "2022-07-12T14:23:00.076Z"
   },
   {
    "duration": 21,
    "start_time": "2022-07-12T14:23:00.083Z"
   },
   {
    "duration": 8,
    "start_time": "2022-07-12T14:23:00.106Z"
   },
   {
    "duration": 24,
    "start_time": "2022-07-12T14:23:00.116Z"
   },
   {
    "duration": 47,
    "start_time": "2022-07-12T14:23:00.142Z"
   },
   {
    "duration": 19,
    "start_time": "2022-07-12T14:23:00.191Z"
   },
   {
    "duration": 8,
    "start_time": "2022-07-12T14:23:00.212Z"
   },
   {
    "duration": 24,
    "start_time": "2022-07-12T14:23:00.222Z"
   },
   {
    "duration": 13,
    "start_time": "2022-07-12T14:23:00.248Z"
   },
   {
    "duration": 95,
    "start_time": "2022-07-12T14:23:00.263Z"
   },
   {
    "duration": 232,
    "start_time": "2022-07-12T14:23:00.361Z"
   },
   {
    "duration": 1261,
    "start_time": "2022-07-12T14:23:00.595Z"
   },
   {
    "duration": 356,
    "start_time": "2022-07-12T14:23:01.858Z"
   },
   {
    "duration": 360,
    "start_time": "2022-07-12T14:23:02.215Z"
   },
   {
    "duration": 20,
    "start_time": "2022-07-12T14:23:02.577Z"
   },
   {
    "duration": 18,
    "start_time": "2022-07-12T14:23:02.598Z"
   },
   {
    "duration": 39,
    "start_time": "2022-07-12T14:23:02.617Z"
   },
   {
    "duration": 362,
    "start_time": "2022-07-12T14:23:02.658Z"
   },
   {
    "duration": 407,
    "start_time": "2022-07-12T14:23:03.022Z"
   },
   {
    "duration": 275,
    "start_time": "2022-07-12T14:23:03.432Z"
   },
   {
    "duration": 6,
    "start_time": "2022-07-12T14:23:03.708Z"
   },
   {
    "duration": 205,
    "start_time": "2022-07-12T14:23:03.715Z"
   },
   {
    "duration": 215,
    "start_time": "2022-07-12T14:23:03.923Z"
   },
   {
    "duration": 1131,
    "start_time": "2022-07-12T14:23:04.139Z"
   },
   {
    "duration": 457,
    "start_time": "2022-07-12T14:23:05.272Z"
   },
   {
    "duration": 1128,
    "start_time": "2022-07-12T14:23:05.731Z"
   },
   {
    "duration": 1232,
    "start_time": "2022-07-12T14:23:06.861Z"
   },
   {
    "duration": 437,
    "start_time": "2022-07-12T14:23:08.095Z"
   },
   {
    "duration": 20,
    "start_time": "2022-07-12T14:23:08.535Z"
   },
   {
    "duration": 25,
    "start_time": "2022-07-12T14:23:08.557Z"
   },
   {
    "duration": 112,
    "start_time": "2022-07-12T14:38:06.810Z"
   },
   {
    "duration": 23,
    "start_time": "2022-07-12T14:38:16.554Z"
   },
   {
    "duration": 7,
    "start_time": "2022-07-12T14:38:40.713Z"
   },
   {
    "duration": 8,
    "start_time": "2022-07-12T14:39:59.980Z"
   },
   {
    "duration": 10,
    "start_time": "2022-07-12T14:49:58.000Z"
   },
   {
    "duration": 48,
    "start_time": "2022-07-12T15:03:15.619Z"
   },
   {
    "duration": 1440,
    "start_time": "2022-07-12T15:03:22.815Z"
   },
   {
    "duration": 15,
    "start_time": "2022-07-12T15:03:24.258Z"
   },
   {
    "duration": 28,
    "start_time": "2022-07-12T15:03:24.275Z"
   },
   {
    "duration": 3,
    "start_time": "2022-07-12T15:03:24.305Z"
   },
   {
    "duration": 11,
    "start_time": "2022-07-12T15:03:24.310Z"
   },
   {
    "duration": 5,
    "start_time": "2022-07-12T15:03:24.322Z"
   },
   {
    "duration": 40,
    "start_time": "2022-07-12T15:03:24.328Z"
   },
   {
    "duration": 22,
    "start_time": "2022-07-12T15:03:24.369Z"
   },
   {
    "duration": 14,
    "start_time": "2022-07-12T15:03:24.392Z"
   },
   {
    "duration": 6,
    "start_time": "2022-07-12T15:03:24.409Z"
   },
   {
    "duration": 16,
    "start_time": "2022-07-12T15:03:24.417Z"
   },
   {
    "duration": 33,
    "start_time": "2022-07-12T15:03:24.434Z"
   },
   {
    "duration": 99,
    "start_time": "2022-07-12T15:03:24.469Z"
   },
   {
    "duration": 219,
    "start_time": "2022-07-12T15:03:24.569Z"
   },
   {
    "duration": 1166,
    "start_time": "2022-07-12T15:03:24.790Z"
   },
   {
    "duration": 312,
    "start_time": "2022-07-12T15:03:25.957Z"
   },
   {
    "duration": 329,
    "start_time": "2022-07-12T15:03:26.271Z"
   },
   {
    "duration": 18,
    "start_time": "2022-07-12T15:03:26.602Z"
   },
   {
    "duration": 15,
    "start_time": "2022-07-12T15:03:26.621Z"
   },
   {
    "duration": 26,
    "start_time": "2022-07-12T15:03:26.638Z"
   },
   {
    "duration": 103,
    "start_time": "2022-07-12T15:03:26.666Z"
   },
   {
    "duration": 0,
    "start_time": "2022-07-12T15:03:26.771Z"
   },
   {
    "duration": 0,
    "start_time": "2022-07-12T15:03:26.772Z"
   },
   {
    "duration": 0,
    "start_time": "2022-07-12T15:03:26.773Z"
   },
   {
    "duration": 0,
    "start_time": "2022-07-12T15:03:26.775Z"
   },
   {
    "duration": 0,
    "start_time": "2022-07-12T15:03:26.776Z"
   },
   {
    "duration": 0,
    "start_time": "2022-07-12T15:03:26.777Z"
   },
   {
    "duration": 0,
    "start_time": "2022-07-12T15:03:26.778Z"
   },
   {
    "duration": 0,
    "start_time": "2022-07-12T15:03:26.780Z"
   },
   {
    "duration": 0,
    "start_time": "2022-07-12T15:03:26.780Z"
   },
   {
    "duration": 0,
    "start_time": "2022-07-12T15:03:26.781Z"
   },
   {
    "duration": 1,
    "start_time": "2022-07-12T15:03:26.782Z"
   },
   {
    "duration": 0,
    "start_time": "2022-07-12T15:03:26.784Z"
   },
   {
    "duration": 0,
    "start_time": "2022-07-12T15:03:26.784Z"
   },
   {
    "duration": 489,
    "start_time": "2022-07-12T15:03:59.920Z"
   },
   {
    "duration": 303,
    "start_time": "2022-07-12T15:08:32.955Z"
   },
   {
    "duration": 256,
    "start_time": "2022-07-12T15:08:37.027Z"
   },
   {
    "duration": 6,
    "start_time": "2022-07-12T15:08:42.970Z"
   },
   {
    "duration": 184,
    "start_time": "2022-07-12T15:08:43.444Z"
   },
   {
    "duration": 160,
    "start_time": "2022-07-12T15:08:45.880Z"
   },
   {
    "duration": 1047,
    "start_time": "2022-07-12T15:08:50.607Z"
   },
   {
    "duration": 426,
    "start_time": "2022-07-12T15:08:59.138Z"
   },
   {
    "duration": 1176,
    "start_time": "2022-07-12T15:09:27.357Z"
   },
   {
    "duration": 1290,
    "start_time": "2022-07-12T15:10:11.455Z"
   },
   {
    "duration": 8,
    "start_time": "2022-07-12T15:12:41.063Z"
   },
   {
    "duration": 5,
    "start_time": "2022-07-12T15:12:58.677Z"
   },
   {
    "duration": 1249,
    "start_time": "2022-07-12T15:13:08.299Z"
   },
   {
    "duration": 14,
    "start_time": "2022-07-12T15:13:09.551Z"
   },
   {
    "duration": 39,
    "start_time": "2022-07-12T15:13:09.567Z"
   },
   {
    "duration": 2,
    "start_time": "2022-07-12T15:13:09.608Z"
   },
   {
    "duration": 59,
    "start_time": "2022-07-12T15:13:09.612Z"
   },
   {
    "duration": 3,
    "start_time": "2022-07-12T15:13:09.674Z"
   },
   {
    "duration": 8,
    "start_time": "2022-07-12T15:13:09.679Z"
   },
   {
    "duration": 23,
    "start_time": "2022-07-12T15:13:09.688Z"
   },
   {
    "duration": 14,
    "start_time": "2022-07-12T15:13:09.712Z"
   },
   {
    "duration": 7,
    "start_time": "2022-07-12T15:13:09.728Z"
   },
   {
    "duration": 14,
    "start_time": "2022-07-12T15:13:09.736Z"
   },
   {
    "duration": 5,
    "start_time": "2022-07-12T15:13:09.764Z"
   },
   {
    "duration": 128,
    "start_time": "2022-07-12T15:13:09.770Z"
   },
   {
    "duration": 6,
    "start_time": "2022-07-12T15:13:09.900Z"
   },
   {
    "duration": 256,
    "start_time": "2022-07-12T15:13:09.907Z"
   },
   {
    "duration": 1199,
    "start_time": "2022-07-12T15:13:10.165Z"
   },
   {
    "duration": 333,
    "start_time": "2022-07-12T15:13:11.366Z"
   },
   {
    "duration": 336,
    "start_time": "2022-07-12T15:13:11.700Z"
   },
   {
    "duration": 28,
    "start_time": "2022-07-12T15:13:12.038Z"
   },
   {
    "duration": 18,
    "start_time": "2022-07-12T15:13:12.067Z"
   },
   {
    "duration": 10,
    "start_time": "2022-07-12T15:13:12.086Z"
   },
   {
    "duration": 406,
    "start_time": "2022-07-12T15:13:12.098Z"
   },
   {
    "duration": 473,
    "start_time": "2022-07-12T15:13:12.505Z"
   },
   {
    "duration": 268,
    "start_time": "2022-07-12T15:13:12.980Z"
   },
   {
    "duration": 6,
    "start_time": "2022-07-12T15:13:13.249Z"
   },
   {
    "duration": 199,
    "start_time": "2022-07-12T15:13:13.264Z"
   },
   {
    "duration": 233,
    "start_time": "2022-07-12T15:13:13.465Z"
   },
   {
    "duration": 0,
    "start_time": "2022-07-12T15:13:13.700Z"
   },
   {
    "duration": 0,
    "start_time": "2022-07-12T15:13:13.701Z"
   },
   {
    "duration": 0,
    "start_time": "2022-07-12T15:13:13.703Z"
   },
   {
    "duration": 0,
    "start_time": "2022-07-12T15:13:13.704Z"
   },
   {
    "duration": 0,
    "start_time": "2022-07-12T15:13:13.705Z"
   },
   {
    "duration": 0,
    "start_time": "2022-07-12T15:13:13.707Z"
   },
   {
    "duration": 0,
    "start_time": "2022-07-12T15:13:13.708Z"
   },
   {
    "duration": 0,
    "start_time": "2022-07-12T15:13:13.710Z"
   },
   {
    "duration": 133,
    "start_time": "2022-07-12T15:13:49.118Z"
   },
   {
    "duration": 5,
    "start_time": "2022-07-12T15:14:21.841Z"
   },
   {
    "duration": 1271,
    "start_time": "2022-07-12T15:14:30.260Z"
   },
   {
    "duration": 13,
    "start_time": "2022-07-12T15:14:31.533Z"
   },
   {
    "duration": 28,
    "start_time": "2022-07-12T15:14:31.548Z"
   },
   {
    "duration": 3,
    "start_time": "2022-07-12T15:14:31.578Z"
   },
   {
    "duration": 17,
    "start_time": "2022-07-12T15:14:31.583Z"
   },
   {
    "duration": 19,
    "start_time": "2022-07-12T15:14:31.601Z"
   },
   {
    "duration": 16,
    "start_time": "2022-07-12T15:14:31.622Z"
   },
   {
    "duration": 34,
    "start_time": "2022-07-12T15:14:31.640Z"
   },
   {
    "duration": 23,
    "start_time": "2022-07-12T15:14:31.676Z"
   },
   {
    "duration": 6,
    "start_time": "2022-07-12T15:14:31.701Z"
   },
   {
    "duration": 32,
    "start_time": "2022-07-12T15:14:31.708Z"
   },
   {
    "duration": 23,
    "start_time": "2022-07-12T15:14:31.742Z"
   },
   {
    "duration": 86,
    "start_time": "2022-07-12T15:14:31.767Z"
   },
   {
    "duration": 5,
    "start_time": "2022-07-12T15:14:31.856Z"
   },
   {
    "duration": 227,
    "start_time": "2022-07-12T15:14:31.863Z"
   },
   {
    "duration": 1232,
    "start_time": "2022-07-12T15:14:32.092Z"
   },
   {
    "duration": 318,
    "start_time": "2022-07-12T15:14:33.325Z"
   },
   {
    "duration": 343,
    "start_time": "2022-07-12T15:14:33.645Z"
   },
   {
    "duration": 19,
    "start_time": "2022-07-12T15:14:33.991Z"
   },
   {
    "duration": 16,
    "start_time": "2022-07-12T15:14:34.012Z"
   },
   {
    "duration": 36,
    "start_time": "2022-07-12T15:14:34.030Z"
   },
   {
    "duration": 376,
    "start_time": "2022-07-12T15:14:34.068Z"
   },
   {
    "duration": 388,
    "start_time": "2022-07-12T15:14:34.447Z"
   },
   {
    "duration": 267,
    "start_time": "2022-07-12T15:14:34.838Z"
   },
   {
    "duration": 7,
    "start_time": "2022-07-12T15:14:35.107Z"
   },
   {
    "duration": 215,
    "start_time": "2022-07-12T15:14:35.115Z"
   },
   {
    "duration": 181,
    "start_time": "2022-07-12T15:14:35.332Z"
   },
   {
    "duration": 1067,
    "start_time": "2022-07-12T15:14:35.515Z"
   },
   {
    "duration": 419,
    "start_time": "2022-07-12T15:14:36.584Z"
   },
   {
    "duration": 1220,
    "start_time": "2022-07-12T15:14:37.005Z"
   },
   {
    "duration": 1239,
    "start_time": "2022-07-12T15:14:38.227Z"
   },
   {
    "duration": 424,
    "start_time": "2022-07-12T15:14:39.468Z"
   },
   {
    "duration": 9,
    "start_time": "2022-07-12T15:14:39.894Z"
   },
   {
    "duration": 14,
    "start_time": "2022-07-12T15:14:39.904Z"
   },
   {
    "duration": 17,
    "start_time": "2022-07-12T15:14:39.919Z"
   },
   {
    "duration": 99,
    "start_time": "2022-07-12T15:33:19.235Z"
   },
   {
    "duration": 1193,
    "start_time": "2022-07-12T15:33:26.441Z"
   },
   {
    "duration": 14,
    "start_time": "2022-07-12T15:33:27.636Z"
   },
   {
    "duration": 27,
    "start_time": "2022-07-12T15:33:27.652Z"
   },
   {
    "duration": 3,
    "start_time": "2022-07-12T15:33:27.681Z"
   },
   {
    "duration": 9,
    "start_time": "2022-07-12T15:33:27.686Z"
   },
   {
    "duration": 3,
    "start_time": "2022-07-12T15:33:27.697Z"
   },
   {
    "duration": 20,
    "start_time": "2022-07-12T15:33:27.701Z"
   },
   {
    "duration": 22,
    "start_time": "2022-07-12T15:33:27.722Z"
   },
   {
    "duration": 22,
    "start_time": "2022-07-12T15:33:27.745Z"
   },
   {
    "duration": 7,
    "start_time": "2022-07-12T15:33:27.769Z"
   },
   {
    "duration": 16,
    "start_time": "2022-07-12T15:33:27.777Z"
   },
   {
    "duration": 4,
    "start_time": "2022-07-12T15:33:27.795Z"
   },
   {
    "duration": 85,
    "start_time": "2022-07-12T15:33:27.801Z"
   },
   {
    "duration": 4,
    "start_time": "2022-07-12T15:33:27.888Z"
   },
   {
    "duration": 218,
    "start_time": "2022-07-12T15:33:27.893Z"
   },
   {
    "duration": 1195,
    "start_time": "2022-07-12T15:33:28.113Z"
   },
   {
    "duration": 328,
    "start_time": "2022-07-12T15:33:29.310Z"
   },
   {
    "duration": 336,
    "start_time": "2022-07-12T15:33:29.640Z"
   },
   {
    "duration": 21,
    "start_time": "2022-07-12T15:33:29.978Z"
   },
   {
    "duration": 17,
    "start_time": "2022-07-12T15:33:30.001Z"
   },
   {
    "duration": 20,
    "start_time": "2022-07-12T15:33:30.020Z"
   },
   {
    "duration": 404,
    "start_time": "2022-07-12T15:33:30.063Z"
   },
   {
    "duration": 429,
    "start_time": "2022-07-12T15:33:30.469Z"
   },
   {
    "duration": 281,
    "start_time": "2022-07-12T15:33:30.900Z"
   },
   {
    "duration": 5,
    "start_time": "2022-07-12T15:33:31.183Z"
   },
   {
    "duration": 212,
    "start_time": "2022-07-12T15:33:31.189Z"
   },
   {
    "duration": 189,
    "start_time": "2022-07-12T15:33:31.403Z"
   },
   {
    "duration": 1156,
    "start_time": "2022-07-12T15:33:31.595Z"
   },
   {
    "duration": 435,
    "start_time": "2022-07-12T15:33:32.765Z"
   },
   {
    "duration": 1178,
    "start_time": "2022-07-12T15:33:33.202Z"
   },
   {
    "duration": 103,
    "start_time": "2022-07-12T15:33:34.382Z"
   },
   {
    "duration": 0,
    "start_time": "2022-07-12T15:33:34.487Z"
   },
   {
    "duration": 0,
    "start_time": "2022-07-12T15:33:34.488Z"
   },
   {
    "duration": 0,
    "start_time": "2022-07-12T15:33:34.489Z"
   },
   {
    "duration": 1,
    "start_time": "2022-07-12T15:33:34.489Z"
   },
   {
    "duration": 14,
    "start_time": "2022-07-12T15:33:55.963Z"
   },
   {
    "duration": 117,
    "start_time": "2022-07-12T15:34:08.536Z"
   },
   {
    "duration": 1172,
    "start_time": "2022-07-12T15:34:33.434Z"
   },
   {
    "duration": 401,
    "start_time": "2022-07-12T15:34:39.861Z"
   },
   {
    "duration": 4,
    "start_time": "2022-07-12T16:03:36.997Z"
   },
   {
    "duration": 50,
    "start_time": "2022-07-12T16:03:37.495Z"
   },
   {
    "duration": 578,
    "start_time": "2022-07-12T16:08:44.512Z"
   },
   {
    "duration": 491,
    "start_time": "2022-07-12T16:08:51.590Z"
   },
   {
    "duration": 126,
    "start_time": "2022-07-12T16:11:40.355Z"
   },
   {
    "duration": 1260,
    "start_time": "2022-07-12T16:12:12.192Z"
   },
   {
    "duration": 51,
    "start_time": "2022-07-12T16:15:14.727Z"
   },
   {
    "duration": 1254,
    "start_time": "2022-07-12T16:15:31.820Z"
   },
   {
    "duration": 9,
    "start_time": "2022-07-12T16:17:25.133Z"
   },
   {
    "duration": 1134,
    "start_time": "2022-07-12T16:18:01.245Z"
   },
   {
    "duration": 56,
    "start_time": "2022-07-12T16:18:02.381Z"
   },
   {
    "duration": 14,
    "start_time": "2022-07-12T16:18:02.441Z"
   },
   {
    "duration": 34,
    "start_time": "2022-07-12T16:18:02.458Z"
   },
   {
    "duration": 2,
    "start_time": "2022-07-12T16:18:02.494Z"
   },
   {
    "duration": 14,
    "start_time": "2022-07-12T16:18:02.498Z"
   },
   {
    "duration": 8,
    "start_time": "2022-07-12T16:18:02.517Z"
   },
   {
    "duration": 21,
    "start_time": "2022-07-12T16:18:02.527Z"
   },
   {
    "duration": 50,
    "start_time": "2022-07-12T16:18:02.550Z"
   },
   {
    "duration": 23,
    "start_time": "2022-07-12T16:18:02.602Z"
   },
   {
    "duration": 54,
    "start_time": "2022-07-12T16:18:02.627Z"
   },
   {
    "duration": 30,
    "start_time": "2022-07-12T16:18:02.684Z"
   },
   {
    "duration": 14,
    "start_time": "2022-07-12T16:18:02.718Z"
   },
   {
    "duration": 99,
    "start_time": "2022-07-12T16:18:02.734Z"
   },
   {
    "duration": 4,
    "start_time": "2022-07-12T16:18:02.834Z"
   },
   {
    "duration": 212,
    "start_time": "2022-07-12T16:18:02.840Z"
   },
   {
    "duration": 1167,
    "start_time": "2022-07-12T16:18:03.053Z"
   },
   {
    "duration": 313,
    "start_time": "2022-07-12T16:18:04.221Z"
   },
   {
    "duration": 346,
    "start_time": "2022-07-12T16:18:04.536Z"
   },
   {
    "duration": 19,
    "start_time": "2022-07-12T16:18:04.884Z"
   },
   {
    "duration": 15,
    "start_time": "2022-07-12T16:18:04.905Z"
   },
   {
    "duration": 12,
    "start_time": "2022-07-12T16:18:04.922Z"
   },
   {
    "duration": 397,
    "start_time": "2022-07-12T16:18:04.936Z"
   },
   {
    "duration": 378,
    "start_time": "2022-07-12T16:18:05.334Z"
   },
   {
    "duration": 538,
    "start_time": "2022-07-12T16:18:05.713Z"
   },
   {
    "duration": 5,
    "start_time": "2022-07-12T16:18:06.253Z"
   },
   {
    "duration": 177,
    "start_time": "2022-07-12T16:18:06.264Z"
   },
   {
    "duration": 166,
    "start_time": "2022-07-12T16:18:06.443Z"
   },
   {
    "duration": 1086,
    "start_time": "2022-07-12T16:18:06.611Z"
   },
   {
    "duration": 436,
    "start_time": "2022-07-12T16:18:07.699Z"
   },
   {
    "duration": 1193,
    "start_time": "2022-07-12T16:18:08.137Z"
   },
   {
    "duration": 1270,
    "start_time": "2022-07-12T16:18:09.331Z"
   },
   {
    "duration": 434,
    "start_time": "2022-07-12T16:18:10.603Z"
   },
   {
    "duration": 8,
    "start_time": "2022-07-12T16:18:11.039Z"
   },
   {
    "duration": 32,
    "start_time": "2022-07-12T16:18:11.049Z"
   },
   {
    "duration": 7,
    "start_time": "2022-07-12T16:18:11.083Z"
   },
   {
    "duration": 7,
    "start_time": "2022-07-12T16:18:11.092Z"
   },
   {
    "duration": 14,
    "start_time": "2022-07-12T16:18:11.101Z"
   },
   {
    "duration": 6,
    "start_time": "2022-07-12T16:19:40.721Z"
   },
   {
    "duration": 4,
    "start_time": "2022-07-12T16:19:49.451Z"
   },
   {
    "duration": 10,
    "start_time": "2022-07-12T17:03:34.314Z"
   },
   {
    "duration": 15,
    "start_time": "2022-07-12T17:03:47.157Z"
   },
   {
    "duration": 11,
    "start_time": "2022-07-12T17:04:25.677Z"
   },
   {
    "duration": 17,
    "start_time": "2022-07-12T17:04:36.450Z"
   },
   {
    "duration": 15,
    "start_time": "2022-07-12T17:04:49.901Z"
   },
   {
    "duration": 887,
    "start_time": "2022-07-12T17:16:52.264Z"
   },
   {
    "duration": 1165,
    "start_time": "2022-07-12T17:18:02.784Z"
   },
   {
    "duration": 138,
    "start_time": "2022-07-12T17:25:31.882Z"
   },
   {
    "duration": 936,
    "start_time": "2022-07-12T17:25:42.021Z"
   },
   {
    "duration": 271,
    "start_time": "2022-07-12T17:27:06.266Z"
   },
   {
    "duration": 351,
    "start_time": "2022-07-12T17:27:29.168Z"
   },
   {
    "duration": 277,
    "start_time": "2022-07-12T17:27:51.986Z"
   },
   {
    "duration": 13,
    "start_time": "2022-07-12T17:30:59.791Z"
   },
   {
    "duration": 266,
    "start_time": "2022-07-12T17:31:06.870Z"
   },
   {
    "duration": 292,
    "start_time": "2022-07-12T17:34:02.699Z"
   },
   {
    "duration": 5,
    "start_time": "2022-07-12T17:34:28.053Z"
   },
   {
    "duration": 1184,
    "start_time": "2022-07-12T17:35:00.788Z"
   },
   {
    "duration": 56,
    "start_time": "2022-07-12T17:35:01.973Z"
   },
   {
    "duration": 15,
    "start_time": "2022-07-12T17:35:02.030Z"
   },
   {
    "duration": 43,
    "start_time": "2022-07-12T17:35:02.047Z"
   },
   {
    "duration": 24,
    "start_time": "2022-07-12T17:35:02.092Z"
   },
   {
    "duration": 53,
    "start_time": "2022-07-12T17:35:02.118Z"
   },
   {
    "duration": 8,
    "start_time": "2022-07-12T17:35:02.173Z"
   },
   {
    "duration": 12,
    "start_time": "2022-07-12T17:35:02.183Z"
   },
   {
    "duration": 23,
    "start_time": "2022-07-12T17:35:02.196Z"
   },
   {
    "duration": 24,
    "start_time": "2022-07-12T17:35:02.222Z"
   },
   {
    "duration": 7,
    "start_time": "2022-07-12T17:35:02.247Z"
   },
   {
    "duration": 16,
    "start_time": "2022-07-12T17:35:02.256Z"
   },
   {
    "duration": 4,
    "start_time": "2022-07-12T17:35:02.274Z"
   },
   {
    "duration": 87,
    "start_time": "2022-07-12T17:35:02.279Z"
   },
   {
    "duration": 5,
    "start_time": "2022-07-12T17:35:02.368Z"
   },
   {
    "duration": 230,
    "start_time": "2022-07-12T17:35:02.375Z"
   },
   {
    "duration": 1197,
    "start_time": "2022-07-12T17:35:02.607Z"
   },
   {
    "duration": 315,
    "start_time": "2022-07-12T17:35:03.806Z"
   },
   {
    "duration": 322,
    "start_time": "2022-07-12T17:35:04.123Z"
   },
   {
    "duration": 27,
    "start_time": "2022-07-12T17:35:04.447Z"
   },
   {
    "duration": 15,
    "start_time": "2022-07-12T17:35:04.476Z"
   },
   {
    "duration": 11,
    "start_time": "2022-07-12T17:35:04.492Z"
   },
   {
    "duration": 389,
    "start_time": "2022-07-12T17:35:04.504Z"
   },
   {
    "duration": 405,
    "start_time": "2022-07-12T17:35:04.895Z"
   },
   {
    "duration": 500,
    "start_time": "2022-07-12T17:35:05.302Z"
   },
   {
    "duration": 5,
    "start_time": "2022-07-12T17:35:05.803Z"
   },
   {
    "duration": 183,
    "start_time": "2022-07-12T17:35:05.810Z"
   },
   {
    "duration": 167,
    "start_time": "2022-07-12T17:35:05.996Z"
   },
   {
    "duration": 1042,
    "start_time": "2022-07-12T17:35:06.165Z"
   },
   {
    "duration": 434,
    "start_time": "2022-07-12T17:35:07.208Z"
   },
   {
    "duration": 1167,
    "start_time": "2022-07-12T17:35:07.643Z"
   },
   {
    "duration": 302,
    "start_time": "2022-07-12T17:35:08.812Z"
   },
   {
    "duration": 426,
    "start_time": "2022-07-12T17:35:09.116Z"
   },
   {
    "duration": 8,
    "start_time": "2022-07-12T17:35:09.544Z"
   },
   {
    "duration": 20,
    "start_time": "2022-07-12T17:35:09.553Z"
   },
   {
    "duration": 5,
    "start_time": "2022-07-12T17:35:09.575Z"
   },
   {
    "duration": 9,
    "start_time": "2022-07-12T17:35:09.582Z"
   },
   {
    "duration": 16,
    "start_time": "2022-07-12T17:35:09.592Z"
   },
   {
    "duration": 4,
    "start_time": "2022-07-12T17:35:09.609Z"
   },
   {
    "duration": 7,
    "start_time": "2022-07-12T17:35:09.615Z"
   },
   {
    "duration": 1121,
    "start_time": "2022-07-12T17:39:21.582Z"
   },
   {
    "duration": 73,
    "start_time": "2022-07-12T17:39:22.706Z"
   },
   {
    "duration": 16,
    "start_time": "2022-07-12T17:39:22.780Z"
   },
   {
    "duration": 27,
    "start_time": "2022-07-12T17:39:22.798Z"
   },
   {
    "duration": 2,
    "start_time": "2022-07-12T17:39:22.827Z"
   },
   {
    "duration": 12,
    "start_time": "2022-07-12T17:39:22.831Z"
   },
   {
    "duration": 20,
    "start_time": "2022-07-12T17:39:22.844Z"
   },
   {
    "duration": 10,
    "start_time": "2022-07-12T17:39:22.865Z"
   },
   {
    "duration": 24,
    "start_time": "2022-07-12T17:39:22.876Z"
   },
   {
    "duration": 14,
    "start_time": "2022-07-12T17:39:22.902Z"
   },
   {
    "duration": 7,
    "start_time": "2022-07-12T17:39:22.918Z"
   },
   {
    "duration": 38,
    "start_time": "2022-07-12T17:39:22.926Z"
   },
   {
    "duration": 5,
    "start_time": "2022-07-12T17:39:22.966Z"
   },
   {
    "duration": 75,
    "start_time": "2022-07-12T17:39:22.974Z"
   },
   {
    "duration": 4,
    "start_time": "2022-07-12T17:39:23.064Z"
   },
   {
    "duration": 219,
    "start_time": "2022-07-12T17:39:23.070Z"
   },
   {
    "duration": 1157,
    "start_time": "2022-07-12T17:39:23.291Z"
   },
   {
    "duration": 316,
    "start_time": "2022-07-12T17:39:24.449Z"
   },
   {
    "duration": 335,
    "start_time": "2022-07-12T17:39:24.767Z"
   },
   {
    "duration": 19,
    "start_time": "2022-07-12T17:39:25.104Z"
   },
   {
    "duration": 15,
    "start_time": "2022-07-12T17:39:25.124Z"
   },
   {
    "duration": 28,
    "start_time": "2022-07-12T17:39:25.141Z"
   },
   {
    "duration": 376,
    "start_time": "2022-07-12T17:39:25.171Z"
   },
   {
    "duration": 365,
    "start_time": "2022-07-12T17:39:25.549Z"
   },
   {
    "duration": 516,
    "start_time": "2022-07-12T17:39:25.916Z"
   },
   {
    "duration": 6,
    "start_time": "2022-07-12T17:39:26.433Z"
   },
   {
    "duration": 195,
    "start_time": "2022-07-12T17:39:26.441Z"
   },
   {
    "duration": 155,
    "start_time": "2022-07-12T17:39:26.637Z"
   },
   {
    "duration": 1094,
    "start_time": "2022-07-12T17:39:26.794Z"
   },
   {
    "duration": 437,
    "start_time": "2022-07-12T17:39:27.890Z"
   },
   {
    "duration": 1144,
    "start_time": "2022-07-12T17:39:28.329Z"
   },
   {
    "duration": 272,
    "start_time": "2022-07-12T17:39:29.475Z"
   },
   {
    "duration": 430,
    "start_time": "2022-07-12T17:39:29.749Z"
   },
   {
    "duration": 9,
    "start_time": "2022-07-12T17:39:30.181Z"
   },
   {
    "duration": 13,
    "start_time": "2022-07-12T17:39:30.192Z"
   },
   {
    "duration": 8,
    "start_time": "2022-07-12T17:39:30.207Z"
   },
   {
    "duration": 7,
    "start_time": "2022-07-12T17:39:30.216Z"
   },
   {
    "duration": 16,
    "start_time": "2022-07-12T17:39:30.225Z"
   },
   {
    "duration": 5,
    "start_time": "2022-07-12T17:39:30.264Z"
   },
   {
    "duration": 8,
    "start_time": "2022-07-12T17:39:30.270Z"
   },
   {
    "duration": 1205,
    "start_time": "2022-07-12T20:50:32.996Z"
   },
   {
    "duration": 221,
    "start_time": "2022-07-12T20:50:34.203Z"
   },
   {
    "duration": 15,
    "start_time": "2022-07-12T20:50:34.426Z"
   },
   {
    "duration": 31,
    "start_time": "2022-07-12T20:50:34.443Z"
   },
   {
    "duration": 3,
    "start_time": "2022-07-12T20:50:34.476Z"
   },
   {
    "duration": 27,
    "start_time": "2022-07-12T20:50:34.481Z"
   },
   {
    "duration": 5,
    "start_time": "2022-07-12T20:50:34.510Z"
   },
   {
    "duration": 11,
    "start_time": "2022-07-12T20:50:34.516Z"
   },
   {
    "duration": 23,
    "start_time": "2022-07-12T20:50:34.528Z"
   },
   {
    "duration": 15,
    "start_time": "2022-07-12T20:50:34.553Z"
   },
   {
    "duration": 7,
    "start_time": "2022-07-12T20:50:34.569Z"
   },
   {
    "duration": 38,
    "start_time": "2022-07-12T20:50:34.577Z"
   },
   {
    "duration": 30,
    "start_time": "2022-07-12T20:50:34.617Z"
   },
   {
    "duration": 99,
    "start_time": "2022-07-12T20:50:34.650Z"
   },
   {
    "duration": 6,
    "start_time": "2022-07-12T20:50:34.750Z"
   },
   {
    "duration": 228,
    "start_time": "2022-07-12T20:50:34.758Z"
   },
   {
    "duration": 1362,
    "start_time": "2022-07-12T20:50:34.988Z"
   },
   {
    "duration": 352,
    "start_time": "2022-07-12T20:50:36.352Z"
   },
   {
    "duration": 470,
    "start_time": "2022-07-12T20:50:36.706Z"
   },
   {
    "duration": 34,
    "start_time": "2022-07-12T20:50:37.177Z"
   },
   {
    "duration": 18,
    "start_time": "2022-07-12T20:50:37.213Z"
   },
   {
    "duration": 13,
    "start_time": "2022-07-12T20:50:37.233Z"
   },
   {
    "duration": 426,
    "start_time": "2022-07-12T20:50:37.248Z"
   },
   {
    "duration": 381,
    "start_time": "2022-07-12T20:50:37.676Z"
   },
   {
    "duration": 521,
    "start_time": "2022-07-12T20:50:38.059Z"
   },
   {
    "duration": 5,
    "start_time": "2022-07-12T20:50:38.581Z"
   },
   {
    "duration": 207,
    "start_time": "2022-07-12T20:50:38.588Z"
   },
   {
    "duration": 183,
    "start_time": "2022-07-12T20:50:38.797Z"
   },
   {
    "duration": 1129,
    "start_time": "2022-07-12T20:50:38.982Z"
   },
   {
    "duration": 485,
    "start_time": "2022-07-12T20:50:40.112Z"
   },
   {
    "duration": 1217,
    "start_time": "2022-07-12T20:50:40.599Z"
   },
   {
    "duration": 287,
    "start_time": "2022-07-12T20:50:41.818Z"
   },
   {
    "duration": 448,
    "start_time": "2022-07-12T20:50:42.107Z"
   },
   {
    "duration": 14,
    "start_time": "2022-07-12T20:50:42.557Z"
   },
   {
    "duration": 18,
    "start_time": "2022-07-12T20:50:42.573Z"
   },
   {
    "duration": 7,
    "start_time": "2022-07-12T20:50:42.604Z"
   },
   {
    "duration": 6,
    "start_time": "2022-07-12T20:50:42.613Z"
   },
   {
    "duration": 15,
    "start_time": "2022-07-12T20:50:42.621Z"
   },
   {
    "duration": 4,
    "start_time": "2022-07-12T20:50:42.638Z"
   },
   {
    "duration": 6,
    "start_time": "2022-07-12T20:50:42.644Z"
   }
  ],
  "kernelspec": {
   "display_name": "Python 3 (ipykernel)",
   "language": "python",
   "name": "python3"
  },
  "language_info": {
   "codemirror_mode": {
    "name": "ipython",
    "version": 3
   },
   "file_extension": ".py",
   "mimetype": "text/x-python",
   "name": "python",
   "nbconvert_exporter": "python",
   "pygments_lexer": "ipython3",
   "version": "3.9.12"
  },
  "toc": {
   "base_numbering": 1,
   "nav_menu": {},
   "number_sections": true,
   "sideBar": true,
   "skip_h1_title": true,
   "title_cell": "Table of Contents",
   "title_sidebar": "Contents",
   "toc_cell": false,
   "toc_position": {},
   "toc_section_display": true,
   "toc_window_display": false
  }
 },
 "nbformat": 4,
 "nbformat_minor": 2
}
